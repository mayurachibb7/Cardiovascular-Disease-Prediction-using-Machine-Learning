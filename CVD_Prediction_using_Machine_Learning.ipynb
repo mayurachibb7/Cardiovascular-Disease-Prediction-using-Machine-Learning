{
  "nbformat": 4,
  "nbformat_minor": 0,
  "metadata": {
    "colab": {
      "provenance": [],
      "machine_shape": "hm"
    },
    "language_info": {
      "codemirror_mode": {
        "name": "ipython",
        "version": 3
      },
      "file_extension": ".py",
      "mimetype": "text/x-python",
      "name": "python",
      "nbconvert_exporter": "python",
      "pygments_lexer": "ipython3",
      "version": "3.6.5"
    },
    "kernelspec": {
      "display_name": "Python 3",
      "language": "python",
      "name": "python3"
    },
    "accelerator": "GPU",
    "gpuClass": "premium"
  },
  "cells": [
    {
      "cell_type": "code",
      "source": [
        "!pip install scikit-learn==0.23.1"
      ],
      "metadata": {
        "id": "YCrkDI8YVH1N",
        "colab": {
          "base_uri": "https://localhost:8080/"
        },
        "outputId": "00db99a0-e746-4696-8bcc-08a7bb84abec"
      },
      "execution_count": null,
      "outputs": [
        {
          "output_type": "stream",
          "name": "stdout",
          "text": [
            "Looking in indexes: https://pypi.org/simple, https://us-python.pkg.dev/colab-wheels/public/simple/\n",
            "Collecting scikit-learn==0.23.1\n",
            "  Downloading scikit_learn-0.23.1-cp37-cp37m-manylinux1_x86_64.whl (6.8 MB)\n",
            "\u001b[K     |████████████████████████████████| 6.8 MB 4.3 MB/s \n",
            "\u001b[?25hRequirement already satisfied: threadpoolctl>=2.0.0 in /usr/local/lib/python3.7/dist-packages (from scikit-learn==0.23.1) (3.1.0)\n",
            "Requirement already satisfied: joblib>=0.11 in /usr/local/lib/python3.7/dist-packages (from scikit-learn==0.23.1) (1.2.0)\n",
            "Requirement already satisfied: scipy>=0.19.1 in /usr/local/lib/python3.7/dist-packages (from scikit-learn==0.23.1) (1.7.3)\n",
            "Requirement already satisfied: numpy>=1.13.3 in /usr/local/lib/python3.7/dist-packages (from scikit-learn==0.23.1) (1.21.6)\n",
            "Installing collected packages: scikit-learn\n",
            "  Attempting uninstall: scikit-learn\n",
            "    Found existing installation: scikit-learn 1.0.2\n",
            "    Uninstalling scikit-learn-1.0.2:\n",
            "      Successfully uninstalled scikit-learn-1.0.2\n",
            "\u001b[31mERROR: pip's dependency resolver does not currently take into account all the packages that are installed. This behaviour is the source of the following dependency conflicts.\n",
            "yellowbrick 1.5 requires scikit-learn>=1.0.0, but you have scikit-learn 0.23.1 which is incompatible.\n",
            "imbalanced-learn 0.8.1 requires scikit-learn>=0.24, but you have scikit-learn 0.23.1 which is incompatible.\u001b[0m\n",
            "Successfully installed scikit-learn-0.23.1\n"
          ]
        }
      ]
    },
    {
      "cell_type": "markdown",
      "source": [
        "## **Cardiovascular Disease Prediction through Machine Learning**"
      ],
      "metadata": {
        "id": "MJp9i2_9ItXc"
      }
    },
    {
      "cell_type": "markdown",
      "metadata": {
        "id": "ylEEdGq_OQuU"
      },
      "source": [
        "<h1>1. Business Problem</h1>"
      ]
    },
    {
      "cell_type": "markdown",
      "metadata": {
        "id": "enOmIXotOQuV"
      },
      "source": [
        "<h2>1.1. Description of the problem</h2>"
      ]
    },
    {
      "cell_type": "markdown",
      "metadata": {
        "id": "_8luKZvfOQuX"
      },
      "source": [
        "<p> Cardiovascular disease is the leading cause of death in both men and women. In the United States, heart disease accounts to about one million deaths each year.One person dies every 34 seconds in the United States from cardiovascular disease. About 697,000 people in the United States died from heart disease in 2020 which is 1 in every 5 deaths.<p>\n",
        "\n",
        "<p> High blood pressure, high blood cholesterol, and smoking are the key risk factors for heart disease. People with high blood pressure, high LDL cholesterol, low HDL cholesterol, high triglycerides and type 2 diabetes are more prone to heart diseases. Lifestyle choices like eating an unhealthy diet, being overweight and obese, physical inactivity and excessive alcohol are the major contributing factors to heart disease.<p>\n",
        "\n",
        "<p> Predictive methods built using machine learning and deep learning can help in preventing the devastating effect of heart diseases. A patient's factual information, medical examination results and behavioural information can help us in building a good prediction system.<p>\n",
        "\n",
        "<p>In this case study, we will be building a machine learning based cardiovascular disease prediction system which makes predictions by using a patient's factual information, medical examination results and behavioural information.<p>\n",
        "\n"
      ]
    },
    {
      "cell_type": "markdown",
      "metadata": {
        "id": "eOO0zzCjOQuY"
      },
      "source": [
        "<h2>1.2. Real World Problem</h2>"
      ]
    },
    {
      "cell_type": "markdown",
      "source": [
        "<p>Given a datapoint which contains a patient's details, we want to predict whether the patient has heart disease or not.<p>"
      ],
      "metadata": {
        "id": "cjKqx7lFTJbi"
      }
    },
    {
      "cell_type": "markdown",
      "metadata": {
        "id": "0QJkDkarOQuc"
      },
      "source": [
        "<h2>1.3. Real-world/Business objectives and constraints.</h2>"
      ]
    },
    {
      "cell_type": "markdown",
      "metadata": {
        "id": "CCLeDepSOQuc"
      },
      "source": [
        "* No low-latency requirement. This means that given a datapoint which is patient's details, we do not have to make the prediction under 1 ms. We can take a few seconds or a few minutes to make the prediction. No low latency requirement allows us to use more complex models.\n",
        "* Errors can be very costly. Misclassifying a patient who has heart disease and predicting that he does not have heart disease can be dangerous for the patient.\n",
        "* The model should should give the probabilities of a data-point belonging to each class. This is because probability estimates give us more information. They also tell us how certain is the machine learning model while making a certain prediction.\n",
        "*  The model should be interpretable. Since the model is making a crucial decision that whether a patient has heart disease or not, it should be able to give a proper reason for it's prediction. A model's prediction cannot be taken at face value.\n",
        "\n",
        "\n"
      ]
    },
    {
      "cell_type": "markdown",
      "metadata": {
        "id": "3AD25TPFOQud"
      },
      "source": [
        "<h1>2. Machine Learning Problem Formulation</h1>"
      ]
    },
    {
      "cell_type": "markdown",
      "source": [
        "<p> We will now pose our real world problem as a machine learning problem.<p>"
      ],
      "metadata": {
        "id": "60IRvn2qjKcV"
      }
    },
    {
      "cell_type": "markdown",
      "metadata": {
        "id": "kJilLeTgOQuf"
      },
      "source": [
        "<h2>2.1. Data</h2>"
      ]
    },
    {
      "cell_type": "markdown",
      "metadata": {
        "id": "GAkBG-9JOQuf"
      },
      "source": [
        "<h3>2.1.1. Data Overview</h3>"
      ]
    },
    {
      "cell_type": "markdown",
      "metadata": {
        "id": "_xgJzFEHOQuh"
      },
      "source": [
        "- The dataset has been taken from the following source: https://www.kaggle.com/datasets/sulianova/cardiovascular-disease-dataset\n",
        "- There is only one file in the dataset which is cardio_train.csv\n",
        "- This dataset contains three types of patient information which is factual information, results of medical examination and information given by the patient also known as behavioural or subjective information. \n",
        "- There are 11 features and one response label in this dataset. This dataset contains 70000 datapoints.\n",
        "- <p> \n",
        "     Information contained in cardio_train.csv file:\n",
        "    <ul> \n",
        "        <li>\n",
        "        There are three types of input features in this file which are Objective Features, Examination Features and Subjective Features.\n",
        "        </li>\n",
        "        <li>\n",
        "        Age, Height, Weight, Gender are the Objective Features or the factual information about the patient.\n",
        "        </li>\n",
        "        <li>\n",
        "        Systolic blood pressure, Diastolic blood pressure, Cholesterol, Glucose are the Examination Features or the results of medical examination of the patient.\n",
        "        </li>\n",
        "        <li>\n",
        "        Smoking, Alcohol intake, Physical activity are the Subjective Features or the information given by the patient.\n",
        "    </ul>\n",
        "</p>"
      ]
    },
    {
      "cell_type": "markdown",
      "metadata": {
        "id": "lUV7vz1iOQui"
      },
      "source": [
        "<h3>2.1.2. Example Data Point in cardio_train.csv file</h3>"
      ]
    },
    {
      "cell_type": "markdown",
      "metadata": {
        "id": "t4UYmjTIOQuj"
      },
      "source": [
        "<hr>\n",
        "id,age,gender,height,weight,ap_hi,ap_lo,cholestrol,gluc,smoke,alco,active,cardio<br>\n",
        "0,18393,2,168,62.0,110,80,1,1,0,0,1,0<br>"
      ]
    },
    {
      "cell_type": "markdown",
      "metadata": {
        "id": "R3_NkUmXOQuk"
      },
      "source": [
        "<h2>2.2. Mapping the real-world problem to an ML problem</h2>"
      ]
    },
    {
      "cell_type": "markdown",
      "metadata": {
        "id": "89xF097mOQum"
      },
      "source": [
        "<h3>2.2.1. Type of Machine Learning Problem</h3>"
      ]
    },
    {
      "cell_type": "markdown",
      "metadata": {
        "id": "TZqA3ItzOQun"
      },
      "source": [
        "<p>This is a binary classification task because given a datpoint which is a patient's details we have to classify the patient into one of the two classes. He either has a heart disease or he does not have a heart disease.</p>"
      ]
    },
    {
      "cell_type": "markdown",
      "metadata": {
        "id": "9uokTUjYOQuo"
      },
      "source": [
        "<h3>2.2.2. Performance Metrics</h3>"
      ]
    },
    {
      "cell_type": "markdown",
      "metadata": {
        "id": "kg0MC7b6OQup"
      },
      "source": [
        "- <p>  Binary Log Loss \n",
        "  <ul>\n",
        "  <li> We are using binary log loss as our performance metric because we are trying to solve a binary classification problem. Our model will give probability scores as output. Binary log loss is the only metric which uses probability scores. Other metrics like Accuracy, AUC score, precision and recall do not use probability scores. In addition, by using binary log loss, we want to penalize the model for making errors while predicting the class probabilities.\n",
        "  </li>\n",
        "  </ul>\n",
        "  </p>\n",
        "\n",
        "- <p>  Confusion matrix \n",
        "  <ul>\n",
        "  <li> We are using confusion matrix because it is much easier to interpret. By looking at the confusion matrix, we can see the model's performance visually. Although log loss is a good performance metric but it is just one number and is not very interpretable. We are using confusion matrix because we don't want to rely on log loss only.\n"
      ]
    },
    {
      "cell_type": "markdown",
      "metadata": {
        "id": "2rqQ1-rkOQuq"
      },
      "source": [
        "<h3>2.2.3. Machine Learning Objectives and Constraints</h3>"
      ]
    },
    {
      "cell_type": "markdown",
      "source": [
        "- <p>  Objectives\n",
        "  <ul>\n",
        "  <li> We want to predict probability of each datapoint of our dataset belonging to each of the two classes. \n",
        "  </li>\n",
        "  </ul>\n",
        "  </p>\n",
        "\n",
        "- <p> Constraints\n",
        "  <ul>\n",
        "  <li> The model should give probability scores as output.\n",
        "  </li>\n",
        "  <li> We want to penalize the model for making errors while predicting the class probabilities.\n",
        "  </li>\n",
        "  <li> There is no strict low latency requirement.\n",
        "  </li>\n",
        "  <li> The model should be interpretable.\n",
        "\n"
      ],
      "metadata": {
        "id": "y12M2t8R2Ucy"
      }
    },
    {
      "cell_type": "markdown",
      "metadata": {
        "id": "j0VVGc0_OQuu"
      },
      "source": [
        "<h1>3. Exploratory Data Analysis</h1>"
      ]
    },
    {
      "cell_type": "markdown",
      "source": [
        "<h3> Importing the Necessary Libraries<h3>"
      ],
      "metadata": {
        "id": "PnXoABej-Tqx"
      }
    },
    {
      "cell_type": "code",
      "source": [
        "import numpy as np\n",
        "import pandas as pd\n",
        "import matplotlib.pyplot as plt\n",
        "import seaborn as sns\n",
        "\n",
        "from sklearn.preprocessing import MinMaxScaler\n",
        "\n",
        "from sklearn.neighbors import KNeighborsClassifier\n",
        "from sklearn.linear_model import LogisticRegression\n",
        "from sklearn.ensemble import RandomForestClassifier\n",
        "from xgboost import XGBClassifier\n",
        "from sklearn.calibration import CalibratedClassifierCV\n",
        "\n",
        "\n",
        "from sklearn.model_selection import train_test_split\n",
        "from sklearn.model_selection import StratifiedKFold \n",
        "from sklearn.model_selection import RandomizedSearchCV\n",
        "\n",
        "from sklearn.metrics import confusion_matrix\n",
        "from sklearn.metrics import log_loss\n",
        "\n",
        "import time\n",
        "import math\n",
        "import sys\n",
        "\n",
        "import warnings\n",
        "warnings.filterwarnings(\"ignore\")\n"
      ],
      "metadata": {
        "id": "__fVlIF6oGCz"
      },
      "execution_count": null,
      "outputs": []
    },
    {
      "cell_type": "markdown",
      "metadata": {
        "id": "M7AMKFKcOQu1"
      },
      "source": [
        "<h2>3.1. Reading Data</h2>\n"
      ]
    },
    {
      "cell_type": "markdown",
      "source": [
        "- <p> We will use pandas to read the cardio_train.csv file. This file contains 12 features and 70000 datapoints."
      ],
      "metadata": {
        "id": "JsQTj2xK_KAR"
      }
    },
    {
      "cell_type": "code",
      "source": [
        "from google.colab import drive\n",
        "drive.mount('/content/drive')"
      ],
      "metadata": {
        "colab": {
          "base_uri": "https://localhost:8080/"
        },
        "id": "A3AciKXPIbog",
        "outputId": "d628c34c-35c5-4a9e-a893-9be74924a888"
      },
      "execution_count": null,
      "outputs": [
        {
          "output_type": "stream",
          "name": "stdout",
          "text": [
            "Mounted at /content/drive\n"
          ]
        }
      ]
    },
    {
      "cell_type": "code",
      "source": [
        "raw_data = pd.read_csv('/content/drive/MyDrive/Case Study 1/cardio_train.csv', sep=\";\")\n",
        "raw_data.head()"
      ],
      "metadata": {
        "colab": {
          "base_uri": "https://localhost:8080/",
          "height": 206
        },
        "id": "zdCGKi2--pEY",
        "outputId": "56a44d05-0c7d-4d00-d16a-d34c4a90d081"
      },
      "execution_count": null,
      "outputs": [
        {
          "output_type": "execute_result",
          "data": {
            "text/plain": [
              "   id    age  gender  height  weight  ap_hi  ap_lo  cholesterol  gluc  smoke  \\\n",
              "0   0  18393       2     168    62.0    110     80            1     1      0   \n",
              "1   1  20228       1     156    85.0    140     90            3     1      0   \n",
              "2   2  18857       1     165    64.0    130     70            3     1      0   \n",
              "3   3  17623       2     169    82.0    150    100            1     1      0   \n",
              "4   4  17474       1     156    56.0    100     60            1     1      0   \n",
              "\n",
              "   alco  active  cardio  \n",
              "0     0       1       0  \n",
              "1     0       1       1  \n",
              "2     0       0       1  \n",
              "3     0       1       1  \n",
              "4     0       0       0  "
            ],
            "text/html": [
              "\n",
              "  <div id=\"df-095e758a-6b79-4fef-83b8-6ceec76056c7\">\n",
              "    <div class=\"colab-df-container\">\n",
              "      <div>\n",
              "<style scoped>\n",
              "    .dataframe tbody tr th:only-of-type {\n",
              "        vertical-align: middle;\n",
              "    }\n",
              "\n",
              "    .dataframe tbody tr th {\n",
              "        vertical-align: top;\n",
              "    }\n",
              "\n",
              "    .dataframe thead th {\n",
              "        text-align: right;\n",
              "    }\n",
              "</style>\n",
              "<table border=\"1\" class=\"dataframe\">\n",
              "  <thead>\n",
              "    <tr style=\"text-align: right;\">\n",
              "      <th></th>\n",
              "      <th>id</th>\n",
              "      <th>age</th>\n",
              "      <th>gender</th>\n",
              "      <th>height</th>\n",
              "      <th>weight</th>\n",
              "      <th>ap_hi</th>\n",
              "      <th>ap_lo</th>\n",
              "      <th>cholesterol</th>\n",
              "      <th>gluc</th>\n",
              "      <th>smoke</th>\n",
              "      <th>alco</th>\n",
              "      <th>active</th>\n",
              "      <th>cardio</th>\n",
              "    </tr>\n",
              "  </thead>\n",
              "  <tbody>\n",
              "    <tr>\n",
              "      <th>0</th>\n",
              "      <td>0</td>\n",
              "      <td>18393</td>\n",
              "      <td>2</td>\n",
              "      <td>168</td>\n",
              "      <td>62.0</td>\n",
              "      <td>110</td>\n",
              "      <td>80</td>\n",
              "      <td>1</td>\n",
              "      <td>1</td>\n",
              "      <td>0</td>\n",
              "      <td>0</td>\n",
              "      <td>1</td>\n",
              "      <td>0</td>\n",
              "    </tr>\n",
              "    <tr>\n",
              "      <th>1</th>\n",
              "      <td>1</td>\n",
              "      <td>20228</td>\n",
              "      <td>1</td>\n",
              "      <td>156</td>\n",
              "      <td>85.0</td>\n",
              "      <td>140</td>\n",
              "      <td>90</td>\n",
              "      <td>3</td>\n",
              "      <td>1</td>\n",
              "      <td>0</td>\n",
              "      <td>0</td>\n",
              "      <td>1</td>\n",
              "      <td>1</td>\n",
              "    </tr>\n",
              "    <tr>\n",
              "      <th>2</th>\n",
              "      <td>2</td>\n",
              "      <td>18857</td>\n",
              "      <td>1</td>\n",
              "      <td>165</td>\n",
              "      <td>64.0</td>\n",
              "      <td>130</td>\n",
              "      <td>70</td>\n",
              "      <td>3</td>\n",
              "      <td>1</td>\n",
              "      <td>0</td>\n",
              "      <td>0</td>\n",
              "      <td>0</td>\n",
              "      <td>1</td>\n",
              "    </tr>\n",
              "    <tr>\n",
              "      <th>3</th>\n",
              "      <td>3</td>\n",
              "      <td>17623</td>\n",
              "      <td>2</td>\n",
              "      <td>169</td>\n",
              "      <td>82.0</td>\n",
              "      <td>150</td>\n",
              "      <td>100</td>\n",
              "      <td>1</td>\n",
              "      <td>1</td>\n",
              "      <td>0</td>\n",
              "      <td>0</td>\n",
              "      <td>1</td>\n",
              "      <td>1</td>\n",
              "    </tr>\n",
              "    <tr>\n",
              "      <th>4</th>\n",
              "      <td>4</td>\n",
              "      <td>17474</td>\n",
              "      <td>1</td>\n",
              "      <td>156</td>\n",
              "      <td>56.0</td>\n",
              "      <td>100</td>\n",
              "      <td>60</td>\n",
              "      <td>1</td>\n",
              "      <td>1</td>\n",
              "      <td>0</td>\n",
              "      <td>0</td>\n",
              "      <td>0</td>\n",
              "      <td>0</td>\n",
              "    </tr>\n",
              "  </tbody>\n",
              "</table>\n",
              "</div>\n",
              "      <button class=\"colab-df-convert\" onclick=\"convertToInteractive('df-095e758a-6b79-4fef-83b8-6ceec76056c7')\"\n",
              "              title=\"Convert this dataframe to an interactive table.\"\n",
              "              style=\"display:none;\">\n",
              "        \n",
              "  <svg xmlns=\"http://www.w3.org/2000/svg\" height=\"24px\"viewBox=\"0 0 24 24\"\n",
              "       width=\"24px\">\n",
              "    <path d=\"M0 0h24v24H0V0z\" fill=\"none\"/>\n",
              "    <path d=\"M18.56 5.44l.94 2.06.94-2.06 2.06-.94-2.06-.94-.94-2.06-.94 2.06-2.06.94zm-11 1L8.5 8.5l.94-2.06 2.06-.94-2.06-.94L8.5 2.5l-.94 2.06-2.06.94zm10 10l.94 2.06.94-2.06 2.06-.94-2.06-.94-.94-2.06-.94 2.06-2.06.94z\"/><path d=\"M17.41 7.96l-1.37-1.37c-.4-.4-.92-.59-1.43-.59-.52 0-1.04.2-1.43.59L10.3 9.45l-7.72 7.72c-.78.78-.78 2.05 0 2.83L4 21.41c.39.39.9.59 1.41.59.51 0 1.02-.2 1.41-.59l7.78-7.78 2.81-2.81c.8-.78.8-2.07 0-2.86zM5.41 20L4 18.59l7.72-7.72 1.47 1.35L5.41 20z\"/>\n",
              "  </svg>\n",
              "      </button>\n",
              "      \n",
              "  <style>\n",
              "    .colab-df-container {\n",
              "      display:flex;\n",
              "      flex-wrap:wrap;\n",
              "      gap: 12px;\n",
              "    }\n",
              "\n",
              "    .colab-df-convert {\n",
              "      background-color: #E8F0FE;\n",
              "      border: none;\n",
              "      border-radius: 50%;\n",
              "      cursor: pointer;\n",
              "      display: none;\n",
              "      fill: #1967D2;\n",
              "      height: 32px;\n",
              "      padding: 0 0 0 0;\n",
              "      width: 32px;\n",
              "    }\n",
              "\n",
              "    .colab-df-convert:hover {\n",
              "      background-color: #E2EBFA;\n",
              "      box-shadow: 0px 1px 2px rgba(60, 64, 67, 0.3), 0px 1px 3px 1px rgba(60, 64, 67, 0.15);\n",
              "      fill: #174EA6;\n",
              "    }\n",
              "\n",
              "    [theme=dark] .colab-df-convert {\n",
              "      background-color: #3B4455;\n",
              "      fill: #D2E3FC;\n",
              "    }\n",
              "\n",
              "    [theme=dark] .colab-df-convert:hover {\n",
              "      background-color: #434B5C;\n",
              "      box-shadow: 0px 1px 3px 1px rgba(0, 0, 0, 0.15);\n",
              "      filter: drop-shadow(0px 1px 2px rgba(0, 0, 0, 0.3));\n",
              "      fill: #FFFFFF;\n",
              "    }\n",
              "  </style>\n",
              "\n",
              "      <script>\n",
              "        const buttonEl =\n",
              "          document.querySelector('#df-095e758a-6b79-4fef-83b8-6ceec76056c7 button.colab-df-convert');\n",
              "        buttonEl.style.display =\n",
              "          google.colab.kernel.accessAllowed ? 'block' : 'none';\n",
              "\n",
              "        async function convertToInteractive(key) {\n",
              "          const element = document.querySelector('#df-095e758a-6b79-4fef-83b8-6ceec76056c7');\n",
              "          const dataTable =\n",
              "            await google.colab.kernel.invokeFunction('convertToInteractive',\n",
              "                                                     [key], {});\n",
              "          if (!dataTable) return;\n",
              "\n",
              "          const docLinkHtml = 'Like what you see? Visit the ' +\n",
              "            '<a target=\"_blank\" href=https://colab.research.google.com/notebooks/data_table.ipynb>data table notebook</a>'\n",
              "            + ' to learn more about interactive tables.';\n",
              "          element.innerHTML = '';\n",
              "          dataTable['output_type'] = 'display_data';\n",
              "          await google.colab.output.renderOutput(dataTable, element);\n",
              "          const docLink = document.createElement('div');\n",
              "          docLink.innerHTML = docLinkHtml;\n",
              "          element.appendChild(docLink);\n",
              "        }\n",
              "      </script>\n",
              "    </div>\n",
              "  </div>\n",
              "  "
            ]
          },
          "metadata": {},
          "execution_count": 4
        }
      ]
    },
    {
      "cell_type": "code",
      "source": [
        "data=raw_data.copy()\n",
        "data.head()"
      ],
      "metadata": {
        "colab": {
          "base_uri": "https://localhost:8080/",
          "height": 206
        },
        "id": "kYre2nyX2ymL",
        "outputId": "b20c680c-0f57-465f-d253-16fc41c2a077"
      },
      "execution_count": null,
      "outputs": [
        {
          "output_type": "execute_result",
          "data": {
            "text/plain": [
              "   id    age  gender  height  weight  ap_hi  ap_lo  cholesterol  gluc  smoke  \\\n",
              "0   0  18393       2     168    62.0    110     80            1     1      0   \n",
              "1   1  20228       1     156    85.0    140     90            3     1      0   \n",
              "2   2  18857       1     165    64.0    130     70            3     1      0   \n",
              "3   3  17623       2     169    82.0    150    100            1     1      0   \n",
              "4   4  17474       1     156    56.0    100     60            1     1      0   \n",
              "\n",
              "   alco  active  cardio  \n",
              "0     0       1       0  \n",
              "1     0       1       1  \n",
              "2     0       0       1  \n",
              "3     0       1       1  \n",
              "4     0       0       0  "
            ],
            "text/html": [
              "\n",
              "  <div id=\"df-20138953-3d69-40a6-b1be-823ad291cff2\">\n",
              "    <div class=\"colab-df-container\">\n",
              "      <div>\n",
              "<style scoped>\n",
              "    .dataframe tbody tr th:only-of-type {\n",
              "        vertical-align: middle;\n",
              "    }\n",
              "\n",
              "    .dataframe tbody tr th {\n",
              "        vertical-align: top;\n",
              "    }\n",
              "\n",
              "    .dataframe thead th {\n",
              "        text-align: right;\n",
              "    }\n",
              "</style>\n",
              "<table border=\"1\" class=\"dataframe\">\n",
              "  <thead>\n",
              "    <tr style=\"text-align: right;\">\n",
              "      <th></th>\n",
              "      <th>id</th>\n",
              "      <th>age</th>\n",
              "      <th>gender</th>\n",
              "      <th>height</th>\n",
              "      <th>weight</th>\n",
              "      <th>ap_hi</th>\n",
              "      <th>ap_lo</th>\n",
              "      <th>cholesterol</th>\n",
              "      <th>gluc</th>\n",
              "      <th>smoke</th>\n",
              "      <th>alco</th>\n",
              "      <th>active</th>\n",
              "      <th>cardio</th>\n",
              "    </tr>\n",
              "  </thead>\n",
              "  <tbody>\n",
              "    <tr>\n",
              "      <th>0</th>\n",
              "      <td>0</td>\n",
              "      <td>18393</td>\n",
              "      <td>2</td>\n",
              "      <td>168</td>\n",
              "      <td>62.0</td>\n",
              "      <td>110</td>\n",
              "      <td>80</td>\n",
              "      <td>1</td>\n",
              "      <td>1</td>\n",
              "      <td>0</td>\n",
              "      <td>0</td>\n",
              "      <td>1</td>\n",
              "      <td>0</td>\n",
              "    </tr>\n",
              "    <tr>\n",
              "      <th>1</th>\n",
              "      <td>1</td>\n",
              "      <td>20228</td>\n",
              "      <td>1</td>\n",
              "      <td>156</td>\n",
              "      <td>85.0</td>\n",
              "      <td>140</td>\n",
              "      <td>90</td>\n",
              "      <td>3</td>\n",
              "      <td>1</td>\n",
              "      <td>0</td>\n",
              "      <td>0</td>\n",
              "      <td>1</td>\n",
              "      <td>1</td>\n",
              "    </tr>\n",
              "    <tr>\n",
              "      <th>2</th>\n",
              "      <td>2</td>\n",
              "      <td>18857</td>\n",
              "      <td>1</td>\n",
              "      <td>165</td>\n",
              "      <td>64.0</td>\n",
              "      <td>130</td>\n",
              "      <td>70</td>\n",
              "      <td>3</td>\n",
              "      <td>1</td>\n",
              "      <td>0</td>\n",
              "      <td>0</td>\n",
              "      <td>0</td>\n",
              "      <td>1</td>\n",
              "    </tr>\n",
              "    <tr>\n",
              "      <th>3</th>\n",
              "      <td>3</td>\n",
              "      <td>17623</td>\n",
              "      <td>2</td>\n",
              "      <td>169</td>\n",
              "      <td>82.0</td>\n",
              "      <td>150</td>\n",
              "      <td>100</td>\n",
              "      <td>1</td>\n",
              "      <td>1</td>\n",
              "      <td>0</td>\n",
              "      <td>0</td>\n",
              "      <td>1</td>\n",
              "      <td>1</td>\n",
              "    </tr>\n",
              "    <tr>\n",
              "      <th>4</th>\n",
              "      <td>4</td>\n",
              "      <td>17474</td>\n",
              "      <td>1</td>\n",
              "      <td>156</td>\n",
              "      <td>56.0</td>\n",
              "      <td>100</td>\n",
              "      <td>60</td>\n",
              "      <td>1</td>\n",
              "      <td>1</td>\n",
              "      <td>0</td>\n",
              "      <td>0</td>\n",
              "      <td>0</td>\n",
              "      <td>0</td>\n",
              "    </tr>\n",
              "  </tbody>\n",
              "</table>\n",
              "</div>\n",
              "      <button class=\"colab-df-convert\" onclick=\"convertToInteractive('df-20138953-3d69-40a6-b1be-823ad291cff2')\"\n",
              "              title=\"Convert this dataframe to an interactive table.\"\n",
              "              style=\"display:none;\">\n",
              "        \n",
              "  <svg xmlns=\"http://www.w3.org/2000/svg\" height=\"24px\"viewBox=\"0 0 24 24\"\n",
              "       width=\"24px\">\n",
              "    <path d=\"M0 0h24v24H0V0z\" fill=\"none\"/>\n",
              "    <path d=\"M18.56 5.44l.94 2.06.94-2.06 2.06-.94-2.06-.94-.94-2.06-.94 2.06-2.06.94zm-11 1L8.5 8.5l.94-2.06 2.06-.94-2.06-.94L8.5 2.5l-.94 2.06-2.06.94zm10 10l.94 2.06.94-2.06 2.06-.94-2.06-.94-.94-2.06-.94 2.06-2.06.94z\"/><path d=\"M17.41 7.96l-1.37-1.37c-.4-.4-.92-.59-1.43-.59-.52 0-1.04.2-1.43.59L10.3 9.45l-7.72 7.72c-.78.78-.78 2.05 0 2.83L4 21.41c.39.39.9.59 1.41.59.51 0 1.02-.2 1.41-.59l7.78-7.78 2.81-2.81c.8-.78.8-2.07 0-2.86zM5.41 20L4 18.59l7.72-7.72 1.47 1.35L5.41 20z\"/>\n",
              "  </svg>\n",
              "      </button>\n",
              "      \n",
              "  <style>\n",
              "    .colab-df-container {\n",
              "      display:flex;\n",
              "      flex-wrap:wrap;\n",
              "      gap: 12px;\n",
              "    }\n",
              "\n",
              "    .colab-df-convert {\n",
              "      background-color: #E8F0FE;\n",
              "      border: none;\n",
              "      border-radius: 50%;\n",
              "      cursor: pointer;\n",
              "      display: none;\n",
              "      fill: #1967D2;\n",
              "      height: 32px;\n",
              "      padding: 0 0 0 0;\n",
              "      width: 32px;\n",
              "    }\n",
              "\n",
              "    .colab-df-convert:hover {\n",
              "      background-color: #E2EBFA;\n",
              "      box-shadow: 0px 1px 2px rgba(60, 64, 67, 0.3), 0px 1px 3px 1px rgba(60, 64, 67, 0.15);\n",
              "      fill: #174EA6;\n",
              "    }\n",
              "\n",
              "    [theme=dark] .colab-df-convert {\n",
              "      background-color: #3B4455;\n",
              "      fill: #D2E3FC;\n",
              "    }\n",
              "\n",
              "    [theme=dark] .colab-df-convert:hover {\n",
              "      background-color: #434B5C;\n",
              "      box-shadow: 0px 1px 3px 1px rgba(0, 0, 0, 0.15);\n",
              "      filter: drop-shadow(0px 1px 2px rgba(0, 0, 0, 0.3));\n",
              "      fill: #FFFFFF;\n",
              "    }\n",
              "  </style>\n",
              "\n",
              "      <script>\n",
              "        const buttonEl =\n",
              "          document.querySelector('#df-20138953-3d69-40a6-b1be-823ad291cff2 button.colab-df-convert');\n",
              "        buttonEl.style.display =\n",
              "          google.colab.kernel.accessAllowed ? 'block' : 'none';\n",
              "\n",
              "        async function convertToInteractive(key) {\n",
              "          const element = document.querySelector('#df-20138953-3d69-40a6-b1be-823ad291cff2');\n",
              "          const dataTable =\n",
              "            await google.colab.kernel.invokeFunction('convertToInteractive',\n",
              "                                                     [key], {});\n",
              "          if (!dataTable) return;\n",
              "\n",
              "          const docLinkHtml = 'Like what you see? Visit the ' +\n",
              "            '<a target=\"_blank\" href=https://colab.research.google.com/notebooks/data_table.ipynb>data table notebook</a>'\n",
              "            + ' to learn more about interactive tables.';\n",
              "          element.innerHTML = '';\n",
              "          dataTable['output_type'] = 'display_data';\n",
              "          await google.colab.output.renderOutput(dataTable, element);\n",
              "          const docLink = document.createElement('div');\n",
              "          docLink.innerHTML = docLinkHtml;\n",
              "          element.appendChild(docLink);\n",
              "        }\n",
              "      </script>\n",
              "    </div>\n",
              "  </div>\n",
              "  "
            ]
          },
          "metadata": {},
          "execution_count": 5
        }
      ]
    },
    {
      "cell_type": "code",
      "source": [
        "print('Number of data points : ', data.shape[0])\n",
        "print('Number of features : ', data.shape[1])\n",
        "print('Features : ', data.columns.values)"
      ],
      "metadata": {
        "colab": {
          "base_uri": "https://localhost:8080/"
        },
        "id": "Adu-JIclA-eg",
        "outputId": "4a985b86-460b-48da-f13c-0a9f3b64c4c2"
      },
      "execution_count": null,
      "outputs": [
        {
          "output_type": "stream",
          "name": "stdout",
          "text": [
            "Number of data points :  70000\n",
            "Number of features :  13\n",
            "Features :  ['id' 'age' 'gender' 'height' 'weight' 'ap_hi' 'ap_lo' 'cholesterol'\n",
            " 'gluc' 'smoke' 'alco' 'active' 'cardio']\n"
          ]
        }
      ]
    },
    {
      "cell_type": "markdown",
      "source": [
        "<p>\n",
        "  The features are:\n",
        "   <ul>\n",
        "      <li>Age | age | Numerical Feature | integer | in days |</li>\n",
        "      <li>Height | height | Numerical Feature | integer | in cm |</li>\n",
        "      <li>Weight | weight | Numerical Feature | float | in kg |</li>\n",
        "      <li>Systolic blood pressure | ap_hi | Numerical Feature | integer |</li>\n",
        "      <li>Diastolic blood pressure | ap_lo | Numerical Feature | integer |</li>\n",
        "      <li>Gender| gender | Binary Feature | takes two values - 1,2</li>\n",
        "      <li>Cholesterol | cholestrol | Categorical Feature | takes three categories - 1: normal, 2: above normal, 3: well above normal |</li>\n",
        "      <li>Glucose | gluc | Categorical Feature | takes three categories - 1: normal, 2: above normal, 3: well above normal |</li>\n",
        "      <li>Smoking | smoke | Binary Feature | takes two categories - 0,1</li>\n",
        "      <li>Alcohol intake | alco | Binary Feature | takes two categories - 0,1</li>\n",
        "      <li>Physical activity | active | Binary Feature | takes two categories - 0,1</li>\n",
        "      <li>Presence or absence of cardiovascular disease | cardio | binary Feature | takes two categories - 0: no heart disease, 1: heart disease</li>\n",
        "\n",
        "      "
      ],
      "metadata": {
        "id": "aaYTG4c9C3fA"
      }
    },
    {
      "cell_type": "markdown",
      "source": [
        "<h2>3.2. High Level Statistics of the Data</h2>"
      ],
      "metadata": {
        "id": "M2qqvAj5NJ9I"
      }
    },
    {
      "cell_type": "code",
      "source": [
        "# Get the basic information about the dataset\n",
        "data.info()"
      ],
      "metadata": {
        "colab": {
          "base_uri": "https://localhost:8080/"
        },
        "id": "4VfVEIoOMLVP",
        "outputId": "fd553395-2e2c-4fc8-bb8b-ace59de8ec9d"
      },
      "execution_count": null,
      "outputs": [
        {
          "output_type": "stream",
          "name": "stdout",
          "text": [
            "<class 'pandas.core.frame.DataFrame'>\n",
            "RangeIndex: 70000 entries, 0 to 69999\n",
            "Data columns (total 13 columns):\n",
            " #   Column       Non-Null Count  Dtype  \n",
            "---  ------       --------------  -----  \n",
            " 0   id           70000 non-null  int64  \n",
            " 1   age          70000 non-null  int64  \n",
            " 2   gender       70000 non-null  int64  \n",
            " 3   height       70000 non-null  int64  \n",
            " 4   weight       70000 non-null  float64\n",
            " 5   ap_hi        70000 non-null  int64  \n",
            " 6   ap_lo        70000 non-null  int64  \n",
            " 7   cholesterol  70000 non-null  int64  \n",
            " 8   gluc         70000 non-null  int64  \n",
            " 9   smoke        70000 non-null  int64  \n",
            " 10  alco         70000 non-null  int64  \n",
            " 11  active       70000 non-null  int64  \n",
            " 12  cardio       70000 non-null  int64  \n",
            "dtypes: float64(1), int64(12)\n",
            "memory usage: 6.9 MB\n"
          ]
        }
      ]
    },
    {
      "cell_type": "code",
      "source": [
        "# Check if there are any missing values in the dataset\n",
        "data.isnull().sum().sum()"
      ],
      "metadata": {
        "colab": {
          "base_uri": "https://localhost:8080/"
        },
        "id": "3EExvMvPMLYO",
        "outputId": "6bc5a9c4-6a5d-4251-dcc9-5a351d02e7d4"
      },
      "execution_count": null,
      "outputs": [
        {
          "output_type": "execute_result",
          "data": {
            "text/plain": [
              "0"
            ]
          },
          "metadata": {},
          "execution_count": 8
        }
      ]
    },
    {
      "cell_type": "markdown",
      "source": [
        "<h3> Observation \n",
        "\n",
        "*   There are no missing values in our dataset.\n",
        "\n",
        "\n"
      ],
      "metadata": {
        "id": "jDSVa9PSM-5I"
      }
    },
    {
      "cell_type": "code",
      "source": [
        "# Check if there are any duplicate values in the dataset\n",
        "data.duplicated().sum()"
      ],
      "metadata": {
        "colab": {
          "base_uri": "https://localhost:8080/"
        },
        "id": "Out6brwXMLa9",
        "outputId": "7a3ca061-7f41-41fa-b58f-cea8997f3665"
      },
      "execution_count": null,
      "outputs": [
        {
          "output_type": "execute_result",
          "data": {
            "text/plain": [
              "0"
            ]
          },
          "metadata": {},
          "execution_count": 9
        }
      ]
    },
    {
      "cell_type": "markdown",
      "source": [
        "<h3> Observation \n",
        "\n",
        "*   There are no duplicate values in our dataset."
      ],
      "metadata": {
        "id": "Bl5zbAFQNUxF"
      }
    },
    {
      "cell_type": "code",
      "source": [
        "# Check if the dataset is balanced or imbalanced.\n",
        "data['cardio'].value_counts()"
      ],
      "metadata": {
        "colab": {
          "base_uri": "https://localhost:8080/"
        },
        "id": "TSlVu0GYF_j6",
        "outputId": "1eee2f6b-12c8-4538-83cb-540abc2e9cb9"
      },
      "execution_count": null,
      "outputs": [
        {
          "output_type": "execute_result",
          "data": {
            "text/plain": [
              "0    35021\n",
              "1    34979\n",
              "Name: cardio, dtype: int64"
            ]
          },
          "metadata": {},
          "execution_count": 10
        }
      ]
    },
    {
      "cell_type": "markdown",
      "source": [
        "<h3> Observation \n",
        "\n",
        "*   The dataset is almost balanced. Almost equal number of datapoints are present for each class."
      ],
      "metadata": {
        "id": "IJgPAkklGMJ5"
      }
    },
    {
      "cell_type": "markdown",
      "source": [
        "<p> Since the age of the patient has been \n",
        "\n",
        "---\n",
        "\n",
        "given in days, so it is difficult to interpret the age. So we will convert the days into years."
      ],
      "metadata": {
        "id": "H6a4fSaZgBN8"
      }
    },
    {
      "cell_type": "code",
      "source": [
        "# Converting the days into years\n",
        "data['age'] = np.round(data['age']/365,0)\n",
        "data.head()"
      ],
      "metadata": {
        "colab": {
          "base_uri": "https://localhost:8080/",
          "height": 206
        },
        "id": "HnFzXCduMm5G",
        "outputId": "4bab7300-de43-4ae2-d787-a4d80586a2c6"
      },
      "execution_count": null,
      "outputs": [
        {
          "output_type": "execute_result",
          "data": {
            "text/plain": [
              "   id   age  gender  height  weight  ap_hi  ap_lo  cholesterol  gluc  smoke  \\\n",
              "0   0  50.0       2     168    62.0    110     80            1     1      0   \n",
              "1   1  55.0       1     156    85.0    140     90            3     1      0   \n",
              "2   2  52.0       1     165    64.0    130     70            3     1      0   \n",
              "3   3  48.0       2     169    82.0    150    100            1     1      0   \n",
              "4   4  48.0       1     156    56.0    100     60            1     1      0   \n",
              "\n",
              "   alco  active  cardio  \n",
              "0     0       1       0  \n",
              "1     0       1       1  \n",
              "2     0       0       1  \n",
              "3     0       1       1  \n",
              "4     0       0       0  "
            ],
            "text/html": [
              "\n",
              "  <div id=\"df-252b789a-64ef-4421-afdd-76a9001dc69c\">\n",
              "    <div class=\"colab-df-container\">\n",
              "      <div>\n",
              "<style scoped>\n",
              "    .dataframe tbody tr th:only-of-type {\n",
              "        vertical-align: middle;\n",
              "    }\n",
              "\n",
              "    .dataframe tbody tr th {\n",
              "        vertical-align: top;\n",
              "    }\n",
              "\n",
              "    .dataframe thead th {\n",
              "        text-align: right;\n",
              "    }\n",
              "</style>\n",
              "<table border=\"1\" class=\"dataframe\">\n",
              "  <thead>\n",
              "    <tr style=\"text-align: right;\">\n",
              "      <th></th>\n",
              "      <th>id</th>\n",
              "      <th>age</th>\n",
              "      <th>gender</th>\n",
              "      <th>height</th>\n",
              "      <th>weight</th>\n",
              "      <th>ap_hi</th>\n",
              "      <th>ap_lo</th>\n",
              "      <th>cholesterol</th>\n",
              "      <th>gluc</th>\n",
              "      <th>smoke</th>\n",
              "      <th>alco</th>\n",
              "      <th>active</th>\n",
              "      <th>cardio</th>\n",
              "    </tr>\n",
              "  </thead>\n",
              "  <tbody>\n",
              "    <tr>\n",
              "      <th>0</th>\n",
              "      <td>0</td>\n",
              "      <td>50.0</td>\n",
              "      <td>2</td>\n",
              "      <td>168</td>\n",
              "      <td>62.0</td>\n",
              "      <td>110</td>\n",
              "      <td>80</td>\n",
              "      <td>1</td>\n",
              "      <td>1</td>\n",
              "      <td>0</td>\n",
              "      <td>0</td>\n",
              "      <td>1</td>\n",
              "      <td>0</td>\n",
              "    </tr>\n",
              "    <tr>\n",
              "      <th>1</th>\n",
              "      <td>1</td>\n",
              "      <td>55.0</td>\n",
              "      <td>1</td>\n",
              "      <td>156</td>\n",
              "      <td>85.0</td>\n",
              "      <td>140</td>\n",
              "      <td>90</td>\n",
              "      <td>3</td>\n",
              "      <td>1</td>\n",
              "      <td>0</td>\n",
              "      <td>0</td>\n",
              "      <td>1</td>\n",
              "      <td>1</td>\n",
              "    </tr>\n",
              "    <tr>\n",
              "      <th>2</th>\n",
              "      <td>2</td>\n",
              "      <td>52.0</td>\n",
              "      <td>1</td>\n",
              "      <td>165</td>\n",
              "      <td>64.0</td>\n",
              "      <td>130</td>\n",
              "      <td>70</td>\n",
              "      <td>3</td>\n",
              "      <td>1</td>\n",
              "      <td>0</td>\n",
              "      <td>0</td>\n",
              "      <td>0</td>\n",
              "      <td>1</td>\n",
              "    </tr>\n",
              "    <tr>\n",
              "      <th>3</th>\n",
              "      <td>3</td>\n",
              "      <td>48.0</td>\n",
              "      <td>2</td>\n",
              "      <td>169</td>\n",
              "      <td>82.0</td>\n",
              "      <td>150</td>\n",
              "      <td>100</td>\n",
              "      <td>1</td>\n",
              "      <td>1</td>\n",
              "      <td>0</td>\n",
              "      <td>0</td>\n",
              "      <td>1</td>\n",
              "      <td>1</td>\n",
              "    </tr>\n",
              "    <tr>\n",
              "      <th>4</th>\n",
              "      <td>4</td>\n",
              "      <td>48.0</td>\n",
              "      <td>1</td>\n",
              "      <td>156</td>\n",
              "      <td>56.0</td>\n",
              "      <td>100</td>\n",
              "      <td>60</td>\n",
              "      <td>1</td>\n",
              "      <td>1</td>\n",
              "      <td>0</td>\n",
              "      <td>0</td>\n",
              "      <td>0</td>\n",
              "      <td>0</td>\n",
              "    </tr>\n",
              "  </tbody>\n",
              "</table>\n",
              "</div>\n",
              "      <button class=\"colab-df-convert\" onclick=\"convertToInteractive('df-252b789a-64ef-4421-afdd-76a9001dc69c')\"\n",
              "              title=\"Convert this dataframe to an interactive table.\"\n",
              "              style=\"display:none;\">\n",
              "        \n",
              "  <svg xmlns=\"http://www.w3.org/2000/svg\" height=\"24px\"viewBox=\"0 0 24 24\"\n",
              "       width=\"24px\">\n",
              "    <path d=\"M0 0h24v24H0V0z\" fill=\"none\"/>\n",
              "    <path d=\"M18.56 5.44l.94 2.06.94-2.06 2.06-.94-2.06-.94-.94-2.06-.94 2.06-2.06.94zm-11 1L8.5 8.5l.94-2.06 2.06-.94-2.06-.94L8.5 2.5l-.94 2.06-2.06.94zm10 10l.94 2.06.94-2.06 2.06-.94-2.06-.94-.94-2.06-.94 2.06-2.06.94z\"/><path d=\"M17.41 7.96l-1.37-1.37c-.4-.4-.92-.59-1.43-.59-.52 0-1.04.2-1.43.59L10.3 9.45l-7.72 7.72c-.78.78-.78 2.05 0 2.83L4 21.41c.39.39.9.59 1.41.59.51 0 1.02-.2 1.41-.59l7.78-7.78 2.81-2.81c.8-.78.8-2.07 0-2.86zM5.41 20L4 18.59l7.72-7.72 1.47 1.35L5.41 20z\"/>\n",
              "  </svg>\n",
              "      </button>\n",
              "      \n",
              "  <style>\n",
              "    .colab-df-container {\n",
              "      display:flex;\n",
              "      flex-wrap:wrap;\n",
              "      gap: 12px;\n",
              "    }\n",
              "\n",
              "    .colab-df-convert {\n",
              "      background-color: #E8F0FE;\n",
              "      border: none;\n",
              "      border-radius: 50%;\n",
              "      cursor: pointer;\n",
              "      display: none;\n",
              "      fill: #1967D2;\n",
              "      height: 32px;\n",
              "      padding: 0 0 0 0;\n",
              "      width: 32px;\n",
              "    }\n",
              "\n",
              "    .colab-df-convert:hover {\n",
              "      background-color: #E2EBFA;\n",
              "      box-shadow: 0px 1px 2px rgba(60, 64, 67, 0.3), 0px 1px 3px 1px rgba(60, 64, 67, 0.15);\n",
              "      fill: #174EA6;\n",
              "    }\n",
              "\n",
              "    [theme=dark] .colab-df-convert {\n",
              "      background-color: #3B4455;\n",
              "      fill: #D2E3FC;\n",
              "    }\n",
              "\n",
              "    [theme=dark] .colab-df-convert:hover {\n",
              "      background-color: #434B5C;\n",
              "      box-shadow: 0px 1px 3px 1px rgba(0, 0, 0, 0.15);\n",
              "      filter: drop-shadow(0px 1px 2px rgba(0, 0, 0, 0.3));\n",
              "      fill: #FFFFFF;\n",
              "    }\n",
              "  </style>\n",
              "\n",
              "      <script>\n",
              "        const buttonEl =\n",
              "          document.querySelector('#df-252b789a-64ef-4421-afdd-76a9001dc69c button.colab-df-convert');\n",
              "        buttonEl.style.display =\n",
              "          google.colab.kernel.accessAllowed ? 'block' : 'none';\n",
              "\n",
              "        async function convertToInteractive(key) {\n",
              "          const element = document.querySelector('#df-252b789a-64ef-4421-afdd-76a9001dc69c');\n",
              "          const dataTable =\n",
              "            await google.colab.kernel.invokeFunction('convertToInteractive',\n",
              "                                                     [key], {});\n",
              "          if (!dataTable) return;\n",
              "\n",
              "          const docLinkHtml = 'Like what you see? Visit the ' +\n",
              "            '<a target=\"_blank\" href=https://colab.research.google.com/notebooks/data_table.ipynb>data table notebook</a>'\n",
              "            + ' to learn more about interactive tables.';\n",
              "          element.innerHTML = '';\n",
              "          dataTable['output_type'] = 'display_data';\n",
              "          await google.colab.output.renderOutput(dataTable, element);\n",
              "          const docLink = document.createElement('div');\n",
              "          docLink.innerHTML = docLinkHtml;\n",
              "          element.appendChild(docLink);\n",
              "        }\n",
              "      </script>\n",
              "    </div>\n",
              "  </div>\n",
              "  "
            ]
          },
          "metadata": {},
          "execution_count": 11
        }
      ]
    },
    {
      "cell_type": "markdown",
      "source": [
        "<p> Since in the dataset it has not been explicitly given what does 1 and 2 stand for in the gender column, we will try to find out which gender do these values indicate. We will be using the fact that typically males tend to be taller than the females. So the average height of males should be more than the average height of females."
      ],
      "metadata": {
        "id": "x04YfZ03gZoJ"
      }
    },
    {
      "cell_type": "code",
      "source": [
        "p = data[data['gender']==1]['height'].mean()\n",
        "q = data[data['gender']==2]['height'].mean()\n",
        "\n",
        "if p > q:\n",
        "    gender_1 = 'male'\n",
        "    gender_2 = 'female'\n",
        "else:\n",
        "    gender_1 = 'female'\n",
        "    gender_2 = 'male'\n",
        "\n",
        "print('gender=1 is '+ gender_1 + ' and ' + 'gender=2 is ' + gender_2)"
      ],
      "metadata": {
        "colab": {
          "base_uri": "https://localhost:8080/"
        },
        "id": "GFBp6vvxaztg",
        "outputId": "49d2896d-8c1c-4416-8b35-a9646aa02058"
      },
      "execution_count": null,
      "outputs": [
        {
          "output_type": "stream",
          "name": "stdout",
          "text": [
            "gender=1 is female and gender=2 is male\n"
          ]
        }
      ]
    },
    {
      "cell_type": "markdown",
      "source": [
        "<h3> Observation \n",
        "\n",
        "*   gender = 1 stands for female and gender = 2 stands for male in our dataset."
      ],
      "metadata": {
        "id": "ZT0NMUQ9hExk"
      }
    },
    {
      "cell_type": "code",
      "source": [
        "data.describe()"
      ],
      "metadata": {
        "colab": {
          "base_uri": "https://localhost:8080/",
          "height": 344
        },
        "id": "k4zX5q3rMLd7",
        "outputId": "859277cc-085d-45b9-cc5a-f50965865d16"
      },
      "execution_count": null,
      "outputs": [
        {
          "output_type": "execute_result",
          "data": {
            "text/plain": [
              "                 id           age        gender        height        weight  \\\n",
              "count  70000.000000  70000.000000  70000.000000  70000.000000  70000.000000   \n",
              "mean   49972.419900     53.338686      1.349571    164.359229     74.205690   \n",
              "std    28851.302323      6.765294      0.476838      8.210126     14.395757   \n",
              "min        0.000000     30.000000      1.000000     55.000000     10.000000   \n",
              "25%    25006.750000     48.000000      1.000000    159.000000     65.000000   \n",
              "50%    50001.500000     54.000000      1.000000    165.000000     72.000000   \n",
              "75%    74889.250000     58.000000      2.000000    170.000000     82.000000   \n",
              "max    99999.000000     65.000000      2.000000    250.000000    200.000000   \n",
              "\n",
              "              ap_hi         ap_lo   cholesterol          gluc         smoke  \\\n",
              "count  70000.000000  70000.000000  70000.000000  70000.000000  70000.000000   \n",
              "mean     128.817286     96.630414      1.366871      1.226457      0.088129   \n",
              "std      154.011419    188.472530      0.680250      0.572270      0.283484   \n",
              "min     -150.000000    -70.000000      1.000000      1.000000      0.000000   \n",
              "25%      120.000000     80.000000      1.000000      1.000000      0.000000   \n",
              "50%      120.000000     80.000000      1.000000      1.000000      0.000000   \n",
              "75%      140.000000     90.000000      2.000000      1.000000      0.000000   \n",
              "max    16020.000000  11000.000000      3.000000      3.000000      1.000000   \n",
              "\n",
              "               alco        active        cardio  \n",
              "count  70000.000000  70000.000000  70000.000000  \n",
              "mean       0.053771      0.803729      0.499700  \n",
              "std        0.225568      0.397179      0.500003  \n",
              "min        0.000000      0.000000      0.000000  \n",
              "25%        0.000000      1.000000      0.000000  \n",
              "50%        0.000000      1.000000      0.000000  \n",
              "75%        0.000000      1.000000      1.000000  \n",
              "max        1.000000      1.000000      1.000000  "
            ],
            "text/html": [
              "\n",
              "  <div id=\"df-121a2663-5844-42b7-98d2-c95524bb35ba\">\n",
              "    <div class=\"colab-df-container\">\n",
              "      <div>\n",
              "<style scoped>\n",
              "    .dataframe tbody tr th:only-of-type {\n",
              "        vertical-align: middle;\n",
              "    }\n",
              "\n",
              "    .dataframe tbody tr th {\n",
              "        vertical-align: top;\n",
              "    }\n",
              "\n",
              "    .dataframe thead th {\n",
              "        text-align: right;\n",
              "    }\n",
              "</style>\n",
              "<table border=\"1\" class=\"dataframe\">\n",
              "  <thead>\n",
              "    <tr style=\"text-align: right;\">\n",
              "      <th></th>\n",
              "      <th>id</th>\n",
              "      <th>age</th>\n",
              "      <th>gender</th>\n",
              "      <th>height</th>\n",
              "      <th>weight</th>\n",
              "      <th>ap_hi</th>\n",
              "      <th>ap_lo</th>\n",
              "      <th>cholesterol</th>\n",
              "      <th>gluc</th>\n",
              "      <th>smoke</th>\n",
              "      <th>alco</th>\n",
              "      <th>active</th>\n",
              "      <th>cardio</th>\n",
              "    </tr>\n",
              "  </thead>\n",
              "  <tbody>\n",
              "    <tr>\n",
              "      <th>count</th>\n",
              "      <td>70000.000000</td>\n",
              "      <td>70000.000000</td>\n",
              "      <td>70000.000000</td>\n",
              "      <td>70000.000000</td>\n",
              "      <td>70000.000000</td>\n",
              "      <td>70000.000000</td>\n",
              "      <td>70000.000000</td>\n",
              "      <td>70000.000000</td>\n",
              "      <td>70000.000000</td>\n",
              "      <td>70000.000000</td>\n",
              "      <td>70000.000000</td>\n",
              "      <td>70000.000000</td>\n",
              "      <td>70000.000000</td>\n",
              "    </tr>\n",
              "    <tr>\n",
              "      <th>mean</th>\n",
              "      <td>49972.419900</td>\n",
              "      <td>53.338686</td>\n",
              "      <td>1.349571</td>\n",
              "      <td>164.359229</td>\n",
              "      <td>74.205690</td>\n",
              "      <td>128.817286</td>\n",
              "      <td>96.630414</td>\n",
              "      <td>1.366871</td>\n",
              "      <td>1.226457</td>\n",
              "      <td>0.088129</td>\n",
              "      <td>0.053771</td>\n",
              "      <td>0.803729</td>\n",
              "      <td>0.499700</td>\n",
              "    </tr>\n",
              "    <tr>\n",
              "      <th>std</th>\n",
              "      <td>28851.302323</td>\n",
              "      <td>6.765294</td>\n",
              "      <td>0.476838</td>\n",
              "      <td>8.210126</td>\n",
              "      <td>14.395757</td>\n",
              "      <td>154.011419</td>\n",
              "      <td>188.472530</td>\n",
              "      <td>0.680250</td>\n",
              "      <td>0.572270</td>\n",
              "      <td>0.283484</td>\n",
              "      <td>0.225568</td>\n",
              "      <td>0.397179</td>\n",
              "      <td>0.500003</td>\n",
              "    </tr>\n",
              "    <tr>\n",
              "      <th>min</th>\n",
              "      <td>0.000000</td>\n",
              "      <td>30.000000</td>\n",
              "      <td>1.000000</td>\n",
              "      <td>55.000000</td>\n",
              "      <td>10.000000</td>\n",
              "      <td>-150.000000</td>\n",
              "      <td>-70.000000</td>\n",
              "      <td>1.000000</td>\n",
              "      <td>1.000000</td>\n",
              "      <td>0.000000</td>\n",
              "      <td>0.000000</td>\n",
              "      <td>0.000000</td>\n",
              "      <td>0.000000</td>\n",
              "    </tr>\n",
              "    <tr>\n",
              "      <th>25%</th>\n",
              "      <td>25006.750000</td>\n",
              "      <td>48.000000</td>\n",
              "      <td>1.000000</td>\n",
              "      <td>159.000000</td>\n",
              "      <td>65.000000</td>\n",
              "      <td>120.000000</td>\n",
              "      <td>80.000000</td>\n",
              "      <td>1.000000</td>\n",
              "      <td>1.000000</td>\n",
              "      <td>0.000000</td>\n",
              "      <td>0.000000</td>\n",
              "      <td>1.000000</td>\n",
              "      <td>0.000000</td>\n",
              "    </tr>\n",
              "    <tr>\n",
              "      <th>50%</th>\n",
              "      <td>50001.500000</td>\n",
              "      <td>54.000000</td>\n",
              "      <td>1.000000</td>\n",
              "      <td>165.000000</td>\n",
              "      <td>72.000000</td>\n",
              "      <td>120.000000</td>\n",
              "      <td>80.000000</td>\n",
              "      <td>1.000000</td>\n",
              "      <td>1.000000</td>\n",
              "      <td>0.000000</td>\n",
              "      <td>0.000000</td>\n",
              "      <td>1.000000</td>\n",
              "      <td>0.000000</td>\n",
              "    </tr>\n",
              "    <tr>\n",
              "      <th>75%</th>\n",
              "      <td>74889.250000</td>\n",
              "      <td>58.000000</td>\n",
              "      <td>2.000000</td>\n",
              "      <td>170.000000</td>\n",
              "      <td>82.000000</td>\n",
              "      <td>140.000000</td>\n",
              "      <td>90.000000</td>\n",
              "      <td>2.000000</td>\n",
              "      <td>1.000000</td>\n",
              "      <td>0.000000</td>\n",
              "      <td>0.000000</td>\n",
              "      <td>1.000000</td>\n",
              "      <td>1.000000</td>\n",
              "    </tr>\n",
              "    <tr>\n",
              "      <th>max</th>\n",
              "      <td>99999.000000</td>\n",
              "      <td>65.000000</td>\n",
              "      <td>2.000000</td>\n",
              "      <td>250.000000</td>\n",
              "      <td>200.000000</td>\n",
              "      <td>16020.000000</td>\n",
              "      <td>11000.000000</td>\n",
              "      <td>3.000000</td>\n",
              "      <td>3.000000</td>\n",
              "      <td>1.000000</td>\n",
              "      <td>1.000000</td>\n",
              "      <td>1.000000</td>\n",
              "      <td>1.000000</td>\n",
              "    </tr>\n",
              "  </tbody>\n",
              "</table>\n",
              "</div>\n",
              "      <button class=\"colab-df-convert\" onclick=\"convertToInteractive('df-121a2663-5844-42b7-98d2-c95524bb35ba')\"\n",
              "              title=\"Convert this dataframe to an interactive table.\"\n",
              "              style=\"display:none;\">\n",
              "        \n",
              "  <svg xmlns=\"http://www.w3.org/2000/svg\" height=\"24px\"viewBox=\"0 0 24 24\"\n",
              "       width=\"24px\">\n",
              "    <path d=\"M0 0h24v24H0V0z\" fill=\"none\"/>\n",
              "    <path d=\"M18.56 5.44l.94 2.06.94-2.06 2.06-.94-2.06-.94-.94-2.06-.94 2.06-2.06.94zm-11 1L8.5 8.5l.94-2.06 2.06-.94-2.06-.94L8.5 2.5l-.94 2.06-2.06.94zm10 10l.94 2.06.94-2.06 2.06-.94-2.06-.94-.94-2.06-.94 2.06-2.06.94z\"/><path d=\"M17.41 7.96l-1.37-1.37c-.4-.4-.92-.59-1.43-.59-.52 0-1.04.2-1.43.59L10.3 9.45l-7.72 7.72c-.78.78-.78 2.05 0 2.83L4 21.41c.39.39.9.59 1.41.59.51 0 1.02-.2 1.41-.59l7.78-7.78 2.81-2.81c.8-.78.8-2.07 0-2.86zM5.41 20L4 18.59l7.72-7.72 1.47 1.35L5.41 20z\"/>\n",
              "  </svg>\n",
              "      </button>\n",
              "      \n",
              "  <style>\n",
              "    .colab-df-container {\n",
              "      display:flex;\n",
              "      flex-wrap:wrap;\n",
              "      gap: 12px;\n",
              "    }\n",
              "\n",
              "    .colab-df-convert {\n",
              "      background-color: #E8F0FE;\n",
              "      border: none;\n",
              "      border-radius: 50%;\n",
              "      cursor: pointer;\n",
              "      display: none;\n",
              "      fill: #1967D2;\n",
              "      height: 32px;\n",
              "      padding: 0 0 0 0;\n",
              "      width: 32px;\n",
              "    }\n",
              "\n",
              "    .colab-df-convert:hover {\n",
              "      background-color: #E2EBFA;\n",
              "      box-shadow: 0px 1px 2px rgba(60, 64, 67, 0.3), 0px 1px 3px 1px rgba(60, 64, 67, 0.15);\n",
              "      fill: #174EA6;\n",
              "    }\n",
              "\n",
              "    [theme=dark] .colab-df-convert {\n",
              "      background-color: #3B4455;\n",
              "      fill: #D2E3FC;\n",
              "    }\n",
              "\n",
              "    [theme=dark] .colab-df-convert:hover {\n",
              "      background-color: #434B5C;\n",
              "      box-shadow: 0px 1px 3px 1px rgba(0, 0, 0, 0.15);\n",
              "      filter: drop-shadow(0px 1px 2px rgba(0, 0, 0, 0.3));\n",
              "      fill: #FFFFFF;\n",
              "    }\n",
              "  </style>\n",
              "\n",
              "      <script>\n",
              "        const buttonEl =\n",
              "          document.querySelector('#df-121a2663-5844-42b7-98d2-c95524bb35ba button.colab-df-convert');\n",
              "        buttonEl.style.display =\n",
              "          google.colab.kernel.accessAllowed ? 'block' : 'none';\n",
              "\n",
              "        async function convertToInteractive(key) {\n",
              "          const element = document.querySelector('#df-121a2663-5844-42b7-98d2-c95524bb35ba');\n",
              "          const dataTable =\n",
              "            await google.colab.kernel.invokeFunction('convertToInteractive',\n",
              "                                                     [key], {});\n",
              "          if (!dataTable) return;\n",
              "\n",
              "          const docLinkHtml = 'Like what you see? Visit the ' +\n",
              "            '<a target=\"_blank\" href=https://colab.research.google.com/notebooks/data_table.ipynb>data table notebook</a>'\n",
              "            + ' to learn more about interactive tables.';\n",
              "          element.innerHTML = '';\n",
              "          dataTable['output_type'] = 'display_data';\n",
              "          await google.colab.output.renderOutput(dataTable, element);\n",
              "          const docLink = document.createElement('div');\n",
              "          docLink.innerHTML = docLinkHtml;\n",
              "          element.appendChild(docLink);\n",
              "        }\n",
              "      </script>\n",
              "    </div>\n",
              "  </div>\n",
              "  "
            ]
          },
          "metadata": {},
          "execution_count": 13
        }
      ]
    },
    {
      "cell_type": "markdown",
      "source": [
        "<h3> Observation <h3>"
      ],
      "metadata": {
        "id": "vRri7jzu2dFz"
      }
    },
    {
      "cell_type": "markdown",
      "source": [
        "- <p> height\n",
        "  <ul>\n",
        "  <li> The 25th percentile value of height is 159 cm but the min value of height is 55 cm. The 75th percentile value of height is 170 cm but the max value of height is 250 cm.This shows that some outliers could be present in the height column of our dataset which we need to remove.\n",
        " </li>\n",
        " </ul>\n",
        " </p>\n",
        "\n",
        "- <p> weight\n",
        "  <ul>\n",
        "  <li> The 25th percentile value of weight is 65 kg but the min value of weight is 10 kg. The 75th percentile value of weight is 82 kg but the max value of height is 200 kg. This shows that some outliers could be present in the weight column of our dataset which we need to remove.\n",
        " </li>\n",
        " </ul>\n",
        " </p>\n",
        "\n",
        "- <p> ap_hi: \n",
        "  <ul>\n",
        "  <li> The 25th percentile value of ap_hi is 120 but the min value of ap_hi is -150. The 75th percentile value of ap_hi is 140 but the max value of ap_hi is 16020. This shows that some outliers could be present in the ap_hi column of our dataset which we need to remove.\n",
        "  </li>\n",
        "  </ul>\n",
        "  </p>\n",
        "\n",
        "- <p> ap_lo:\n",
        "  <ul> \n",
        "  <li> The 25th percentile value of ap_lo is 80 but the min value of ap_lo is -70.The 75th percentile value of ap_lo is 90 but the max value of ap_lo is 11000. This shows that some outliers could be present in the ap_lo column of our dataset which we need to remove.\n",
        "  </li>\n",
        "  </ul>\n",
        "  </p>"
      ],
      "metadata": {
        "id": "y9yHhaU9Osgz"
      }
    },
    {
      "cell_type": "markdown",
      "source": [
        "<h2>3.3. Univariate Analysis of the Features</h2>"
      ],
      "metadata": {
        "id": "Ffp1YAib-W4V"
      }
    },
    {
      "cell_type": "markdown",
      "source": [
        "<h3>3.3.1. Univariate Analysis of the height Feature</h3>"
      ],
      "metadata": {
        "id": "Lr1UsX9Z-f2f"
      }
    },
    {
      "cell_type": "markdown",
      "metadata": {
        "id": "dKT3m_PGj3ra"
      },
      "source": [
        "<p style=\"font-size:18px;\"> <b>Q1.</b> What type of feature height is ?</p>\n",
        "<p style=\"font-size:16px;\"><b>Ans.</b> height is a numerical feature. </p>\n"
      ]
    },
    {
      "cell_type": "code",
      "source": [
        "sns.set_style('dark')\n",
        "sns.boxplot(data['height'],palette='pink')\n",
        "plt.title('Distribution of height')"
      ],
      "metadata": {
        "colab": {
          "base_uri": "https://localhost:8080/",
          "height": 312
        },
        "id": "It3y9tl6-12L",
        "outputId": "29edff1c-1f8e-4eb6-ff73-d7c996210e00"
      },
      "execution_count": null,
      "outputs": [
        {
          "output_type": "execute_result",
          "data": {
            "text/plain": [
              "Text(0.5, 1.0, 'Distribution of height')"
            ]
          },
          "metadata": {},
          "execution_count": 14
        },
        {
          "output_type": "display_data",
          "data": {
            "text/plain": [
              "<Figure size 432x288 with 1 Axes>"
            ],
            "image/png": "[encoded data removed]"
          },
          "metadata": {}
        }
      ]
    },
    {
      "cell_type": "markdown",
      "source": [
        "<p> From the boxplot of height feature, we can see that there are some outliers.So we will remove these outliers."
      ],
      "metadata": {
        "id": "pjen8VDP-9wV"
      }
    },
    {
      "cell_type": "code",
      "source": [
        "for i in range(90,101):\n",
        "    print('{} Percentile is ='.format(i),np.percentile(data['height'], i))\n"
      ],
      "metadata": {
        "colab": {
          "base_uri": "https://localhost:8080/"
        },
        "id": "_qrIoi6-X0SF",
        "outputId": "bc3e7285-a424-4578-9235-06e40489151d"
      },
      "execution_count": null,
      "outputs": [
        {
          "output_type": "stream",
          "name": "stdout",
          "text": [
            "90 Percentile is = 175.0\n",
            "91 Percentile is = 175.0\n",
            "92 Percentile is = 175.0\n",
            "93 Percentile is = 176.0\n",
            "94 Percentile is = 177.0\n",
            "95 Percentile is = 178.0\n",
            "96 Percentile is = 178.0\n",
            "97 Percentile is = 180.0\n",
            "98 Percentile is = 181.0\n",
            "99 Percentile is = 184.0\n",
            "100 Percentile is = 250.0\n"
          ]
        }
      ]
    },
    {
      "cell_type": "code",
      "source": [
        "for i in [99.1,99.2,99.3,99.4,99.5,99.6,99.7,99.8,99.9,100]:\n",
        "    print('{} Percentile is ='.format(i),np.percentile(data['height'], i))"
      ],
      "metadata": {
        "colab": {
          "base_uri": "https://localhost:8080/"
        },
        "id": "nP_nRpH8X-v-",
        "outputId": "ffad0ac9-045f-414d-ff7f-4468be6106b6"
      },
      "execution_count": null,
      "outputs": [
        {
          "output_type": "stream",
          "name": "stdout",
          "text": [
            "99.1 Percentile is = 184.0\n",
            "99.2 Percentile is = 185.0\n",
            "99.3 Percentile is = 185.0\n",
            "99.4 Percentile is = 185.0\n",
            "99.5 Percentile is = 186.0\n",
            "99.6 Percentile is = 186.0\n",
            "99.7 Percentile is = 187.0\n",
            "99.8 Percentile is = 189.0\n",
            "99.9 Percentile is = 190.0\n",
            "100 Percentile is = 250.0\n"
          ]
        }
      ]
    },
    {
      "cell_type": "markdown",
      "source": [
        "<p> We observe that 99.9 % of the patients in the dataset have height less than 190 cm. We will keep only those patients in our dataset who have height less than 190 cm. If for a particular patient, the height is more than 190 cm, then most likely that patient's height is an outlier which we will remove.<p>"
      ],
      "metadata": {
        "id": "8oQDK5gOj0L0"
      }
    },
    {
      "cell_type": "code",
      "source": [
        "data=data[data['height']<=190]\n",
        "data.head()"
      ],
      "metadata": {
        "colab": {
          "base_uri": "https://localhost:8080/",
          "height": 206
        },
        "id": "4_BrD5SVjiXO",
        "outputId": "e6871e9f-8915-46b6-d8a7-e952f7343fbb"
      },
      "execution_count": null,
      "outputs": [
        {
          "output_type": "execute_result",
          "data": {
            "text/plain": [
              "   id   age  gender  height  weight  ap_hi  ap_lo  cholesterol  gluc  smoke  \\\n",
              "0   0  50.0       2     168    62.0    110     80            1     1      0   \n",
              "1   1  55.0       1     156    85.0    140     90            3     1      0   \n",
              "2   2  52.0       1     165    64.0    130     70            3     1      0   \n",
              "3   3  48.0       2     169    82.0    150    100            1     1      0   \n",
              "4   4  48.0       1     156    56.0    100     60            1     1      0   \n",
              "\n",
              "   alco  active  cardio  \n",
              "0     0       1       0  \n",
              "1     0       1       1  \n",
              "2     0       0       1  \n",
              "3     0       1       1  \n",
              "4     0       0       0  "
            ],
            "text/html": [
              "\n",
              "  <div id=\"df-3b8828df-c1a9-42b9-9ca4-244c0ce59e3a\">\n",
              "    <div class=\"colab-df-container\">\n",
              "      <div>\n",
              "<style scoped>\n",
              "    .dataframe tbody tr th:only-of-type {\n",
              "        vertical-align: middle;\n",
              "    }\n",
              "\n",
              "    .dataframe tbody tr th {\n",
              "        vertical-align: top;\n",
              "    }\n",
              "\n",
              "    .dataframe thead th {\n",
              "        text-align: right;\n",
              "    }\n",
              "</style>\n",
              "<table border=\"1\" class=\"dataframe\">\n",
              "  <thead>\n",
              "    <tr style=\"text-align: right;\">\n",
              "      <th></th>\n",
              "      <th>id</th>\n",
              "      <th>age</th>\n",
              "      <th>gender</th>\n",
              "      <th>height</th>\n",
              "      <th>weight</th>\n",
              "      <th>ap_hi</th>\n",
              "      <th>ap_lo</th>\n",
              "      <th>cholesterol</th>\n",
              "      <th>gluc</th>\n",
              "      <th>smoke</th>\n",
              "      <th>alco</th>\n",
              "      <th>active</th>\n",
              "      <th>cardio</th>\n",
              "    </tr>\n",
              "  </thead>\n",
              "  <tbody>\n",
              "    <tr>\n",
              "      <th>0</th>\n",
              "      <td>0</td>\n",
              "      <td>50.0</td>\n",
              "      <td>2</td>\n",
              "      <td>168</td>\n",
              "      <td>62.0</td>\n",
              "      <td>110</td>\n",
              "      <td>80</td>\n",
              "      <td>1</td>\n",
              "      <td>1</td>\n",
              "      <td>0</td>\n",
              "      <td>0</td>\n",
              "      <td>1</td>\n",
              "      <td>0</td>\n",
              "    </tr>\n",
              "    <tr>\n",
              "      <th>1</th>\n",
              "      <td>1</td>\n",
              "      <td>55.0</td>\n",
              "      <td>1</td>\n",
              "      <td>156</td>\n",
              "      <td>85.0</td>\n",
              "      <td>140</td>\n",
              "      <td>90</td>\n",
              "      <td>3</td>\n",
              "      <td>1</td>\n",
              "      <td>0</td>\n",
              "      <td>0</td>\n",
              "      <td>1</td>\n",
              "      <td>1</td>\n",
              "    </tr>\n",
              "    <tr>\n",
              "      <th>2</th>\n",
              "      <td>2</td>\n",
              "      <td>52.0</td>\n",
              "      <td>1</td>\n",
              "      <td>165</td>\n",
              "      <td>64.0</td>\n",
              "      <td>130</td>\n",
              "      <td>70</td>\n",
              "      <td>3</td>\n",
              "      <td>1</td>\n",
              "      <td>0</td>\n",
              "      <td>0</td>\n",
              "      <td>0</td>\n",
              "      <td>1</td>\n",
              "    </tr>\n",
              "    <tr>\n",
              "      <th>3</th>\n",
              "      <td>3</td>\n",
              "      <td>48.0</td>\n",
              "      <td>2</td>\n",
              "      <td>169</td>\n",
              "      <td>82.0</td>\n",
              "      <td>150</td>\n",
              "      <td>100</td>\n",
              "      <td>1</td>\n",
              "      <td>1</td>\n",
              "      <td>0</td>\n",
              "      <td>0</td>\n",
              "      <td>1</td>\n",
              "      <td>1</td>\n",
              "    </tr>\n",
              "    <tr>\n",
              "      <th>4</th>\n",
              "      <td>4</td>\n",
              "      <td>48.0</td>\n",
              "      <td>1</td>\n",
              "      <td>156</td>\n",
              "      <td>56.0</td>\n",
              "      <td>100</td>\n",
              "      <td>60</td>\n",
              "      <td>1</td>\n",
              "      <td>1</td>\n",
              "      <td>0</td>\n",
              "      <td>0</td>\n",
              "      <td>0</td>\n",
              "      <td>0</td>\n",
              "    </tr>\n",
              "  </tbody>\n",
              "</table>\n",
              "</div>\n",
              "      <button class=\"colab-df-convert\" onclick=\"convertToInteractive('df-3b8828df-c1a9-42b9-9ca4-244c0ce59e3a')\"\n",
              "              title=\"Convert this dataframe to an interactive table.\"\n",
              "              style=\"display:none;\">\n",
              "        \n",
              "  <svg xmlns=\"http://www.w3.org/2000/svg\" height=\"24px\"viewBox=\"0 0 24 24\"\n",
              "       width=\"24px\">\n",
              "    <path d=\"M0 0h24v24H0V0z\" fill=\"none\"/>\n",
              "    <path d=\"M18.56 5.44l.94 2.06.94-2.06 2.06-.94-2.06-.94-.94-2.06-.94 2.06-2.06.94zm-11 1L8.5 8.5l.94-2.06 2.06-.94-2.06-.94L8.5 2.5l-.94 2.06-2.06.94zm10 10l.94 2.06.94-2.06 2.06-.94-2.06-.94-.94-2.06-.94 2.06-2.06.94z\"/><path d=\"M17.41 7.96l-1.37-1.37c-.4-.4-.92-.59-1.43-.59-.52 0-1.04.2-1.43.59L10.3 9.45l-7.72 7.72c-.78.78-.78 2.05 0 2.83L4 21.41c.39.39.9.59 1.41.59.51 0 1.02-.2 1.41-.59l7.78-7.78 2.81-2.81c.8-.78.8-2.07 0-2.86zM5.41 20L4 18.59l7.72-7.72 1.47 1.35L5.41 20z\"/>\n",
              "  </svg>\n",
              "      </button>\n",
              "      \n",
              "  <style>\n",
              "    .colab-df-container {\n",
              "      display:flex;\n",
              "      flex-wrap:wrap;\n",
              "      gap: 12px;\n",
              "    }\n",
              "\n",
              "    .colab-df-convert {\n",
              "      background-color: #E8F0FE;\n",
              "      border: none;\n",
              "      border-radius: 50%;\n",
              "      cursor: pointer;\n",
              "      display: none;\n",
              "      fill: #1967D2;\n",
              "      height: 32px;\n",
              "      padding: 0 0 0 0;\n",
              "      width: 32px;\n",
              "    }\n",
              "\n",
              "    .colab-df-convert:hover {\n",
              "      background-color: #E2EBFA;\n",
              "      box-shadow: 0px 1px 2px rgba(60, 64, 67, 0.3), 0px 1px 3px 1px rgba(60, 64, 67, 0.15);\n",
              "      fill: #174EA6;\n",
              "    }\n",
              "\n",
              "    [theme=dark] .colab-df-convert {\n",
              "      background-color: #3B4455;\n",
              "      fill: #D2E3FC;\n",
              "    }\n",
              "\n",
              "    [theme=dark] .colab-df-convert:hover {\n",
              "      background-color: #434B5C;\n",
              "      box-shadow: 0px 1px 3px 1px rgba(0, 0, 0, 0.15);\n",
              "      filter: drop-shadow(0px 1px 2px rgba(0, 0, 0, 0.3));\n",
              "      fill: #FFFFFF;\n",
              "    }\n",
              "  </style>\n",
              "\n",
              "      <script>\n",
              "        const buttonEl =\n",
              "          document.querySelector('#df-3b8828df-c1a9-42b9-9ca4-244c0ce59e3a button.colab-df-convert');\n",
              "        buttonEl.style.display =\n",
              "          google.colab.kernel.accessAllowed ? 'block' : 'none';\n",
              "\n",
              "        async function convertToInteractive(key) {\n",
              "          const element = document.querySelector('#df-3b8828df-c1a9-42b9-9ca4-244c0ce59e3a');\n",
              "          const dataTable =\n",
              "            await google.colab.kernel.invokeFunction('convertToInteractive',\n",
              "                                                     [key], {});\n",
              "          if (!dataTable) return;\n",
              "\n",
              "          const docLinkHtml = 'Like what you see? Visit the ' +\n",
              "            '<a target=\"_blank\" href=https://colab.research.google.com/notebooks/data_table.ipynb>data table notebook</a>'\n",
              "            + ' to learn more about interactive tables.';\n",
              "          element.innerHTML = '';\n",
              "          dataTable['output_type'] = 'display_data';\n",
              "          await google.colab.output.renderOutput(dataTable, element);\n",
              "          const docLink = document.createElement('div');\n",
              "          docLink.innerHTML = docLinkHtml;\n",
              "          element.appendChild(docLink);\n",
              "        }\n",
              "      </script>\n",
              "    </div>\n",
              "  </div>\n",
              "  "
            ]
          },
          "metadata": {},
          "execution_count": 17
        }
      ]
    },
    {
      "cell_type": "markdown",
      "source": [
        "<h3>3.3.2. Univariate Analysis of the weight Feature</h3>"
      ],
      "metadata": {
        "id": "rFMW9K80lY3D"
      }
    },
    {
      "cell_type": "markdown",
      "metadata": {
        "id": "3Ci2_gDyleoj"
      },
      "source": [
        "<p style=\"font-size:18px;\"> <b>Q1.</b> What type of feature weight is ?</p>\n",
        "<p style=\"font-size:16px;\"><b>Ans.</b> weight is a numerical feature. </p>\n"
      ]
    },
    {
      "cell_type": "code",
      "source": [
        "sns.set_style('dark')\n",
        "sns.boxplot(data['weight'],palette='pink')\n",
        "plt.title('Distribution of Weight')"
      ],
      "metadata": {
        "colab": {
          "base_uri": "https://localhost:8080/",
          "height": 312
        },
        "outputId": "95024f7f-ea58-45dc-a21d-2a2741e2887a",
        "id": "w1iej4TzloQQ"
      },
      "execution_count": null,
      "outputs": [
        {
          "output_type": "execute_result",
          "data": {
            "text/plain": [
              "Text(0.5, 1.0, 'Distribution of Weight')"
            ]
          },
          "metadata": {},
          "execution_count": 18
        },
        {
          "output_type": "display_data",
          "data": {
            "text/plain": [
              "<Figure size 432x288 with 1 Axes>"
            ],
            "image/png": "[encoded data removed]"
          },
          "metadata": {}
        }
      ]
    },
    {
      "cell_type": "markdown",
      "source": [
        "<p> From the boxplot of weight feature, we can see that there are some outliers.So we will remove these outliers."
      ],
      "metadata": {
        "id": "spfHZS8Kl_BP"
      }
    },
    {
      "cell_type": "code",
      "source": [
        "for i in range(90,101):\n",
        "    print('{} Percentile is ='.format(i),np.percentile(data['weight'], i))\n"
      ],
      "metadata": {
        "colab": {
          "base_uri": "https://localhost:8080/"
        },
        "outputId": "4b5300ec-5777-4d09-a894-c1e4536b2e04",
        "id": "rGaV8RTCmEPz"
      },
      "execution_count": null,
      "outputs": [
        {
          "output_type": "stream",
          "name": "stdout",
          "text": [
            "90 Percentile is = 93.0\n",
            "91 Percentile is = 94.0\n",
            "92 Percentile is = 95.0\n",
            "93 Percentile is = 97.0\n",
            "94 Percentile is = 98.0\n",
            "95 Percentile is = 100.0\n",
            "96 Percentile is = 103.0\n",
            "97 Percentile is = 105.0\n",
            "98 Percentile is = 110.0\n",
            "99 Percentile is = 117.0\n",
            "100 Percentile is = 200.0\n"
          ]
        }
      ]
    },
    {
      "cell_type": "code",
      "source": [
        "for i in [99.1,99.2,99.3,99.4,99.5,99.6,99.7,99.8,99.9,100]:\n",
        "    print('{} Percentile is ='.format(i),np.percentile(data['weight'], i))"
      ],
      "metadata": {
        "colab": {
          "base_uri": "https://localhost:8080/"
        },
        "outputId": "9b2e37d1-afb7-48e5-b35d-2f42e429a876",
        "id": "2QhdhfetmKOw"
      },
      "execution_count": null,
      "outputs": [
        {
          "output_type": "stream",
          "name": "stdout",
          "text": [
            "99.1 Percentile is = 119.0\n",
            "99.2 Percentile is = 120.0\n",
            "99.3 Percentile is = 120.0\n",
            "99.4 Percentile is = 123.0\n",
            "99.5 Percentile is = 125.0\n",
            "99.6 Percentile is = 128.0\n",
            "99.7 Percentile is = 130.0\n",
            "99.8 Percentile is = 135.0\n",
            "99.9 Percentile is = 150.0\n",
            "100 Percentile is = 200.0\n"
          ]
        }
      ]
    },
    {
      "cell_type": "markdown",
      "source": [
        "<p> We observe that 99.9 % of the patients in the dataset have weight less than 150 kg. We will keep only those patients in our dataset who have weight less than 150 kg. If for a particular patient, the weight is more than 150 kg, then most likely that patient's weight is an outlier which we will remove.<p>"
      ],
      "metadata": {
        "id": "4RJyuiUfmSf2"
      }
    },
    {
      "cell_type": "code",
      "source": [
        "data=data[data['weight']<=150]\n",
        "data.head()"
      ],
      "metadata": {
        "colab": {
          "base_uri": "https://localhost:8080/",
          "height": 206
        },
        "id": "NDnbvQ71i8Jm",
        "outputId": "fe07fd42-f34a-41cf-d27c-911506bced00"
      },
      "execution_count": null,
      "outputs": [
        {
          "output_type": "execute_result",
          "data": {
            "text/plain": [
              "   id   age  gender  height  weight  ap_hi  ap_lo  cholesterol  gluc  smoke  \\\n",
              "0   0  50.0       2     168    62.0    110     80            1     1      0   \n",
              "1   1  55.0       1     156    85.0    140     90            3     1      0   \n",
              "2   2  52.0       1     165    64.0    130     70            3     1      0   \n",
              "3   3  48.0       2     169    82.0    150    100            1     1      0   \n",
              "4   4  48.0       1     156    56.0    100     60            1     1      0   \n",
              "\n",
              "   alco  active  cardio  \n",
              "0     0       1       0  \n",
              "1     0       1       1  \n",
              "2     0       0       1  \n",
              "3     0       1       1  \n",
              "4     0       0       0  "
            ],
            "text/html": [
              "\n",
              "  <div id=\"df-a9556c39-ca7e-4fcd-a243-6ff7e7e0ba72\">\n",
              "    <div class=\"colab-df-container\">\n",
              "      <div>\n",
              "<style scoped>\n",
              "    .dataframe tbody tr th:only-of-type {\n",
              "        vertical-align: middle;\n",
              "    }\n",
              "\n",
              "    .dataframe tbody tr th {\n",
              "        vertical-align: top;\n",
              "    }\n",
              "\n",
              "    .dataframe thead th {\n",
              "        text-align: right;\n",
              "    }\n",
              "</style>\n",
              "<table border=\"1\" class=\"dataframe\">\n",
              "  <thead>\n",
              "    <tr style=\"text-align: right;\">\n",
              "      <th></th>\n",
              "      <th>id</th>\n",
              "      <th>age</th>\n",
              "      <th>gender</th>\n",
              "      <th>height</th>\n",
              "      <th>weight</th>\n",
              "      <th>ap_hi</th>\n",
              "      <th>ap_lo</th>\n",
              "      <th>cholesterol</th>\n",
              "      <th>gluc</th>\n",
              "      <th>smoke</th>\n",
              "      <th>alco</th>\n",
              "      <th>active</th>\n",
              "      <th>cardio</th>\n",
              "    </tr>\n",
              "  </thead>\n",
              "  <tbody>\n",
              "    <tr>\n",
              "      <th>0</th>\n",
              "      <td>0</td>\n",
              "      <td>50.0</td>\n",
              "      <td>2</td>\n",
              "      <td>168</td>\n",
              "      <td>62.0</td>\n",
              "      <td>110</td>\n",
              "      <td>80</td>\n",
              "      <td>1</td>\n",
              "      <td>1</td>\n",
              "      <td>0</td>\n",
              "      <td>0</td>\n",
              "      <td>1</td>\n",
              "      <td>0</td>\n",
              "    </tr>\n",
              "    <tr>\n",
              "      <th>1</th>\n",
              "      <td>1</td>\n",
              "      <td>55.0</td>\n",
              "      <td>1</td>\n",
              "      <td>156</td>\n",
              "      <td>85.0</td>\n",
              "      <td>140</td>\n",
              "      <td>90</td>\n",
              "      <td>3</td>\n",
              "      <td>1</td>\n",
              "      <td>0</td>\n",
              "      <td>0</td>\n",
              "      <td>1</td>\n",
              "      <td>1</td>\n",
              "    </tr>\n",
              "    <tr>\n",
              "      <th>2</th>\n",
              "      <td>2</td>\n",
              "      <td>52.0</td>\n",
              "      <td>1</td>\n",
              "      <td>165</td>\n",
              "      <td>64.0</td>\n",
              "      <td>130</td>\n",
              "      <td>70</td>\n",
              "      <td>3</td>\n",
              "      <td>1</td>\n",
              "      <td>0</td>\n",
              "      <td>0</td>\n",
              "      <td>0</td>\n",
              "      <td>1</td>\n",
              "    </tr>\n",
              "    <tr>\n",
              "      <th>3</th>\n",
              "      <td>3</td>\n",
              "      <td>48.0</td>\n",
              "      <td>2</td>\n",
              "      <td>169</td>\n",
              "      <td>82.0</td>\n",
              "      <td>150</td>\n",
              "      <td>100</td>\n",
              "      <td>1</td>\n",
              "      <td>1</td>\n",
              "      <td>0</td>\n",
              "      <td>0</td>\n",
              "      <td>1</td>\n",
              "      <td>1</td>\n",
              "    </tr>\n",
              "    <tr>\n",
              "      <th>4</th>\n",
              "      <td>4</td>\n",
              "      <td>48.0</td>\n",
              "      <td>1</td>\n",
              "      <td>156</td>\n",
              "      <td>56.0</td>\n",
              "      <td>100</td>\n",
              "      <td>60</td>\n",
              "      <td>1</td>\n",
              "      <td>1</td>\n",
              "      <td>0</td>\n",
              "      <td>0</td>\n",
              "      <td>0</td>\n",
              "      <td>0</td>\n",
              "    </tr>\n",
              "  </tbody>\n",
              "</table>\n",
              "</div>\n",
              "      <button class=\"colab-df-convert\" onclick=\"convertToInteractive('df-a9556c39-ca7e-4fcd-a243-6ff7e7e0ba72')\"\n",
              "              title=\"Convert this dataframe to an interactive table.\"\n",
              "              style=\"display:none;\">\n",
              "        \n",
              "  <svg xmlns=\"http://www.w3.org/2000/svg\" height=\"24px\"viewBox=\"0 0 24 24\"\n",
              "       width=\"24px\">\n",
              "    <path d=\"M0 0h24v24H0V0z\" fill=\"none\"/>\n",
              "    <path d=\"M18.56 5.44l.94 2.06.94-2.06 2.06-.94-2.06-.94-.94-2.06-.94 2.06-2.06.94zm-11 1L8.5 8.5l.94-2.06 2.06-.94-2.06-.94L8.5 2.5l-.94 2.06-2.06.94zm10 10l.94 2.06.94-2.06 2.06-.94-2.06-.94-.94-2.06-.94 2.06-2.06.94z\"/><path d=\"M17.41 7.96l-1.37-1.37c-.4-.4-.92-.59-1.43-.59-.52 0-1.04.2-1.43.59L10.3 9.45l-7.72 7.72c-.78.78-.78 2.05 0 2.83L4 21.41c.39.39.9.59 1.41.59.51 0 1.02-.2 1.41-.59l7.78-7.78 2.81-2.81c.8-.78.8-2.07 0-2.86zM5.41 20L4 18.59l7.72-7.72 1.47 1.35L5.41 20z\"/>\n",
              "  </svg>\n",
              "      </button>\n",
              "      \n",
              "  <style>\n",
              "    .colab-df-container {\n",
              "      display:flex;\n",
              "      flex-wrap:wrap;\n",
              "      gap: 12px;\n",
              "    }\n",
              "\n",
              "    .colab-df-convert {\n",
              "      background-color: #E8F0FE;\n",
              "      border: none;\n",
              "      border-radius: 50%;\n",
              "      cursor: pointer;\n",
              "      display: none;\n",
              "      fill: #1967D2;\n",
              "      height: 32px;\n",
              "      padding: 0 0 0 0;\n",
              "      width: 32px;\n",
              "    }\n",
              "\n",
              "    .colab-df-convert:hover {\n",
              "      background-color: #E2EBFA;\n",
              "      box-shadow: 0px 1px 2px rgba(60, 64, 67, 0.3), 0px 1px 3px 1px rgba(60, 64, 67, 0.15);\n",
              "      fill: #174EA6;\n",
              "    }\n",
              "\n",
              "    [theme=dark] .colab-df-convert {\n",
              "      background-color: #3B4455;\n",
              "      fill: #D2E3FC;\n",
              "    }\n",
              "\n",
              "    [theme=dark] .colab-df-convert:hover {\n",
              "      background-color: #434B5C;\n",
              "      box-shadow: 0px 1px 3px 1px rgba(0, 0, 0, 0.15);\n",
              "      filter: drop-shadow(0px 1px 2px rgba(0, 0, 0, 0.3));\n",
              "      fill: #FFFFFF;\n",
              "    }\n",
              "  </style>\n",
              "\n",
              "      <script>\n",
              "        const buttonEl =\n",
              "          document.querySelector('#df-a9556c39-ca7e-4fcd-a243-6ff7e7e0ba72 button.colab-df-convert');\n",
              "        buttonEl.style.display =\n",
              "          google.colab.kernel.accessAllowed ? 'block' : 'none';\n",
              "\n",
              "        async function convertToInteractive(key) {\n",
              "          const element = document.querySelector('#df-a9556c39-ca7e-4fcd-a243-6ff7e7e0ba72');\n",
              "          const dataTable =\n",
              "            await google.colab.kernel.invokeFunction('convertToInteractive',\n",
              "                                                     [key], {});\n",
              "          if (!dataTable) return;\n",
              "\n",
              "          const docLinkHtml = 'Like what you see? Visit the ' +\n",
              "            '<a target=\"_blank\" href=https://colab.research.google.com/notebooks/data_table.ipynb>data table notebook</a>'\n",
              "            + ' to learn more about interactive tables.';\n",
              "          element.innerHTML = '';\n",
              "          dataTable['output_type'] = 'display_data';\n",
              "          await google.colab.output.renderOutput(dataTable, element);\n",
              "          const docLink = document.createElement('div');\n",
              "          docLink.innerHTML = docLinkHtml;\n",
              "          element.appendChild(docLink);\n",
              "        }\n",
              "      </script>\n",
              "    </div>\n",
              "  </div>\n",
              "  "
            ]
          },
          "metadata": {},
          "execution_count": 21
        }
      ]
    },
    {
      "cell_type": "markdown",
      "source": [
        "<h3>3.3.3. Univariate Analysis of the ap_hi (Systolic blood pressure) Feature </h3>"
      ],
      "metadata": {
        "id": "_Ze7Mp4hn_er"
      }
    },
    {
      "cell_type": "markdown",
      "metadata": {
        "id": "v0iN9bv1oSwm"
      },
      "source": [
        "<p style=\"font-size:18px;\"> <b>Q1.</b> What type of feature ap_hi is ?</p>\n",
        "<p style=\"font-size:16px;\"><b>Ans.</b> ap_hi is a numerical feature. </p>\n"
      ]
    },
    {
      "cell_type": "code",
      "source": [
        "sns.set_style('dark')\n",
        "sns.boxplot(data['ap_hi'],palette='pink')\n",
        "plt.title('Distribution of Systolic Blood Pressure')"
      ],
      "metadata": {
        "colab": {
          "base_uri": "https://localhost:8080/",
          "height": 313
        },
        "outputId": "ee655f46-a2ef-4a4a-dbe5-30f43f450fb2",
        "id": "rTzwWH-pooaX"
      },
      "execution_count": null,
      "outputs": [
        {
          "output_type": "execute_result",
          "data": {
            "text/plain": [
              "Text(0.5, 1.0, 'Distribution of Systolic Blood Pressure')"
            ]
          },
          "metadata": {},
          "execution_count": 22
        },
        {
          "output_type": "display_data",
          "data": {
            "text/plain": [
              "<Figure size 432x288 with 1 Axes>"
            ],
            "image/png": "[encoded data removed]"
          },
          "metadata": {}
        }
      ]
    },
    {
      "cell_type": "markdown",
      "source": [
        "<p> From the boxplot of ap_hi feature, we can see that there are huge number of outliers. Such large values of systolic blood pressure are not possible because the normal value of systolic blood pressure is less than or equal to 120 mm Hg.<p>"
      ],
      "metadata": {
        "id": "M5pU7LVUpTq5"
      }
    },
    {
      "cell_type": "code",
      "source": [
        "for i in range(90,101):\n",
        "    print('{} Percentile is ='.format(i),np.percentile(data['ap_hi'], i))\n"
      ],
      "metadata": {
        "colab": {
          "base_uri": "https://localhost:8080/"
        },
        "outputId": "40f57190-90ad-4bf0-c4aa-4841c24ae750",
        "id": "xx-LsWg1qeOm"
      },
      "execution_count": null,
      "outputs": [
        {
          "output_type": "stream",
          "name": "stdout",
          "text": [
            "90 Percentile is = 150.0\n",
            "91 Percentile is = 150.0\n",
            "92 Percentile is = 150.0\n",
            "93 Percentile is = 160.0\n",
            "94 Percentile is = 160.0\n",
            "95 Percentile is = 160.0\n",
            "96 Percentile is = 160.0\n",
            "97 Percentile is = 160.0\n",
            "98 Percentile is = 170.0\n",
            "99 Percentile is = 180.0\n",
            "100 Percentile is = 16020.0\n"
          ]
        }
      ]
    },
    {
      "cell_type": "code",
      "source": [
        "for i in [99.1,99.2,99.3,99.4,99.5,99.6,99.7,99.8,99.9,100]:\n",
        "    print('{} Percentile is ='.format(i),np.percentile(data['ap_hi'], i))"
      ],
      "metadata": {
        "colab": {
          "base_uri": "https://localhost:8080/"
        },
        "outputId": "84760717-9661-4210-da98-a0a48a99c941",
        "id": "7Q6OHm1cq2gX"
      },
      "execution_count": null,
      "outputs": [
        {
          "output_type": "stream",
          "name": "stdout",
          "text": [
            "99.1 Percentile is = 180.0\n",
            "99.2 Percentile is = 180.0\n",
            "99.3 Percentile is = 180.0\n",
            "99.4 Percentile is = 180.0\n",
            "99.5 Percentile is = 190.0\n",
            "99.6 Percentile is = 190.0\n",
            "99.7 Percentile is = 196.36900000000605\n",
            "99.8 Percentile is = 200.0\n",
            "99.9 Percentile is = 220.0\n",
            "100 Percentile is = 16020.0\n"
          ]
        }
      ]
    },
    {
      "cell_type": "markdown",
      "source": [
        "<p> We found that 99.9 % of the patients in the dataset have systolic blood pressure less than 220 mm of Hg. We will keep only those patients in our dataset who have systolic blood pressure less than 220 mm of Hg. If for a particular patient, the systolic blood pressure is more than 220 mm of Hg, then most likely that patient's systolic blood pressure is an outlier which we will remove.<p>"
      ],
      "metadata": {
        "id": "gumwXLatrBnV"
      }
    },
    {
      "cell_type": "code",
      "source": [
        "data=data[data['ap_hi']<=220]\n",
        "data.head()"
      ],
      "metadata": {
        "colab": {
          "base_uri": "https://localhost:8080/",
          "height": 206
        },
        "outputId": "604b11cc-3aaf-48df-acc5-7deb443e6c76",
        "id": "3YtJR-UHrheC"
      },
      "execution_count": null,
      "outputs": [
        {
          "output_type": "execute_result",
          "data": {
            "text/plain": [
              "   id   age  gender  height  weight  ap_hi  ap_lo  cholesterol  gluc  smoke  \\\n",
              "0   0  50.0       2     168    62.0    110     80            1     1      0   \n",
              "1   1  55.0       1     156    85.0    140     90            3     1      0   \n",
              "2   2  52.0       1     165    64.0    130     70            3     1      0   \n",
              "3   3  48.0       2     169    82.0    150    100            1     1      0   \n",
              "4   4  48.0       1     156    56.0    100     60            1     1      0   \n",
              "\n",
              "   alco  active  cardio  \n",
              "0     0       1       0  \n",
              "1     0       1       1  \n",
              "2     0       0       1  \n",
              "3     0       1       1  \n",
              "4     0       0       0  "
            ],
            "text/html": [
              "\n",
              "  <div id=\"df-f307e79b-6b2b-4b3d-8545-0837df14eed5\">\n",
              "    <div class=\"colab-df-container\">\n",
              "      <div>\n",
              "<style scoped>\n",
              "    .dataframe tbody tr th:only-of-type {\n",
              "        vertical-align: middle;\n",
              "    }\n",
              "\n",
              "    .dataframe tbody tr th {\n",
              "        vertical-align: top;\n",
              "    }\n",
              "\n",
              "    .dataframe thead th {\n",
              "        text-align: right;\n",
              "    }\n",
              "</style>\n",
              "<table border=\"1\" class=\"dataframe\">\n",
              "  <thead>\n",
              "    <tr style=\"text-align: right;\">\n",
              "      <th></th>\n",
              "      <th>id</th>\n",
              "      <th>age</th>\n",
              "      <th>gender</th>\n",
              "      <th>height</th>\n",
              "      <th>weight</th>\n",
              "      <th>ap_hi</th>\n",
              "      <th>ap_lo</th>\n",
              "      <th>cholesterol</th>\n",
              "      <th>gluc</th>\n",
              "      <th>smoke</th>\n",
              "      <th>alco</th>\n",
              "      <th>active</th>\n",
              "      <th>cardio</th>\n",
              "    </tr>\n",
              "  </thead>\n",
              "  <tbody>\n",
              "    <tr>\n",
              "      <th>0</th>\n",
              "      <td>0</td>\n",
              "      <td>50.0</td>\n",
              "      <td>2</td>\n",
              "      <td>168</td>\n",
              "      <td>62.0</td>\n",
              "      <td>110</td>\n",
              "      <td>80</td>\n",
              "      <td>1</td>\n",
              "      <td>1</td>\n",
              "      <td>0</td>\n",
              "      <td>0</td>\n",
              "      <td>1</td>\n",
              "      <td>0</td>\n",
              "    </tr>\n",
              "    <tr>\n",
              "      <th>1</th>\n",
              "      <td>1</td>\n",
              "      <td>55.0</td>\n",
              "      <td>1</td>\n",
              "      <td>156</td>\n",
              "      <td>85.0</td>\n",
              "      <td>140</td>\n",
              "      <td>90</td>\n",
              "      <td>3</td>\n",
              "      <td>1</td>\n",
              "      <td>0</td>\n",
              "      <td>0</td>\n",
              "      <td>1</td>\n",
              "      <td>1</td>\n",
              "    </tr>\n",
              "    <tr>\n",
              "      <th>2</th>\n",
              "      <td>2</td>\n",
              "      <td>52.0</td>\n",
              "      <td>1</td>\n",
              "      <td>165</td>\n",
              "      <td>64.0</td>\n",
              "      <td>130</td>\n",
              "      <td>70</td>\n",
              "      <td>3</td>\n",
              "      <td>1</td>\n",
              "      <td>0</td>\n",
              "      <td>0</td>\n",
              "      <td>0</td>\n",
              "      <td>1</td>\n",
              "    </tr>\n",
              "    <tr>\n",
              "      <th>3</th>\n",
              "      <td>3</td>\n",
              "      <td>48.0</td>\n",
              "      <td>2</td>\n",
              "      <td>169</td>\n",
              "      <td>82.0</td>\n",
              "      <td>150</td>\n",
              "      <td>100</td>\n",
              "      <td>1</td>\n",
              "      <td>1</td>\n",
              "      <td>0</td>\n",
              "      <td>0</td>\n",
              "      <td>1</td>\n",
              "      <td>1</td>\n",
              "    </tr>\n",
              "    <tr>\n",
              "      <th>4</th>\n",
              "      <td>4</td>\n",
              "      <td>48.0</td>\n",
              "      <td>1</td>\n",
              "      <td>156</td>\n",
              "      <td>56.0</td>\n",
              "      <td>100</td>\n",
              "      <td>60</td>\n",
              "      <td>1</td>\n",
              "      <td>1</td>\n",
              "      <td>0</td>\n",
              "      <td>0</td>\n",
              "      <td>0</td>\n",
              "      <td>0</td>\n",
              "    </tr>\n",
              "  </tbody>\n",
              "</table>\n",
              "</div>\n",
              "      <button class=\"colab-df-convert\" onclick=\"convertToInteractive('df-f307e79b-6b2b-4b3d-8545-0837df14eed5')\"\n",
              "              title=\"Convert this dataframe to an interactive table.\"\n",
              "              style=\"display:none;\">\n",
              "        \n",
              "  <svg xmlns=\"http://www.w3.org/2000/svg\" height=\"24px\"viewBox=\"0 0 24 24\"\n",
              "       width=\"24px\">\n",
              "    <path d=\"M0 0h24v24H0V0z\" fill=\"none\"/>\n",
              "    <path d=\"M18.56 5.44l.94 2.06.94-2.06 2.06-.94-2.06-.94-.94-2.06-.94 2.06-2.06.94zm-11 1L8.5 8.5l.94-2.06 2.06-.94-2.06-.94L8.5 2.5l-.94 2.06-2.06.94zm10 10l.94 2.06.94-2.06 2.06-.94-2.06-.94-.94-2.06-.94 2.06-2.06.94z\"/><path d=\"M17.41 7.96l-1.37-1.37c-.4-.4-.92-.59-1.43-.59-.52 0-1.04.2-1.43.59L10.3 9.45l-7.72 7.72c-.78.78-.78 2.05 0 2.83L4 21.41c.39.39.9.59 1.41.59.51 0 1.02-.2 1.41-.59l7.78-7.78 2.81-2.81c.8-.78.8-2.07 0-2.86zM5.41 20L4 18.59l7.72-7.72 1.47 1.35L5.41 20z\"/>\n",
              "  </svg>\n",
              "      </button>\n",
              "      \n",
              "  <style>\n",
              "    .colab-df-container {\n",
              "      display:flex;\n",
              "      flex-wrap:wrap;\n",
              "      gap: 12px;\n",
              "    }\n",
              "\n",
              "    .colab-df-convert {\n",
              "      background-color: #E8F0FE;\n",
              "      border: none;\n",
              "      border-radius: 50%;\n",
              "      cursor: pointer;\n",
              "      display: none;\n",
              "      fill: #1967D2;\n",
              "      height: 32px;\n",
              "      padding: 0 0 0 0;\n",
              "      width: 32px;\n",
              "    }\n",
              "\n",
              "    .colab-df-convert:hover {\n",
              "      background-color: #E2EBFA;\n",
              "      box-shadow: 0px 1px 2px rgba(60, 64, 67, 0.3), 0px 1px 3px 1px rgba(60, 64, 67, 0.15);\n",
              "      fill: #174EA6;\n",
              "    }\n",
              "\n",
              "    [theme=dark] .colab-df-convert {\n",
              "      background-color: #3B4455;\n",
              "      fill: #D2E3FC;\n",
              "    }\n",
              "\n",
              "    [theme=dark] .colab-df-convert:hover {\n",
              "      background-color: #434B5C;\n",
              "      box-shadow: 0px 1px 3px 1px rgba(0, 0, 0, 0.15);\n",
              "      filter: drop-shadow(0px 1px 2px rgba(0, 0, 0, 0.3));\n",
              "      fill: #FFFFFF;\n",
              "    }\n",
              "  </style>\n",
              "\n",
              "      <script>\n",
              "        const buttonEl =\n",
              "          document.querySelector('#df-f307e79b-6b2b-4b3d-8545-0837df14eed5 button.colab-df-convert');\n",
              "        buttonEl.style.display =\n",
              "          google.colab.kernel.accessAllowed ? 'block' : 'none';\n",
              "\n",
              "        async function convertToInteractive(key) {\n",
              "          const element = document.querySelector('#df-f307e79b-6b2b-4b3d-8545-0837df14eed5');\n",
              "          const dataTable =\n",
              "            await google.colab.kernel.invokeFunction('convertToInteractive',\n",
              "                                                     [key], {});\n",
              "          if (!dataTable) return;\n",
              "\n",
              "          const docLinkHtml = 'Like what you see? Visit the ' +\n",
              "            '<a target=\"_blank\" href=https://colab.research.google.com/notebooks/data_table.ipynb>data table notebook</a>'\n",
              "            + ' to learn more about interactive tables.';\n",
              "          element.innerHTML = '';\n",
              "          dataTable['output_type'] = 'display_data';\n",
              "          await google.colab.output.renderOutput(dataTable, element);\n",
              "          const docLink = document.createElement('div');\n",
              "          docLink.innerHTML = docLinkHtml;\n",
              "          element.appendChild(docLink);\n",
              "        }\n",
              "      </script>\n",
              "    </div>\n",
              "  </div>\n",
              "  "
            ]
          },
          "metadata": {},
          "execution_count": 25
        }
      ]
    },
    {
      "cell_type": "markdown",
      "source": [
        "<h3>3.3.4. Univariate Analysis of the ap_lo (Diastolic blood pressure) Feature </h3>"
      ],
      "metadata": {
        "id": "pQEIWdPmr0J_"
      }
    },
    {
      "cell_type": "markdown",
      "metadata": {
        "id": "CH5I-8tSr92t"
      },
      "source": [
        "<p style=\"font-size:18px;\"> <b>Q1.</b> What type of feature ap_lo is ?</p>\n",
        "<p style=\"font-size:16px;\"><b>Ans.</b> ap_lo is a numerical feature. </p>\n"
      ]
    },
    {
      "cell_type": "code",
      "source": [
        "sns.set_style('dark')\n",
        "sns.boxplot(data['ap_lo'],palette='pink')\n",
        "plt.title('Distribution of Diastolic Blood Pressure')"
      ],
      "metadata": {
        "colab": {
          "base_uri": "https://localhost:8080/",
          "height": 313
        },
        "outputId": "e899977f-04f8-4e23-ad69-b2e1de08115c",
        "id": "aaXjGRzOsD5Q"
      },
      "execution_count": null,
      "outputs": [
        {
          "output_type": "execute_result",
          "data": {
            "text/plain": [
              "Text(0.5, 1.0, 'Distribution of Diastolic Blood Pressure')"
            ]
          },
          "metadata": {},
          "execution_count": 26
        },
        {
          "output_type": "display_data",
          "data": {
            "text/plain": [
              "<Figure size 432x288 with 1 Axes>"
            ],
            "image/png": "[encoded data removed]"
          },
          "metadata": {}
        }
      ]
    },
    {
      "cell_type": "markdown",
      "source": [
        "<p> From the boxplot of ap_lo feature, we can see that there are huge number of outliers. Such large values of diastolic blood pressure are not possible because the normal value of diastolic blood pressure is less than or equal to 80 mm Hg.<p>"
      ],
      "metadata": {
        "id": "XXeNPImLsLeC"
      }
    },
    {
      "cell_type": "code",
      "source": [
        "for i in range(90,101):\n",
        "    print('{} Percentile is ='.format(i),np.percentile(data['ap_lo'], i))\n"
      ],
      "metadata": {
        "colab": {
          "base_uri": "https://localhost:8080/"
        },
        "outputId": "b13e3289-b502-4c6e-8675-5bc3b52e9e2c",
        "id": "lt5rzSPAtSDP"
      },
      "execution_count": null,
      "outputs": [
        {
          "output_type": "stream",
          "name": "stdout",
          "text": [
            "90 Percentile is = 90.0\n",
            "91 Percentile is = 90.0\n",
            "92 Percentile is = 100.0\n",
            "93 Percentile is = 100.0\n",
            "94 Percentile is = 100.0\n",
            "95 Percentile is = 100.0\n",
            "96 Percentile is = 100.0\n",
            "97 Percentile is = 100.0\n",
            "98 Percentile is = 110.0\n",
            "99 Percentile is = 1000.0\n",
            "100 Percentile is = 11000.0\n"
          ]
        }
      ]
    },
    {
      "cell_type": "code",
      "source": [
        "for i in [99.1,99.2,99.3,99.4,99.5,99.6,99.7,99.8,99.9,100]:\n",
        "    print('{} Percentile is ='.format(i),np.percentile(data['ap_lo'], i))"
      ],
      "metadata": {
        "colab": {
          "base_uri": "https://localhost:8080/"
        },
        "outputId": "00ee2d25-aea9-47fd-a0f4-f1c6849a22bc",
        "id": "2KlhDYv5t80u"
      },
      "execution_count": null,
      "outputs": [
        {
          "output_type": "stream",
          "name": "stdout",
          "text": [
            "99.1 Percentile is = 1000.0\n",
            "99.2 Percentile is = 1000.0\n",
            "99.3 Percentile is = 1000.0\n",
            "99.4 Percentile is = 1000.0\n",
            "99.5 Percentile is = 1000.0\n",
            "99.6 Percentile is = 1000.0\n",
            "99.7 Percentile is = 1100.0\n",
            "99.8 Percentile is = 1100.0\n",
            "99.9 Percentile is = 1110.0\n",
            "100 Percentile is = 11000.0\n"
          ]
        }
      ]
    },
    {
      "cell_type": "code",
      "source": [
        "for i in [98.1,98.2,98.3,98.4,98.5,98.6,98.7,98.8,98.9,99]:\n",
        "    print('{} Percentile is ='.format(i),np.percentile(data['ap_lo'], i))"
      ],
      "metadata": {
        "colab": {
          "base_uri": "https://localhost:8080/"
        },
        "id": "oJycZARIuGez",
        "outputId": "daf3be12-b93d-46c0-86c6-7ade42ffe230"
      },
      "execution_count": null,
      "outputs": [
        {
          "output_type": "stream",
          "name": "stdout",
          "text": [
            "98.1 Percentile is = 110.0\n",
            "98.2 Percentile is = 115.0\n",
            "98.3 Percentile is = 120.0\n",
            "98.4 Percentile is = 120.0\n",
            "98.5 Percentile is = 120.56500000000233\n",
            "98.6 Percentile is = 150.0\n",
            "98.7 Percentile is = 1000.0\n",
            "98.8 Percentile is = 1000.0\n",
            "98.9 Percentile is = 1000.0\n",
            "99 Percentile is = 1000.0\n"
          ]
        }
      ]
    },
    {
      "cell_type": "markdown",
      "source": [
        "<p> We observe that 98.6 % of the patients in the dataset have diastolic blood pressure less than 145 mm of Hg. We will keep only those patients in our dataset who have diastolic blood pressure less than 145 mm of Hg. If for a particular patient, the diastolic blood pressure is more than 145 mm of Hg, then most likely that patient's diastolic blood pressure is an outlier which we will remove.<p>"
      ],
      "metadata": {
        "id": "uopXVFGQueO7"
      }
    },
    {
      "cell_type": "code",
      "source": [
        "data=data[data['ap_lo']<=145]\n",
        "data.head()"
      ],
      "metadata": {
        "colab": {
          "base_uri": "https://localhost:8080/",
          "height": 206
        },
        "outputId": "e7044f50-9b2f-4b22-db93-a110b3c9ba73",
        "id": "zVMzU4j_vMgB"
      },
      "execution_count": null,
      "outputs": [
        {
          "output_type": "execute_result",
          "data": {
            "text/plain": [
              "   id   age  gender  height  weight  ap_hi  ap_lo  cholesterol  gluc  smoke  \\\n",
              "0   0  50.0       2     168    62.0    110     80            1     1      0   \n",
              "1   1  55.0       1     156    85.0    140     90            3     1      0   \n",
              "2   2  52.0       1     165    64.0    130     70            3     1      0   \n",
              "3   3  48.0       2     169    82.0    150    100            1     1      0   \n",
              "4   4  48.0       1     156    56.0    100     60            1     1      0   \n",
              "\n",
              "   alco  active  cardio  \n",
              "0     0       1       0  \n",
              "1     0       1       1  \n",
              "2     0       0       1  \n",
              "3     0       1       1  \n",
              "4     0       0       0  "
            ],
            "text/html": [
              "\n",
              "  <div id=\"df-1a3243f1-fb84-4df2-bf4a-820d0fb6b49a\">\n",
              "    <div class=\"colab-df-container\">\n",
              "      <div>\n",
              "<style scoped>\n",
              "    .dataframe tbody tr th:only-of-type {\n",
              "        vertical-align: middle;\n",
              "    }\n",
              "\n",
              "    .dataframe tbody tr th {\n",
              "        vertical-align: top;\n",
              "    }\n",
              "\n",
              "    .dataframe thead th {\n",
              "        text-align: right;\n",
              "    }\n",
              "</style>\n",
              "<table border=\"1\" class=\"dataframe\">\n",
              "  <thead>\n",
              "    <tr style=\"text-align: right;\">\n",
              "      <th></th>\n",
              "      <th>id</th>\n",
              "      <th>age</th>\n",
              "      <th>gender</th>\n",
              "      <th>height</th>\n",
              "      <th>weight</th>\n",
              "      <th>ap_hi</th>\n",
              "      <th>ap_lo</th>\n",
              "      <th>cholesterol</th>\n",
              "      <th>gluc</th>\n",
              "      <th>smoke</th>\n",
              "      <th>alco</th>\n",
              "      <th>active</th>\n",
              "      <th>cardio</th>\n",
              "    </tr>\n",
              "  </thead>\n",
              "  <tbody>\n",
              "    <tr>\n",
              "      <th>0</th>\n",
              "      <td>0</td>\n",
              "      <td>50.0</td>\n",
              "      <td>2</td>\n",
              "      <td>168</td>\n",
              "      <td>62.0</td>\n",
              "      <td>110</td>\n",
              "      <td>80</td>\n",
              "      <td>1</td>\n",
              "      <td>1</td>\n",
              "      <td>0</td>\n",
              "      <td>0</td>\n",
              "      <td>1</td>\n",
              "      <td>0</td>\n",
              "    </tr>\n",
              "    <tr>\n",
              "      <th>1</th>\n",
              "      <td>1</td>\n",
              "      <td>55.0</td>\n",
              "      <td>1</td>\n",
              "      <td>156</td>\n",
              "      <td>85.0</td>\n",
              "      <td>140</td>\n",
              "      <td>90</td>\n",
              "      <td>3</td>\n",
              "      <td>1</td>\n",
              "      <td>0</td>\n",
              "      <td>0</td>\n",
              "      <td>1</td>\n",
              "      <td>1</td>\n",
              "    </tr>\n",
              "    <tr>\n",
              "      <th>2</th>\n",
              "      <td>2</td>\n",
              "      <td>52.0</td>\n",
              "      <td>1</td>\n",
              "      <td>165</td>\n",
              "      <td>64.0</td>\n",
              "      <td>130</td>\n",
              "      <td>70</td>\n",
              "      <td>3</td>\n",
              "      <td>1</td>\n",
              "      <td>0</td>\n",
              "      <td>0</td>\n",
              "      <td>0</td>\n",
              "      <td>1</td>\n",
              "    </tr>\n",
              "    <tr>\n",
              "      <th>3</th>\n",
              "      <td>3</td>\n",
              "      <td>48.0</td>\n",
              "      <td>2</td>\n",
              "      <td>169</td>\n",
              "      <td>82.0</td>\n",
              "      <td>150</td>\n",
              "      <td>100</td>\n",
              "      <td>1</td>\n",
              "      <td>1</td>\n",
              "      <td>0</td>\n",
              "      <td>0</td>\n",
              "      <td>1</td>\n",
              "      <td>1</td>\n",
              "    </tr>\n",
              "    <tr>\n",
              "      <th>4</th>\n",
              "      <td>4</td>\n",
              "      <td>48.0</td>\n",
              "      <td>1</td>\n",
              "      <td>156</td>\n",
              "      <td>56.0</td>\n",
              "      <td>100</td>\n",
              "      <td>60</td>\n",
              "      <td>1</td>\n",
              "      <td>1</td>\n",
              "      <td>0</td>\n",
              "      <td>0</td>\n",
              "      <td>0</td>\n",
              "      <td>0</td>\n",
              "    </tr>\n",
              "  </tbody>\n",
              "</table>\n",
              "</div>\n",
              "      <button class=\"colab-df-convert\" onclick=\"convertToInteractive('df-1a3243f1-fb84-4df2-bf4a-820d0fb6b49a')\"\n",
              "              title=\"Convert this dataframe to an interactive table.\"\n",
              "              style=\"display:none;\">\n",
              "        \n",
              "  <svg xmlns=\"http://www.w3.org/2000/svg\" height=\"24px\"viewBox=\"0 0 24 24\"\n",
              "       width=\"24px\">\n",
              "    <path d=\"M0 0h24v24H0V0z\" fill=\"none\"/>\n",
              "    <path d=\"M18.56 5.44l.94 2.06.94-2.06 2.06-.94-2.06-.94-.94-2.06-.94 2.06-2.06.94zm-11 1L8.5 8.5l.94-2.06 2.06-.94-2.06-.94L8.5 2.5l-.94 2.06-2.06.94zm10 10l.94 2.06.94-2.06 2.06-.94-2.06-.94-.94-2.06-.94 2.06-2.06.94z\"/><path d=\"M17.41 7.96l-1.37-1.37c-.4-.4-.92-.59-1.43-.59-.52 0-1.04.2-1.43.59L10.3 9.45l-7.72 7.72c-.78.78-.78 2.05 0 2.83L4 21.41c.39.39.9.59 1.41.59.51 0 1.02-.2 1.41-.59l7.78-7.78 2.81-2.81c.8-.78.8-2.07 0-2.86zM5.41 20L4 18.59l7.72-7.72 1.47 1.35L5.41 20z\"/>\n",
              "  </svg>\n",
              "      </button>\n",
              "      \n",
              "  <style>\n",
              "    .colab-df-container {\n",
              "      display:flex;\n",
              "      flex-wrap:wrap;\n",
              "      gap: 12px;\n",
              "    }\n",
              "\n",
              "    .colab-df-convert {\n",
              "      background-color: #E8F0FE;\n",
              "      border: none;\n",
              "      border-radius: 50%;\n",
              "      cursor: pointer;\n",
              "      display: none;\n",
              "      fill: #1967D2;\n",
              "      height: 32px;\n",
              "      padding: 0 0 0 0;\n",
              "      width: 32px;\n",
              "    }\n",
              "\n",
              "    .colab-df-convert:hover {\n",
              "      background-color: #E2EBFA;\n",
              "      box-shadow: 0px 1px 2px rgba(60, 64, 67, 0.3), 0px 1px 3px 1px rgba(60, 64, 67, 0.15);\n",
              "      fill: #174EA6;\n",
              "    }\n",
              "\n",
              "    [theme=dark] .colab-df-convert {\n",
              "      background-color: #3B4455;\n",
              "      fill: #D2E3FC;\n",
              "    }\n",
              "\n",
              "    [theme=dark] .colab-df-convert:hover {\n",
              "      background-color: #434B5C;\n",
              "      box-shadow: 0px 1px 3px 1px rgba(0, 0, 0, 0.15);\n",
              "      filter: drop-shadow(0px 1px 2px rgba(0, 0, 0, 0.3));\n",
              "      fill: #FFFFFF;\n",
              "    }\n",
              "  </style>\n",
              "\n",
              "      <script>\n",
              "        const buttonEl =\n",
              "          document.querySelector('#df-1a3243f1-fb84-4df2-bf4a-820d0fb6b49a button.colab-df-convert');\n",
              "        buttonEl.style.display =\n",
              "          google.colab.kernel.accessAllowed ? 'block' : 'none';\n",
              "\n",
              "        async function convertToInteractive(key) {\n",
              "          const element = document.querySelector('#df-1a3243f1-fb84-4df2-bf4a-820d0fb6b49a');\n",
              "          const dataTable =\n",
              "            await google.colab.kernel.invokeFunction('convertToInteractive',\n",
              "                                                     [key], {});\n",
              "          if (!dataTable) return;\n",
              "\n",
              "          const docLinkHtml = 'Like what you see? Visit the ' +\n",
              "            '<a target=\"_blank\" href=https://colab.research.google.com/notebooks/data_table.ipynb>data table notebook</a>'\n",
              "            + ' to learn more about interactive tables.';\n",
              "          element.innerHTML = '';\n",
              "          dataTable['output_type'] = 'display_data';\n",
              "          await google.colab.output.renderOutput(dataTable, element);\n",
              "          const docLink = document.createElement('div');\n",
              "          docLink.innerHTML = docLinkHtml;\n",
              "          element.appendChild(docLink);\n",
              "        }\n",
              "      </script>\n",
              "    </div>\n",
              "  </div>\n",
              "  "
            ]
          },
          "metadata": {},
          "execution_count": 30
        }
      ]
    },
    {
      "cell_type": "code",
      "source": [
        "incorrect_data=data[data['ap_lo']>data['ap_hi']]\n",
        "incorrect_data.head()"
      ],
      "metadata": {
        "colab": {
          "base_uri": "https://localhost:8080/",
          "height": 206
        },
        "id": "s1EGXkPLrd9p",
        "outputId": "6109e8c7-ae79-4391-8741-fb95ed0b3b10"
      },
      "execution_count": null,
      "outputs": [
        {
          "output_type": "execute_result",
          "data": {
            "text/plain": [
              "        id   age  gender  height  weight  ap_hi  ap_lo  cholesterol  gluc  \\\n",
              "567    815  58.0       1     168    78.0     14     90            2     1   \n",
              "636    913  56.0       2     169    68.0     70    110            1     1   \n",
              "927   1294  60.0       2     175    70.0     14     90            3     1   \n",
              "979   1360  50.0       1     172    65.0     11     80            1     3   \n",
              "1600  2260  53.0       1     165    66.0     12     80            1     1   \n",
              "\n",
              "      smoke  alco  active  cardio  \n",
              "567       0     0       1       1  \n",
              "636       0     0       1       0  \n",
              "927       0     0       1       1  \n",
              "979       0     0       1       0  \n",
              "1600      0     0       1       0  "
            ],
            "text/html": [
              "\n",
              "  <div id=\"df-e29da44d-de82-4659-9b7e-94baea9b50fe\">\n",
              "    <div class=\"colab-df-container\">\n",
              "      <div>\n",
              "<style scoped>\n",
              "    .dataframe tbody tr th:only-of-type {\n",
              "        vertical-align: middle;\n",
              "    }\n",
              "\n",
              "    .dataframe tbody tr th {\n",
              "        vertical-align: top;\n",
              "    }\n",
              "\n",
              "    .dataframe thead th {\n",
              "        text-align: right;\n",
              "    }\n",
              "</style>\n",
              "<table border=\"1\" class=\"dataframe\">\n",
              "  <thead>\n",
              "    <tr style=\"text-align: right;\">\n",
              "      <th></th>\n",
              "      <th>id</th>\n",
              "      <th>age</th>\n",
              "      <th>gender</th>\n",
              "      <th>height</th>\n",
              "      <th>weight</th>\n",
              "      <th>ap_hi</th>\n",
              "      <th>ap_lo</th>\n",
              "      <th>cholesterol</th>\n",
              "      <th>gluc</th>\n",
              "      <th>smoke</th>\n",
              "      <th>alco</th>\n",
              "      <th>active</th>\n",
              "      <th>cardio</th>\n",
              "    </tr>\n",
              "  </thead>\n",
              "  <tbody>\n",
              "    <tr>\n",
              "      <th>567</th>\n",
              "      <td>815</td>\n",
              "      <td>58.0</td>\n",
              "      <td>1</td>\n",
              "      <td>168</td>\n",
              "      <td>78.0</td>\n",
              "      <td>14</td>\n",
              "      <td>90</td>\n",
              "      <td>2</td>\n",
              "      <td>1</td>\n",
              "      <td>0</td>\n",
              "      <td>0</td>\n",
              "      <td>1</td>\n",
              "      <td>1</td>\n",
              "    </tr>\n",
              "    <tr>\n",
              "      <th>636</th>\n",
              "      <td>913</td>\n",
              "      <td>56.0</td>\n",
              "      <td>2</td>\n",
              "      <td>169</td>\n",
              "      <td>68.0</td>\n",
              "      <td>70</td>\n",
              "      <td>110</td>\n",
              "      <td>1</td>\n",
              "      <td>1</td>\n",
              "      <td>0</td>\n",
              "      <td>0</td>\n",
              "      <td>1</td>\n",
              "      <td>0</td>\n",
              "    </tr>\n",
              "    <tr>\n",
              "      <th>927</th>\n",
              "      <td>1294</td>\n",
              "      <td>60.0</td>\n",
              "      <td>2</td>\n",
              "      <td>175</td>\n",
              "      <td>70.0</td>\n",
              "      <td>14</td>\n",
              "      <td>90</td>\n",
              "      <td>3</td>\n",
              "      <td>1</td>\n",
              "      <td>0</td>\n",
              "      <td>0</td>\n",
              "      <td>1</td>\n",
              "      <td>1</td>\n",
              "    </tr>\n",
              "    <tr>\n",
              "      <th>979</th>\n",
              "      <td>1360</td>\n",
              "      <td>50.0</td>\n",
              "      <td>1</td>\n",
              "      <td>172</td>\n",
              "      <td>65.0</td>\n",
              "      <td>11</td>\n",
              "      <td>80</td>\n",
              "      <td>1</td>\n",
              "      <td>3</td>\n",
              "      <td>0</td>\n",
              "      <td>0</td>\n",
              "      <td>1</td>\n",
              "      <td>0</td>\n",
              "    </tr>\n",
              "    <tr>\n",
              "      <th>1600</th>\n",
              "      <td>2260</td>\n",
              "      <td>53.0</td>\n",
              "      <td>1</td>\n",
              "      <td>165</td>\n",
              "      <td>66.0</td>\n",
              "      <td>12</td>\n",
              "      <td>80</td>\n",
              "      <td>1</td>\n",
              "      <td>1</td>\n",
              "      <td>0</td>\n",
              "      <td>0</td>\n",
              "      <td>1</td>\n",
              "      <td>0</td>\n",
              "    </tr>\n",
              "  </tbody>\n",
              "</table>\n",
              "</div>\n",
              "      <button class=\"colab-df-convert\" onclick=\"convertToInteractive('df-e29da44d-de82-4659-9b7e-94baea9b50fe')\"\n",
              "              title=\"Convert this dataframe to an interactive table.\"\n",
              "              style=\"display:none;\">\n",
              "        \n",
              "  <svg xmlns=\"http://www.w3.org/2000/svg\" height=\"24px\"viewBox=\"0 0 24 24\"\n",
              "       width=\"24px\">\n",
              "    <path d=\"M0 0h24v24H0V0z\" fill=\"none\"/>\n",
              "    <path d=\"M18.56 5.44l.94 2.06.94-2.06 2.06-.94-2.06-.94-.94-2.06-.94 2.06-2.06.94zm-11 1L8.5 8.5l.94-2.06 2.06-.94-2.06-.94L8.5 2.5l-.94 2.06-2.06.94zm10 10l.94 2.06.94-2.06 2.06-.94-2.06-.94-.94-2.06-.94 2.06-2.06.94z\"/><path d=\"M17.41 7.96l-1.37-1.37c-.4-.4-.92-.59-1.43-.59-.52 0-1.04.2-1.43.59L10.3 9.45l-7.72 7.72c-.78.78-.78 2.05 0 2.83L4 21.41c.39.39.9.59 1.41.59.51 0 1.02-.2 1.41-.59l7.78-7.78 2.81-2.81c.8-.78.8-2.07 0-2.86zM5.41 20L4 18.59l7.72-7.72 1.47 1.35L5.41 20z\"/>\n",
              "  </svg>\n",
              "      </button>\n",
              "      \n",
              "  <style>\n",
              "    .colab-df-container {\n",
              "      display:flex;\n",
              "      flex-wrap:wrap;\n",
              "      gap: 12px;\n",
              "    }\n",
              "\n",
              "    .colab-df-convert {\n",
              "      background-color: #E8F0FE;\n",
              "      border: none;\n",
              "      border-radius: 50%;\n",
              "      cursor: pointer;\n",
              "      display: none;\n",
              "      fill: #1967D2;\n",
              "      height: 32px;\n",
              "      padding: 0 0 0 0;\n",
              "      width: 32px;\n",
              "    }\n",
              "\n",
              "    .colab-df-convert:hover {\n",
              "      background-color: #E2EBFA;\n",
              "      box-shadow: 0px 1px 2px rgba(60, 64, 67, 0.3), 0px 1px 3px 1px rgba(60, 64, 67, 0.15);\n",
              "      fill: #174EA6;\n",
              "    }\n",
              "\n",
              "    [theme=dark] .colab-df-convert {\n",
              "      background-color: #3B4455;\n",
              "      fill: #D2E3FC;\n",
              "    }\n",
              "\n",
              "    [theme=dark] .colab-df-convert:hover {\n",
              "      background-color: #434B5C;\n",
              "      box-shadow: 0px 1px 3px 1px rgba(0, 0, 0, 0.15);\n",
              "      filter: drop-shadow(0px 1px 2px rgba(0, 0, 0, 0.3));\n",
              "      fill: #FFFFFF;\n",
              "    }\n",
              "  </style>\n",
              "\n",
              "      <script>\n",
              "        const buttonEl =\n",
              "          document.querySelector('#df-e29da44d-de82-4659-9b7e-94baea9b50fe button.colab-df-convert');\n",
              "        buttonEl.style.display =\n",
              "          google.colab.kernel.accessAllowed ? 'block' : 'none';\n",
              "\n",
              "        async function convertToInteractive(key) {\n",
              "          const element = document.querySelector('#df-e29da44d-de82-4659-9b7e-94baea9b50fe');\n",
              "          const dataTable =\n",
              "            await google.colab.kernel.invokeFunction('convertToInteractive',\n",
              "                                                     [key], {});\n",
              "          if (!dataTable) return;\n",
              "\n",
              "          const docLinkHtml = 'Like what you see? Visit the ' +\n",
              "            '<a target=\"_blank\" href=https://colab.research.google.com/notebooks/data_table.ipynb>data table notebook</a>'\n",
              "            + ' to learn more about interactive tables.';\n",
              "          element.innerHTML = '';\n",
              "          dataTable['output_type'] = 'display_data';\n",
              "          await google.colab.output.renderOutput(dataTable, element);\n",
              "          const docLink = document.createElement('div');\n",
              "          docLink.innerHTML = docLinkHtml;\n",
              "          element.appendChild(docLink);\n",
              "        }\n",
              "      </script>\n",
              "    </div>\n",
              "  </div>\n",
              "  "
            ]
          },
          "metadata": {},
          "execution_count": 31
        }
      ]
    },
    {
      "cell_type": "markdown",
      "source": [
        "<p> It was found that for some patients, diastolic blood pressure was greater than systolic blood pressure. This is incorrect data because normally, systolic blood pressure is more than diastolic blood pressure. So we will remove all those datapoints in which diastolic blood pressure is greater than systolic blood pressure."
      ],
      "metadata": {
        "id": "lUcVcUpDzwuK"
      }
    },
    {
      "cell_type": "code",
      "source": [
        "data=data[data['ap_hi']>data['ap_lo']]\n",
        "data.head()"
      ],
      "metadata": {
        "colab": {
          "base_uri": "https://localhost:8080/",
          "height": 206
        },
        "id": "bkG1xy0WreA_",
        "outputId": "e7e5cd3e-b65b-4ecd-b130-45a941b2ac62"
      },
      "execution_count": null,
      "outputs": [
        {
          "output_type": "execute_result",
          "data": {
            "text/plain": [
              "   id   age  gender  height  weight  ap_hi  ap_lo  cholesterol  gluc  smoke  \\\n",
              "0   0  50.0       2     168    62.0    110     80            1     1      0   \n",
              "1   1  55.0       1     156    85.0    140     90            3     1      0   \n",
              "2   2  52.0       1     165    64.0    130     70            3     1      0   \n",
              "3   3  48.0       2     169    82.0    150    100            1     1      0   \n",
              "4   4  48.0       1     156    56.0    100     60            1     1      0   \n",
              "\n",
              "   alco  active  cardio  \n",
              "0     0       1       0  \n",
              "1     0       1       1  \n",
              "2     0       0       1  \n",
              "3     0       1       1  \n",
              "4     0       0       0  "
            ],
            "text/html": [
              "\n",
              "  <div id=\"df-9352c6cf-8486-45e1-9ec1-ab4c0e5a161e\">\n",
              "    <div class=\"colab-df-container\">\n",
              "      <div>\n",
              "<style scoped>\n",
              "    .dataframe tbody tr th:only-of-type {\n",
              "        vertical-align: middle;\n",
              "    }\n",
              "\n",
              "    .dataframe tbody tr th {\n",
              "        vertical-align: top;\n",
              "    }\n",
              "\n",
              "    .dataframe thead th {\n",
              "        text-align: right;\n",
              "    }\n",
              "</style>\n",
              "<table border=\"1\" class=\"dataframe\">\n",
              "  <thead>\n",
              "    <tr style=\"text-align: right;\">\n",
              "      <th></th>\n",
              "      <th>id</th>\n",
              "      <th>age</th>\n",
              "      <th>gender</th>\n",
              "      <th>height</th>\n",
              "      <th>weight</th>\n",
              "      <th>ap_hi</th>\n",
              "      <th>ap_lo</th>\n",
              "      <th>cholesterol</th>\n",
              "      <th>gluc</th>\n",
              "      <th>smoke</th>\n",
              "      <th>alco</th>\n",
              "      <th>active</th>\n",
              "      <th>cardio</th>\n",
              "    </tr>\n",
              "  </thead>\n",
              "  <tbody>\n",
              "    <tr>\n",
              "      <th>0</th>\n",
              "      <td>0</td>\n",
              "      <td>50.0</td>\n",
              "      <td>2</td>\n",
              "      <td>168</td>\n",
              "      <td>62.0</td>\n",
              "      <td>110</td>\n",
              "      <td>80</td>\n",
              "      <td>1</td>\n",
              "      <td>1</td>\n",
              "      <td>0</td>\n",
              "      <td>0</td>\n",
              "      <td>1</td>\n",
              "      <td>0</td>\n",
              "    </tr>\n",
              "    <tr>\n",
              "      <th>1</th>\n",
              "      <td>1</td>\n",
              "      <td>55.0</td>\n",
              "      <td>1</td>\n",
              "      <td>156</td>\n",
              "      <td>85.0</td>\n",
              "      <td>140</td>\n",
              "      <td>90</td>\n",
              "      <td>3</td>\n",
              "      <td>1</td>\n",
              "      <td>0</td>\n",
              "      <td>0</td>\n",
              "      <td>1</td>\n",
              "      <td>1</td>\n",
              "    </tr>\n",
              "    <tr>\n",
              "      <th>2</th>\n",
              "      <td>2</td>\n",
              "      <td>52.0</td>\n",
              "      <td>1</td>\n",
              "      <td>165</td>\n",
              "      <td>64.0</td>\n",
              "      <td>130</td>\n",
              "      <td>70</td>\n",
              "      <td>3</td>\n",
              "      <td>1</td>\n",
              "      <td>0</td>\n",
              "      <td>0</td>\n",
              "      <td>0</td>\n",
              "      <td>1</td>\n",
              "    </tr>\n",
              "    <tr>\n",
              "      <th>3</th>\n",
              "      <td>3</td>\n",
              "      <td>48.0</td>\n",
              "      <td>2</td>\n",
              "      <td>169</td>\n",
              "      <td>82.0</td>\n",
              "      <td>150</td>\n",
              "      <td>100</td>\n",
              "      <td>1</td>\n",
              "      <td>1</td>\n",
              "      <td>0</td>\n",
              "      <td>0</td>\n",
              "      <td>1</td>\n",
              "      <td>1</td>\n",
              "    </tr>\n",
              "    <tr>\n",
              "      <th>4</th>\n",
              "      <td>4</td>\n",
              "      <td>48.0</td>\n",
              "      <td>1</td>\n",
              "      <td>156</td>\n",
              "      <td>56.0</td>\n",
              "      <td>100</td>\n",
              "      <td>60</td>\n",
              "      <td>1</td>\n",
              "      <td>1</td>\n",
              "      <td>0</td>\n",
              "      <td>0</td>\n",
              "      <td>0</td>\n",
              "      <td>0</td>\n",
              "    </tr>\n",
              "  </tbody>\n",
              "</table>\n",
              "</div>\n",
              "      <button class=\"colab-df-convert\" onclick=\"convertToInteractive('df-9352c6cf-8486-45e1-9ec1-ab4c0e5a161e')\"\n",
              "              title=\"Convert this dataframe to an interactive table.\"\n",
              "              style=\"display:none;\">\n",
              "        \n",
              "  <svg xmlns=\"http://www.w3.org/2000/svg\" height=\"24px\"viewBox=\"0 0 24 24\"\n",
              "       width=\"24px\">\n",
              "    <path d=\"M0 0h24v24H0V0z\" fill=\"none\"/>\n",
              "    <path d=\"M18.56 5.44l.94 2.06.94-2.06 2.06-.94-2.06-.94-.94-2.06-.94 2.06-2.06.94zm-11 1L8.5 8.5l.94-2.06 2.06-.94-2.06-.94L8.5 2.5l-.94 2.06-2.06.94zm10 10l.94 2.06.94-2.06 2.06-.94-2.06-.94-.94-2.06-.94 2.06-2.06.94z\"/><path d=\"M17.41 7.96l-1.37-1.37c-.4-.4-.92-.59-1.43-.59-.52 0-1.04.2-1.43.59L10.3 9.45l-7.72 7.72c-.78.78-.78 2.05 0 2.83L4 21.41c.39.39.9.59 1.41.59.51 0 1.02-.2 1.41-.59l7.78-7.78 2.81-2.81c.8-.78.8-2.07 0-2.86zM5.41 20L4 18.59l7.72-7.72 1.47 1.35L5.41 20z\"/>\n",
              "  </svg>\n",
              "      </button>\n",
              "      \n",
              "  <style>\n",
              "    .colab-df-container {\n",
              "      display:flex;\n",
              "      flex-wrap:wrap;\n",
              "      gap: 12px;\n",
              "    }\n",
              "\n",
              "    .colab-df-convert {\n",
              "      background-color: #E8F0FE;\n",
              "      border: none;\n",
              "      border-radius: 50%;\n",
              "      cursor: pointer;\n",
              "      display: none;\n",
              "      fill: #1967D2;\n",
              "      height: 32px;\n",
              "      padding: 0 0 0 0;\n",
              "      width: 32px;\n",
              "    }\n",
              "\n",
              "    .colab-df-convert:hover {\n",
              "      background-color: #E2EBFA;\n",
              "      box-shadow: 0px 1px 2px rgba(60, 64, 67, 0.3), 0px 1px 3px 1px rgba(60, 64, 67, 0.15);\n",
              "      fill: #174EA6;\n",
              "    }\n",
              "\n",
              "    [theme=dark] .colab-df-convert {\n",
              "      background-color: #3B4455;\n",
              "      fill: #D2E3FC;\n",
              "    }\n",
              "\n",
              "    [theme=dark] .colab-df-convert:hover {\n",
              "      background-color: #434B5C;\n",
              "      box-shadow: 0px 1px 3px 1px rgba(0, 0, 0, 0.15);\n",
              "      filter: drop-shadow(0px 1px 2px rgba(0, 0, 0, 0.3));\n",
              "      fill: #FFFFFF;\n",
              "    }\n",
              "  </style>\n",
              "\n",
              "      <script>\n",
              "        const buttonEl =\n",
              "          document.querySelector('#df-9352c6cf-8486-45e1-9ec1-ab4c0e5a161e button.colab-df-convert');\n",
              "        buttonEl.style.display =\n",
              "          google.colab.kernel.accessAllowed ? 'block' : 'none';\n",
              "\n",
              "        async function convertToInteractive(key) {\n",
              "          const element = document.querySelector('#df-9352c6cf-8486-45e1-9ec1-ab4c0e5a161e');\n",
              "          const dataTable =\n",
              "            await google.colab.kernel.invokeFunction('convertToInteractive',\n",
              "                                                     [key], {});\n",
              "          if (!dataTable) return;\n",
              "\n",
              "          const docLinkHtml = 'Like what you see? Visit the ' +\n",
              "            '<a target=\"_blank\" href=https://colab.research.google.com/notebooks/data_table.ipynb>data table notebook</a>'\n",
              "            + ' to learn more about interactive tables.';\n",
              "          element.innerHTML = '';\n",
              "          dataTable['output_type'] = 'display_data';\n",
              "          await google.colab.output.renderOutput(dataTable, element);\n",
              "          const docLink = document.createElement('div');\n",
              "          docLink.innerHTML = docLinkHtml;\n",
              "          element.appendChild(docLink);\n",
              "        }\n",
              "      </script>\n",
              "    </div>\n",
              "  </div>\n",
              "  "
            ]
          },
          "metadata": {},
          "execution_count": 32
        }
      ]
    },
    {
      "cell_type": "markdown",
      "source": [
        "<h2>3.4. Feature Engineering </h2>"
      ],
      "metadata": {
        "id": "MrMMe05Z61rS"
      }
    },
    {
      "cell_type": "markdown",
      "source": [
        "<h3>3.4.1. bmi (Body Mass Index) Feature </h3>"
      ],
      "metadata": {
        "id": "At-rTxvR8Nm9"
      }
    },
    {
      "cell_type": "markdown",
      "source": [
        "<p> The BMI of a patient can be a useful feature in predicting whether the patient has heart disease or not<p>"
      ],
      "metadata": {
        "id": "ZfjTAUyw8nzb"
      }
    },
    {
      "cell_type": "code",
      "source": [
        "data['bmi'] = (data['weight']/(data['height']/100)**2).round(1)\n",
        "data.head()"
      ],
      "metadata": {
        "colab": {
          "base_uri": "https://localhost:8080/",
          "height": 206
        },
        "id": "j3bJmKL9reFM",
        "outputId": "b942f630-1b1c-411a-a178-479cdd77c763"
      },
      "execution_count": null,
      "outputs": [
        {
          "output_type": "execute_result",
          "data": {
            "text/plain": [
              "   id   age  gender  height  weight  ap_hi  ap_lo  cholesterol  gluc  smoke  \\\n",
              "0   0  50.0       2     168    62.0    110     80            1     1      0   \n",
              "1   1  55.0       1     156    85.0    140     90            3     1      0   \n",
              "2   2  52.0       1     165    64.0    130     70            3     1      0   \n",
              "3   3  48.0       2     169    82.0    150    100            1     1      0   \n",
              "4   4  48.0       1     156    56.0    100     60            1     1      0   \n",
              "\n",
              "   alco  active  cardio   bmi  \n",
              "0     0       1       0  22.0  \n",
              "1     0       1       1  34.9  \n",
              "2     0       0       1  23.5  \n",
              "3     0       1       1  28.7  \n",
              "4     0       0       0  23.0  "
            ],
            "text/html": [
              "\n",
              "  <div id=\"df-2c6aa7aa-aa00-4d8f-aa82-610a69c22b10\">\n",
              "    <div class=\"colab-df-container\">\n",
              "      <div>\n",
              "<style scoped>\n",
              "    .dataframe tbody tr th:only-of-type {\n",
              "        vertical-align: middle;\n",
              "    }\n",
              "\n",
              "    .dataframe tbody tr th {\n",
              "        vertical-align: top;\n",
              "    }\n",
              "\n",
              "    .dataframe thead th {\n",
              "        text-align: right;\n",
              "    }\n",
              "</style>\n",
              "<table border=\"1\" class=\"dataframe\">\n",
              "  <thead>\n",
              "    <tr style=\"text-align: right;\">\n",
              "      <th></th>\n",
              "      <th>id</th>\n",
              "      <th>age</th>\n",
              "      <th>gender</th>\n",
              "      <th>height</th>\n",
              "      <th>weight</th>\n",
              "      <th>ap_hi</th>\n",
              "      <th>ap_lo</th>\n",
              "      <th>cholesterol</th>\n",
              "      <th>gluc</th>\n",
              "      <th>smoke</th>\n",
              "      <th>alco</th>\n",
              "      <th>active</th>\n",
              "      <th>cardio</th>\n",
              "      <th>bmi</th>\n",
              "    </tr>\n",
              "  </thead>\n",
              "  <tbody>\n",
              "    <tr>\n",
              "      <th>0</th>\n",
              "      <td>0</td>\n",
              "      <td>50.0</td>\n",
              "      <td>2</td>\n",
              "      <td>168</td>\n",
              "      <td>62.0</td>\n",
              "      <td>110</td>\n",
              "      <td>80</td>\n",
              "      <td>1</td>\n",
              "      <td>1</td>\n",
              "      <td>0</td>\n",
              "      <td>0</td>\n",
              "      <td>1</td>\n",
              "      <td>0</td>\n",
              "      <td>22.0</td>\n",
              "    </tr>\n",
              "    <tr>\n",
              "      <th>1</th>\n",
              "      <td>1</td>\n",
              "      <td>55.0</td>\n",
              "      <td>1</td>\n",
              "      <td>156</td>\n",
              "      <td>85.0</td>\n",
              "      <td>140</td>\n",
              "      <td>90</td>\n",
              "      <td>3</td>\n",
              "      <td>1</td>\n",
              "      <td>0</td>\n",
              "      <td>0</td>\n",
              "      <td>1</td>\n",
              "      <td>1</td>\n",
              "      <td>34.9</td>\n",
              "    </tr>\n",
              "    <tr>\n",
              "      <th>2</th>\n",
              "      <td>2</td>\n",
              "      <td>52.0</td>\n",
              "      <td>1</td>\n",
              "      <td>165</td>\n",
              "      <td>64.0</td>\n",
              "      <td>130</td>\n",
              "      <td>70</td>\n",
              "      <td>3</td>\n",
              "      <td>1</td>\n",
              "      <td>0</td>\n",
              "      <td>0</td>\n",
              "      <td>0</td>\n",
              "      <td>1</td>\n",
              "      <td>23.5</td>\n",
              "    </tr>\n",
              "    <tr>\n",
              "      <th>3</th>\n",
              "      <td>3</td>\n",
              "      <td>48.0</td>\n",
              "      <td>2</td>\n",
              "      <td>169</td>\n",
              "      <td>82.0</td>\n",
              "      <td>150</td>\n",
              "      <td>100</td>\n",
              "      <td>1</td>\n",
              "      <td>1</td>\n",
              "      <td>0</td>\n",
              "      <td>0</td>\n",
              "      <td>1</td>\n",
              "      <td>1</td>\n",
              "      <td>28.7</td>\n",
              "    </tr>\n",
              "    <tr>\n",
              "      <th>4</th>\n",
              "      <td>4</td>\n",
              "      <td>48.0</td>\n",
              "      <td>1</td>\n",
              "      <td>156</td>\n",
              "      <td>56.0</td>\n",
              "      <td>100</td>\n",
              "      <td>60</td>\n",
              "      <td>1</td>\n",
              "      <td>1</td>\n",
              "      <td>0</td>\n",
              "      <td>0</td>\n",
              "      <td>0</td>\n",
              "      <td>0</td>\n",
              "      <td>23.0</td>\n",
              "    </tr>\n",
              "  </tbody>\n",
              "</table>\n",
              "</div>\n",
              "      <button class=\"colab-df-convert\" onclick=\"convertToInteractive('df-2c6aa7aa-aa00-4d8f-aa82-610a69c22b10')\"\n",
              "              title=\"Convert this dataframe to an interactive table.\"\n",
              "              style=\"display:none;\">\n",
              "        \n",
              "  <svg xmlns=\"http://www.w3.org/2000/svg\" height=\"24px\"viewBox=\"0 0 24 24\"\n",
              "       width=\"24px\">\n",
              "    <path d=\"M0 0h24v24H0V0z\" fill=\"none\"/>\n",
              "    <path d=\"M18.56 5.44l.94 2.06.94-2.06 2.06-.94-2.06-.94-.94-2.06-.94 2.06-2.06.94zm-11 1L8.5 8.5l.94-2.06 2.06-.94-2.06-.94L8.5 2.5l-.94 2.06-2.06.94zm10 10l.94 2.06.94-2.06 2.06-.94-2.06-.94-.94-2.06-.94 2.06-2.06.94z\"/><path d=\"M17.41 7.96l-1.37-1.37c-.4-.4-.92-.59-1.43-.59-.52 0-1.04.2-1.43.59L10.3 9.45l-7.72 7.72c-.78.78-.78 2.05 0 2.83L4 21.41c.39.39.9.59 1.41.59.51 0 1.02-.2 1.41-.59l7.78-7.78 2.81-2.81c.8-.78.8-2.07 0-2.86zM5.41 20L4 18.59l7.72-7.72 1.47 1.35L5.41 20z\"/>\n",
              "  </svg>\n",
              "      </button>\n",
              "      \n",
              "  <style>\n",
              "    .colab-df-container {\n",
              "      display:flex;\n",
              "      flex-wrap:wrap;\n",
              "      gap: 12px;\n",
              "    }\n",
              "\n",
              "    .colab-df-convert {\n",
              "      background-color: #E8F0FE;\n",
              "      border: none;\n",
              "      border-radius: 50%;\n",
              "      cursor: pointer;\n",
              "      display: none;\n",
              "      fill: #1967D2;\n",
              "      height: 32px;\n",
              "      padding: 0 0 0 0;\n",
              "      width: 32px;\n",
              "    }\n",
              "\n",
              "    .colab-df-convert:hover {\n",
              "      background-color: #E2EBFA;\n",
              "      box-shadow: 0px 1px 2px rgba(60, 64, 67, 0.3), 0px 1px 3px 1px rgba(60, 64, 67, 0.15);\n",
              "      fill: #174EA6;\n",
              "    }\n",
              "\n",
              "    [theme=dark] .colab-df-convert {\n",
              "      background-color: #3B4455;\n",
              "      fill: #D2E3FC;\n",
              "    }\n",
              "\n",
              "    [theme=dark] .colab-df-convert:hover {\n",
              "      background-color: #434B5C;\n",
              "      box-shadow: 0px 1px 3px 1px rgba(0, 0, 0, 0.15);\n",
              "      filter: drop-shadow(0px 1px 2px rgba(0, 0, 0, 0.3));\n",
              "      fill: #FFFFFF;\n",
              "    }\n",
              "  </style>\n",
              "\n",
              "      <script>\n",
              "        const buttonEl =\n",
              "          document.querySelector('#df-2c6aa7aa-aa00-4d8f-aa82-610a69c22b10 button.colab-df-convert');\n",
              "        buttonEl.style.display =\n",
              "          google.colab.kernel.accessAllowed ? 'block' : 'none';\n",
              "\n",
              "        async function convertToInteractive(key) {\n",
              "          const element = document.querySelector('#df-2c6aa7aa-aa00-4d8f-aa82-610a69c22b10');\n",
              "          const dataTable =\n",
              "            await google.colab.kernel.invokeFunction('convertToInteractive',\n",
              "                                                     [key], {});\n",
              "          if (!dataTable) return;\n",
              "\n",
              "          const docLinkHtml = 'Like what you see? Visit the ' +\n",
              "            '<a target=\"_blank\" href=https://colab.research.google.com/notebooks/data_table.ipynb>data table notebook</a>'\n",
              "            + ' to learn more about interactive tables.';\n",
              "          element.innerHTML = '';\n",
              "          dataTable['output_type'] = 'display_data';\n",
              "          await google.colab.output.renderOutput(dataTable, element);\n",
              "          const docLink = document.createElement('div');\n",
              "          docLink.innerHTML = docLinkHtml;\n",
              "          element.appendChild(docLink);\n",
              "        }\n",
              "      </script>\n",
              "    </div>\n",
              "  </div>\n",
              "  "
            ]
          },
          "metadata": {},
          "execution_count": 33
        }
      ]
    },
    {
      "cell_type": "markdown",
      "source": [
        "<h4>3.4.1.1. Univariate Analysis of bmi Feature </h4>"
      ],
      "metadata": {
        "id": "NYZLVuBO98Zm"
      }
    },
    {
      "cell_type": "markdown",
      "metadata": {
        "id": "dYzUXfO4-KhS"
      },
      "source": [
        "<p style=\"font-size:18px;\"> <b>Q1.</b> What type of feature bmi is ?</p>\n",
        "<p style=\"font-size:16px;\"><b>Ans.</b> bmi is a numerical feature. </p>\n"
      ]
    },
    {
      "cell_type": "code",
      "source": [
        "sns.set_style('dark')\n",
        "sns.boxplot(data['bmi'],palette='pink')\n",
        "plt.title('Distribution of Body Mass Index')"
      ],
      "metadata": {
        "colab": {
          "base_uri": "https://localhost:8080/",
          "height": 312
        },
        "outputId": "e1a8b189-8044-468b-c308-e42d91b3a328",
        "id": "qo1jBWJ5-9et"
      },
      "execution_count": null,
      "outputs": [
        {
          "output_type": "execute_result",
          "data": {
            "text/plain": [
              "Text(0.5, 1.0, 'Distribution of Body Mass Index')"
            ]
          },
          "metadata": {},
          "execution_count": 34
        },
        {
          "output_type": "display_data",
          "data": {
            "text/plain": [
              "<Figure size 432x288 with 1 Axes>"
            ],
            "image/png": "[encoded data removed]"
          },
          "metadata": {}
        }
      ]
    },
    {
      "cell_type": "markdown",
      "source": [
        "<p> From the boxplot of bmi feature, we can see that there are a few outliers which we will remove.<p> "
      ],
      "metadata": {
        "id": "kjptygey_nuk"
      }
    },
    {
      "cell_type": "code",
      "source": [
        "for i in range(90,101):\n",
        "    print('{} Percentile is ='.format(i),np.percentile(data['bmi'], i))\n"
      ],
      "metadata": {
        "colab": {
          "base_uri": "https://localhost:8080/"
        },
        "outputId": "0387d978-cf96-46ab-a628-6409f9908f7b",
        "id": "DJNOTGh1_OmO"
      },
      "execution_count": null,
      "outputs": [
        {
          "output_type": "stream",
          "name": "stdout",
          "text": [
            "90 Percentile is = 34.4\n",
            "91 Percentile is = 34.9\n",
            "92 Percentile is = 35.3\n",
            "93 Percentile is = 35.9\n",
            "94 Percentile is = 36.5\n",
            "95 Percentile is = 37.2\n",
            "96 Percentile is = 38.2\n",
            "97 Percentile is = 39.3\n",
            "98 Percentile is = 41.0\n",
            "99 Percentile is = 44.0\n",
            "100 Percentile is = 267.8\n"
          ]
        }
      ]
    },
    {
      "cell_type": "code",
      "source": [
        "for i in [99.1,99.2,99.3,99.4,99.5,99.6,99.7,99.8,99.9,100]:\n",
        "    print('{} Percentile is ='.format(i),np.percentile(data['bmi'], i))"
      ],
      "metadata": {
        "colab": {
          "base_uri": "https://localhost:8080/"
        },
        "outputId": "c6dc130e-e6d6-403c-c26e-5c794636999c",
        "id": "KNjoOgzu_awe"
      },
      "execution_count": null,
      "outputs": [
        {
          "output_type": "stream",
          "name": "stdout",
          "text": [
            "99.1 Percentile is = 44.4\n",
            "99.2 Percentile is = 44.8\n",
            "99.3 Percentile is = 45.5\n",
            "99.4 Percentile is = 46.346000000000636\n",
            "99.5 Percentile is = 47.1\n",
            "99.6 Percentile is = 48.1\n",
            "99.7 Percentile is = 49.5\n",
            "99.8 Percentile is = 52.0820000000007\n",
            "99.9 Percentile is = 55.6\n",
            "100 Percentile is = 267.8\n"
          ]
        }
      ]
    },
    {
      "cell_type": "markdown",
      "source": [
        "<p>The bmi value for severely obese people is roughly 50. We can see that the 99.9% of the patients have bmi values which are less than 55. If for any patient, the bmi value is more than 55, then it means that the bmi of this person is an outlier which we will remove.<p>"
      ],
      "metadata": {
        "id": "Bt-LxKQmAZVi"
      }
    },
    {
      "cell_type": "code",
      "source": [
        "data=data[data['bmi']<=55]\n",
        "data.head()"
      ],
      "metadata": {
        "colab": {
          "base_uri": "https://localhost:8080/",
          "height": 206
        },
        "id": "VD6R2F594jlM",
        "outputId": "797a6a96-a133-4f97-d70c-dc82a015aea9"
      },
      "execution_count": null,
      "outputs": [
        {
          "output_type": "execute_result",
          "data": {
            "text/plain": [
              "   id   age  gender  height  weight  ap_hi  ap_lo  cholesterol  gluc  smoke  \\\n",
              "0   0  50.0       2     168    62.0    110     80            1     1      0   \n",
              "1   1  55.0       1     156    85.0    140     90            3     1      0   \n",
              "2   2  52.0       1     165    64.0    130     70            3     1      0   \n",
              "3   3  48.0       2     169    82.0    150    100            1     1      0   \n",
              "4   4  48.0       1     156    56.0    100     60            1     1      0   \n",
              "\n",
              "   alco  active  cardio   bmi  \n",
              "0     0       1       0  22.0  \n",
              "1     0       1       1  34.9  \n",
              "2     0       0       1  23.5  \n",
              "3     0       1       1  28.7  \n",
              "4     0       0       0  23.0  "
            ],
            "text/html": [
              "\n",
              "  <div id=\"df-4e7b8508-e442-4d5a-93b9-eadf096313a0\">\n",
              "    <div class=\"colab-df-container\">\n",
              "      <div>\n",
              "<style scoped>\n",
              "    .dataframe tbody tr th:only-of-type {\n",
              "        vertical-align: middle;\n",
              "    }\n",
              "\n",
              "    .dataframe tbody tr th {\n",
              "        vertical-align: top;\n",
              "    }\n",
              "\n",
              "    .dataframe thead th {\n",
              "        text-align: right;\n",
              "    }\n",
              "</style>\n",
              "<table border=\"1\" class=\"dataframe\">\n",
              "  <thead>\n",
              "    <tr style=\"text-align: right;\">\n",
              "      <th></th>\n",
              "      <th>id</th>\n",
              "      <th>age</th>\n",
              "      <th>gender</th>\n",
              "      <th>height</th>\n",
              "      <th>weight</th>\n",
              "      <th>ap_hi</th>\n",
              "      <th>ap_lo</th>\n",
              "      <th>cholesterol</th>\n",
              "      <th>gluc</th>\n",
              "      <th>smoke</th>\n",
              "      <th>alco</th>\n",
              "      <th>active</th>\n",
              "      <th>cardio</th>\n",
              "      <th>bmi</th>\n",
              "    </tr>\n",
              "  </thead>\n",
              "  <tbody>\n",
              "    <tr>\n",
              "      <th>0</th>\n",
              "      <td>0</td>\n",
              "      <td>50.0</td>\n",
              "      <td>2</td>\n",
              "      <td>168</td>\n",
              "      <td>62.0</td>\n",
              "      <td>110</td>\n",
              "      <td>80</td>\n",
              "      <td>1</td>\n",
              "      <td>1</td>\n",
              "      <td>0</td>\n",
              "      <td>0</td>\n",
              "      <td>1</td>\n",
              "      <td>0</td>\n",
              "      <td>22.0</td>\n",
              "    </tr>\n",
              "    <tr>\n",
              "      <th>1</th>\n",
              "      <td>1</td>\n",
              "      <td>55.0</td>\n",
              "      <td>1</td>\n",
              "      <td>156</td>\n",
              "      <td>85.0</td>\n",
              "      <td>140</td>\n",
              "      <td>90</td>\n",
              "      <td>3</td>\n",
              "      <td>1</td>\n",
              "      <td>0</td>\n",
              "      <td>0</td>\n",
              "      <td>1</td>\n",
              "      <td>1</td>\n",
              "      <td>34.9</td>\n",
              "    </tr>\n",
              "    <tr>\n",
              "      <th>2</th>\n",
              "      <td>2</td>\n",
              "      <td>52.0</td>\n",
              "      <td>1</td>\n",
              "      <td>165</td>\n",
              "      <td>64.0</td>\n",
              "      <td>130</td>\n",
              "      <td>70</td>\n",
              "      <td>3</td>\n",
              "      <td>1</td>\n",
              "      <td>0</td>\n",
              "      <td>0</td>\n",
              "      <td>0</td>\n",
              "      <td>1</td>\n",
              "      <td>23.5</td>\n",
              "    </tr>\n",
              "    <tr>\n",
              "      <th>3</th>\n",
              "      <td>3</td>\n",
              "      <td>48.0</td>\n",
              "      <td>2</td>\n",
              "      <td>169</td>\n",
              "      <td>82.0</td>\n",
              "      <td>150</td>\n",
              "      <td>100</td>\n",
              "      <td>1</td>\n",
              "      <td>1</td>\n",
              "      <td>0</td>\n",
              "      <td>0</td>\n",
              "      <td>1</td>\n",
              "      <td>1</td>\n",
              "      <td>28.7</td>\n",
              "    </tr>\n",
              "    <tr>\n",
              "      <th>4</th>\n",
              "      <td>4</td>\n",
              "      <td>48.0</td>\n",
              "      <td>1</td>\n",
              "      <td>156</td>\n",
              "      <td>56.0</td>\n",
              "      <td>100</td>\n",
              "      <td>60</td>\n",
              "      <td>1</td>\n",
              "      <td>1</td>\n",
              "      <td>0</td>\n",
              "      <td>0</td>\n",
              "      <td>0</td>\n",
              "      <td>0</td>\n",
              "      <td>23.0</td>\n",
              "    </tr>\n",
              "  </tbody>\n",
              "</table>\n",
              "</div>\n",
              "      <button class=\"colab-df-convert\" onclick=\"convertToInteractive('df-4e7b8508-e442-4d5a-93b9-eadf096313a0')\"\n",
              "              title=\"Convert this dataframe to an interactive table.\"\n",
              "              style=\"display:none;\">\n",
              "        \n",
              "  <svg xmlns=\"http://www.w3.org/2000/svg\" height=\"24px\"viewBox=\"0 0 24 24\"\n",
              "       width=\"24px\">\n",
              "    <path d=\"M0 0h24v24H0V0z\" fill=\"none\"/>\n",
              "    <path d=\"M18.56 5.44l.94 2.06.94-2.06 2.06-.94-2.06-.94-.94-2.06-.94 2.06-2.06.94zm-11 1L8.5 8.5l.94-2.06 2.06-.94-2.06-.94L8.5 2.5l-.94 2.06-2.06.94zm10 10l.94 2.06.94-2.06 2.06-.94-2.06-.94-.94-2.06-.94 2.06-2.06.94z\"/><path d=\"M17.41 7.96l-1.37-1.37c-.4-.4-.92-.59-1.43-.59-.52 0-1.04.2-1.43.59L10.3 9.45l-7.72 7.72c-.78.78-.78 2.05 0 2.83L4 21.41c.39.39.9.59 1.41.59.51 0 1.02-.2 1.41-.59l7.78-7.78 2.81-2.81c.8-.78.8-2.07 0-2.86zM5.41 20L4 18.59l7.72-7.72 1.47 1.35L5.41 20z\"/>\n",
              "  </svg>\n",
              "      </button>\n",
              "      \n",
              "  <style>\n",
              "    .colab-df-container {\n",
              "      display:flex;\n",
              "      flex-wrap:wrap;\n",
              "      gap: 12px;\n",
              "    }\n",
              "\n",
              "    .colab-df-convert {\n",
              "      background-color: #E8F0FE;\n",
              "      border: none;\n",
              "      border-radius: 50%;\n",
              "      cursor: pointer;\n",
              "      display: none;\n",
              "      fill: #1967D2;\n",
              "      height: 32px;\n",
              "      padding: 0 0 0 0;\n",
              "      width: 32px;\n",
              "    }\n",
              "\n",
              "    .colab-df-convert:hover {\n",
              "      background-color: #E2EBFA;\n",
              "      box-shadow: 0px 1px 2px rgba(60, 64, 67, 0.3), 0px 1px 3px 1px rgba(60, 64, 67, 0.15);\n",
              "      fill: #174EA6;\n",
              "    }\n",
              "\n",
              "    [theme=dark] .colab-df-convert {\n",
              "      background-color: #3B4455;\n",
              "      fill: #D2E3FC;\n",
              "    }\n",
              "\n",
              "    [theme=dark] .colab-df-convert:hover {\n",
              "      background-color: #434B5C;\n",
              "      box-shadow: 0px 1px 3px 1px rgba(0, 0, 0, 0.15);\n",
              "      filter: drop-shadow(0px 1px 2px rgba(0, 0, 0, 0.3));\n",
              "      fill: #FFFFFF;\n",
              "    }\n",
              "  </style>\n",
              "\n",
              "      <script>\n",
              "        const buttonEl =\n",
              "          document.querySelector('#df-4e7b8508-e442-4d5a-93b9-eadf096313a0 button.colab-df-convert');\n",
              "        buttonEl.style.display =\n",
              "          google.colab.kernel.accessAllowed ? 'block' : 'none';\n",
              "\n",
              "        async function convertToInteractive(key) {\n",
              "          const element = document.querySelector('#df-4e7b8508-e442-4d5a-93b9-eadf096313a0');\n",
              "          const dataTable =\n",
              "            await google.colab.kernel.invokeFunction('convertToInteractive',\n",
              "                                                     [key], {});\n",
              "          if (!dataTable) return;\n",
              "\n",
              "          const docLinkHtml = 'Like what you see? Visit the ' +\n",
              "            '<a target=\"_blank\" href=https://colab.research.google.com/notebooks/data_table.ipynb>data table notebook</a>'\n",
              "            + ' to learn more about interactive tables.';\n",
              "          element.innerHTML = '';\n",
              "          dataTable['output_type'] = 'display_data';\n",
              "          await google.colab.output.renderOutput(dataTable, element);\n",
              "          const docLink = document.createElement('div');\n",
              "          docLink.innerHTML = docLinkHtml;\n",
              "          element.appendChild(docLink);\n",
              "        }\n",
              "      </script>\n",
              "    </div>\n",
              "  </div>\n",
              "  "
            ]
          },
          "metadata": {},
          "execution_count": 37
        }
      ]
    },
    {
      "cell_type": "markdown",
      "source": [
        "<h3>3.4.2. bp (Blood Pressure) Feature </h3>"
      ],
      "metadata": {
        "id": "cc4ua2YcQOgV"
      }
    },
    {
      "cell_type": "markdown",
      "source": [
        "<p> The blood pressure of a patient can be a useful feature in predicting whether the patient has heart disease or not.<p>\n",
        "\n",
        "<p> bp is a categorical variable. We will create categories for bp based on the values of ap_hi (Systolic Blood Pressure). The categories which bp can take are :-<p>\n",
        "\n",
        "<p> 0 : normal blood pressure <p>\n",
        "<p> 1 : elevated blood pressure <p>\n",
        "<p> 2 : hypertension <p>"
      ],
      "metadata": {
        "id": "rOcqNjQeQooE"
      }
    },
    {
      "cell_type": "code",
      "source": [
        "# Use pandas.cut() when you need to segment and sort data values into bins. \n",
        "# This function is also useful for going from a continuous variable to a categorical variable.\n",
        "\n",
        "category=[0,1,2]\n",
        "data['bp']=pd.cut(data['ap_hi'], [0, 120, 130, 250], right=False, labels=category)\n",
        "data.head()"
      ],
      "metadata": {
        "colab": {
          "base_uri": "https://localhost:8080/",
          "height": 206
        },
        "id": "X5X3jtZqR_UK",
        "outputId": "20b6ff70-8dbf-48b2-b947-768ae1c6912f"
      },
      "execution_count": null,
      "outputs": [
        {
          "output_type": "execute_result",
          "data": {
            "text/plain": [
              "   id   age  gender  height  weight  ap_hi  ap_lo  cholesterol  gluc  smoke  \\\n",
              "0   0  50.0       2     168    62.0    110     80            1     1      0   \n",
              "1   1  55.0       1     156    85.0    140     90            3     1      0   \n",
              "2   2  52.0       1     165    64.0    130     70            3     1      0   \n",
              "3   3  48.0       2     169    82.0    150    100            1     1      0   \n",
              "4   4  48.0       1     156    56.0    100     60            1     1      0   \n",
              "\n",
              "   alco  active  cardio   bmi bp  \n",
              "0     0       1       0  22.0  0  \n",
              "1     0       1       1  34.9  2  \n",
              "2     0       0       1  23.5  2  \n",
              "3     0       1       1  28.7  2  \n",
              "4     0       0       0  23.0  0  "
            ],
            "text/html": [
              "\n",
              "  <div id=\"df-09610ac7-3bb8-4825-ba81-12ad3f225b40\">\n",
              "    <div class=\"colab-df-container\">\n",
              "      <div>\n",
              "<style scoped>\n",
              "    .dataframe tbody tr th:only-of-type {\n",
              "        vertical-align: middle;\n",
              "    }\n",
              "\n",
              "    .dataframe tbody tr th {\n",
              "        vertical-align: top;\n",
              "    }\n",
              "\n",
              "    .dataframe thead th {\n",
              "        text-align: right;\n",
              "    }\n",
              "</style>\n",
              "<table border=\"1\" class=\"dataframe\">\n",
              "  <thead>\n",
              "    <tr style=\"text-align: right;\">\n",
              "      <th></th>\n",
              "      <th>id</th>\n",
              "      <th>age</th>\n",
              "      <th>gender</th>\n",
              "      <th>height</th>\n",
              "      <th>weight</th>\n",
              "      <th>ap_hi</th>\n",
              "      <th>ap_lo</th>\n",
              "      <th>cholesterol</th>\n",
              "      <th>gluc</th>\n",
              "      <th>smoke</th>\n",
              "      <th>alco</th>\n",
              "      <th>active</th>\n",
              "      <th>cardio</th>\n",
              "      <th>bmi</th>\n",
              "      <th>bp</th>\n",
              "    </tr>\n",
              "  </thead>\n",
              "  <tbody>\n",
              "    <tr>\n",
              "      <th>0</th>\n",
              "      <td>0</td>\n",
              "      <td>50.0</td>\n",
              "      <td>2</td>\n",
              "      <td>168</td>\n",
              "      <td>62.0</td>\n",
              "      <td>110</td>\n",
              "      <td>80</td>\n",
              "      <td>1</td>\n",
              "      <td>1</td>\n",
              "      <td>0</td>\n",
              "      <td>0</td>\n",
              "      <td>1</td>\n",
              "      <td>0</td>\n",
              "      <td>22.0</td>\n",
              "      <td>0</td>\n",
              "    </tr>\n",
              "    <tr>\n",
              "      <th>1</th>\n",
              "      <td>1</td>\n",
              "      <td>55.0</td>\n",
              "      <td>1</td>\n",
              "      <td>156</td>\n",
              "      <td>85.0</td>\n",
              "      <td>140</td>\n",
              "      <td>90</td>\n",
              "      <td>3</td>\n",
              "      <td>1</td>\n",
              "      <td>0</td>\n",
              "      <td>0</td>\n",
              "      <td>1</td>\n",
              "      <td>1</td>\n",
              "      <td>34.9</td>\n",
              "      <td>2</td>\n",
              "    </tr>\n",
              "    <tr>\n",
              "      <th>2</th>\n",
              "      <td>2</td>\n",
              "      <td>52.0</td>\n",
              "      <td>1</td>\n",
              "      <td>165</td>\n",
              "      <td>64.0</td>\n",
              "      <td>130</td>\n",
              "      <td>70</td>\n",
              "      <td>3</td>\n",
              "      <td>1</td>\n",
              "      <td>0</td>\n",
              "      <td>0</td>\n",
              "      <td>0</td>\n",
              "      <td>1</td>\n",
              "      <td>23.5</td>\n",
              "      <td>2</td>\n",
              "    </tr>\n",
              "    <tr>\n",
              "      <th>3</th>\n",
              "      <td>3</td>\n",
              "      <td>48.0</td>\n",
              "      <td>2</td>\n",
              "      <td>169</td>\n",
              "      <td>82.0</td>\n",
              "      <td>150</td>\n",
              "      <td>100</td>\n",
              "      <td>1</td>\n",
              "      <td>1</td>\n",
              "      <td>0</td>\n",
              "      <td>0</td>\n",
              "      <td>1</td>\n",
              "      <td>1</td>\n",
              "      <td>28.7</td>\n",
              "      <td>2</td>\n",
              "    </tr>\n",
              "    <tr>\n",
              "      <th>4</th>\n",
              "      <td>4</td>\n",
              "      <td>48.0</td>\n",
              "      <td>1</td>\n",
              "      <td>156</td>\n",
              "      <td>56.0</td>\n",
              "      <td>100</td>\n",
              "      <td>60</td>\n",
              "      <td>1</td>\n",
              "      <td>1</td>\n",
              "      <td>0</td>\n",
              "      <td>0</td>\n",
              "      <td>0</td>\n",
              "      <td>0</td>\n",
              "      <td>23.0</td>\n",
              "      <td>0</td>\n",
              "    </tr>\n",
              "  </tbody>\n",
              "</table>\n",
              "</div>\n",
              "      <button class=\"colab-df-convert\" onclick=\"convertToInteractive('df-09610ac7-3bb8-4825-ba81-12ad3f225b40')\"\n",
              "              title=\"Convert this dataframe to an interactive table.\"\n",
              "              style=\"display:none;\">\n",
              "        \n",
              "  <svg xmlns=\"http://www.w3.org/2000/svg\" height=\"24px\"viewBox=\"0 0 24 24\"\n",
              "       width=\"24px\">\n",
              "    <path d=\"M0 0h24v24H0V0z\" fill=\"none\"/>\n",
              "    <path d=\"M18.56 5.44l.94 2.06.94-2.06 2.06-.94-2.06-.94-.94-2.06-.94 2.06-2.06.94zm-11 1L8.5 8.5l.94-2.06 2.06-.94-2.06-.94L8.5 2.5l-.94 2.06-2.06.94zm10 10l.94 2.06.94-2.06 2.06-.94-2.06-.94-.94-2.06-.94 2.06-2.06.94z\"/><path d=\"M17.41 7.96l-1.37-1.37c-.4-.4-.92-.59-1.43-.59-.52 0-1.04.2-1.43.59L10.3 9.45l-7.72 7.72c-.78.78-.78 2.05 0 2.83L4 21.41c.39.39.9.59 1.41.59.51 0 1.02-.2 1.41-.59l7.78-7.78 2.81-2.81c.8-.78.8-2.07 0-2.86zM5.41 20L4 18.59l7.72-7.72 1.47 1.35L5.41 20z\"/>\n",
              "  </svg>\n",
              "      </button>\n",
              "      \n",
              "  <style>\n",
              "    .colab-df-container {\n",
              "      display:flex;\n",
              "      flex-wrap:wrap;\n",
              "      gap: 12px;\n",
              "    }\n",
              "\n",
              "    .colab-df-convert {\n",
              "      background-color: #E8F0FE;\n",
              "      border: none;\n",
              "      border-radius: 50%;\n",
              "      cursor: pointer;\n",
              "      display: none;\n",
              "      fill: #1967D2;\n",
              "      height: 32px;\n",
              "      padding: 0 0 0 0;\n",
              "      width: 32px;\n",
              "    }\n",
              "\n",
              "    .colab-df-convert:hover {\n",
              "      background-color: #E2EBFA;\n",
              "      box-shadow: 0px 1px 2px rgba(60, 64, 67, 0.3), 0px 1px 3px 1px rgba(60, 64, 67, 0.15);\n",
              "      fill: #174EA6;\n",
              "    }\n",
              "\n",
              "    [theme=dark] .colab-df-convert {\n",
              "      background-color: #3B4455;\n",
              "      fill: #D2E3FC;\n",
              "    }\n",
              "\n",
              "    [theme=dark] .colab-df-convert:hover {\n",
              "      background-color: #434B5C;\n",
              "      box-shadow: 0px 1px 3px 1px rgba(0, 0, 0, 0.15);\n",
              "      filter: drop-shadow(0px 1px 2px rgba(0, 0, 0, 0.3));\n",
              "      fill: #FFFFFF;\n",
              "    }\n",
              "  </style>\n",
              "\n",
              "      <script>\n",
              "        const buttonEl =\n",
              "          document.querySelector('#df-09610ac7-3bb8-4825-ba81-12ad3f225b40 button.colab-df-convert');\n",
              "        buttonEl.style.display =\n",
              "          google.colab.kernel.accessAllowed ? 'block' : 'none';\n",
              "\n",
              "        async function convertToInteractive(key) {\n",
              "          const element = document.querySelector('#df-09610ac7-3bb8-4825-ba81-12ad3f225b40');\n",
              "          const dataTable =\n",
              "            await google.colab.kernel.invokeFunction('convertToInteractive',\n",
              "                                                     [key], {});\n",
              "          if (!dataTable) return;\n",
              "\n",
              "          const docLinkHtml = 'Like what you see? Visit the ' +\n",
              "            '<a target=\"_blank\" href=https://colab.research.google.com/notebooks/data_table.ipynb>data table notebook</a>'\n",
              "            + ' to learn more about interactive tables.';\n",
              "          element.innerHTML = '';\n",
              "          dataTable['output_type'] = 'display_data';\n",
              "          await google.colab.output.renderOutput(dataTable, element);\n",
              "          const docLink = document.createElement('div');\n",
              "          docLink.innerHTML = docLinkHtml;\n",
              "          element.appendChild(docLink);\n",
              "        }\n",
              "      </script>\n",
              "    </div>\n",
              "  </div>\n",
              "  "
            ]
          },
          "metadata": {},
          "execution_count": 38
        }
      ]
    },
    {
      "cell_type": "markdown",
      "source": [
        "<p> Let us find out the percentage of data which remains after data cleaning.<p>"
      ],
      "metadata": {
        "id": "z0cPlecQKFnN"
      }
    },
    {
      "cell_type": "code",
      "source": [
        "percentage_of_data_which_remains=((data['id'].size*1.0)/(raw_data['id'].size*1.0))*100\n",
        "print(percentage_of_data_which_remains)"
      ],
      "metadata": {
        "colab": {
          "base_uri": "https://localhost:8080/"
        },
        "id": "7Hxi1_a0FPGO",
        "outputId": "4294dcf9-23c7-45a8-dca3-f1c0932e812f"
      },
      "execution_count": null,
      "outputs": [
        {
          "output_type": "stream",
          "name": "stdout",
          "text": [
            "97.85571428571428\n"
          ]
        }
      ]
    },
    {
      "cell_type": "markdown",
      "source": [
        "<h3> Observation \n",
        "\n",
        "*   97% of the data remains after data cleaning."
      ],
      "metadata": {
        "id": "tMOTlr57OF6T"
      }
    },
    {
      "cell_type": "markdown",
      "metadata": {
        "id": "4ha0M1aOOQvg"
      },
      "source": [
        "<h2>3.5. Train, Cross Validation and Test Split</h2>"
      ]
    },
    {
      "cell_type": "markdown",
      "source": [
        "<p> We observe that this dataset does not have a temporal nature i.e. it does not change with time. In addition, our data does not contain timestamps. So we will not be performing time based splitting. We will split our data randomly. We will be splitting our data into train, cross validate and test in the ratio 64:16:20. This means that given a datapoint, there is a 64% probability that it will go into train data, there is a 16% probability that it will go into cross validation data and 20% probability that it will go into test data.<p>"
      ],
      "metadata": {
        "id": "s1p33ZrePU_e"
      }
    },
    {
      "cell_type": "code",
      "source": [
        "X = data.drop(['cardio','id'],axis=1)\n",
        "y = data['cardio']"
      ],
      "metadata": {
        "id": "CgXs844URTO4"
      },
      "execution_count": null,
      "outputs": []
    },
    {
      "cell_type": "code",
      "metadata": {
        "id": "55ctX0LubK13"
      },
      "source": [
        "# split the data into test and train by maintaining same distribution of output varaible 'y_true' [stratify=y_true]\n",
        "X_train, X_test, y_train, y_test = train_test_split(X,y,stratify=y,test_size=0.20)\n",
        "# split the train data into train and cross validation by maintaining same distribution of output varaible 'y_train' [stratify=y_train]\n",
        "X_train, X_cv, y_train, y_cv = train_test_split(X_train, y_train,stratify=y_train,test_size=0.20)"
      ],
      "execution_count": null,
      "outputs": []
    },
    {
      "cell_type": "code",
      "metadata": {
        "id": "NJWMxDLVbK16",
        "colab": {
          "base_uri": "https://localhost:8080/"
        },
        "outputId": "7dd67696-3d0e-4f15-a228-0143a5a4a3ae"
      },
      "source": [
        "print('Number of data points in train data:', X_train.shape[0])\n",
        "print('Number of data points in test data:', X_test.shape[0])\n",
        "print('Number of data points in cross validation data:', X_cv.shape[0])"
      ],
      "execution_count": null,
      "outputs": [
        {
          "output_type": "stream",
          "name": "stdout",
          "text": [
            "Number of data points in train data: 43839\n",
            "Number of data points in test data: 13700\n",
            "Number of data points in cross validation data: 10960\n"
          ]
        }
      ]
    },
    {
      "cell_type": "markdown",
      "metadata": {
        "id": "NQeo-HuDOQvs"
      },
      "source": [
        "<h3>3.5.1. Distribution of y_i's in Train, Test and Cross Validation datasets</h3>"
      ]
    },
    {
      "cell_type": "markdown",
      "source": [
        "<p> For our model to work well, we want that the distribution of actual class labels should be roughly the same in train, cross validation and test datasets. For this we have performed stratified splitting.<p>"
      ],
      "metadata": {
        "id": "sXvCUEmiWrmD"
      }
    },
    {
      "cell_type": "code",
      "metadata": {
        "scrolled": false,
        "id": "LqTqe7NMbK1-",
        "colab": {
          "base_uri": "https://localhost:8080/",
          "height": 981
        },
        "outputId": "441dac9f-ac0b-4a8e-a19f-bb87540c688c"
      },
      "source": [
        "# it returns a dict, keys as class labels and values as the number of data points in that class\n",
        "train_class_distribution = y_train.value_counts().sort_index()\n",
        "test_class_distribution = y_test.value_counts().sort_index()\n",
        "cv_class_distribution = y_cv.value_counts().sort_index()\n",
        "\n",
        "\n",
        "train_class_distribution.plot(kind='bar')\n",
        "plt.xlabel('Class')\n",
        "plt.ylabel('Data points per Class')\n",
        "plt.title('Distribution of yi in train data')\n",
        "plt.grid()\n",
        "plt.show()\n",
        "sorted_yi = np.argsort(-train_class_distribution.values)\n",
        "for i in sorted_yi:\n",
        "    print('Number of data points in class', i+1, ':',train_class_distribution.values[i], '(', np.round((train_class_distribution.values[i]/y_train.shape[0]*100), 3), '%)')\n",
        "\n",
        "\n",
        "print('-'*80)\n",
        "\n",
        "\n",
        "test_class_distribution.plot(kind='bar')\n",
        "plt.xlabel('Class')\n",
        "plt.ylabel('Data points per Class')\n",
        "plt.title('Distribution of yi in test data')\n",
        "plt.grid()\n",
        "plt.show()\n",
        "sorted_yi = np.argsort(-test_class_distribution.values)\n",
        "for i in sorted_yi:\n",
        "    print('Number of data points in class', i+1, ':',test_class_distribution.values[i], '(', np.round((test_class_distribution.values[i]/y_test.shape[0]*100), 3), '%)')\n",
        "\n",
        "\n",
        "print('-'*80)\n",
        "\n",
        "\n",
        "cv_class_distribution.plot(kind='bar')\n",
        "plt.xlabel('Class')\n",
        "plt.ylabel('Data points per Class')\n",
        "plt.title('Distribution of yi in cross validation data')\n",
        "plt.grid()\n",
        "plt.show()\n",
        "sorted_yi = np.argsort(-cv_class_distribution.values)\n",
        "for i in sorted_yi:\n",
        "    print('Number of data points in class', i+1, ':',cv_class_distribution.values[i], '(', np.round((cv_class_distribution.values[i]/y_cv.shape[0]*100), 3), '%)')\n"
      ],
      "execution_count": null,
      "outputs": [
        {
          "output_type": "display_data",
          "data": {
            "text/plain": [
              "<Figure size 432x288 with 1 Axes>"
            ],
            "image/png": "[encoded data removed]"
          },
          "metadata": {}
        },
        {
          "output_type": "stream",
          "name": "stdout",
          "text": [
            "Number of data points in class 1 : 22163 ( 50.555 %)\n",
            "Number of data points in class 2 : 21676 ( 49.445 %)\n",
            "--------------------------------------------------------------------------------\n"
          ]
        },
        {
          "output_type": "display_data",
          "data": {
            "text/plain": [
              "<Figure size 432x288 with 1 Axes>"
            ],
            "image/png": "[encoded data removed]"
          },
          "metadata": {}
        },
        {
          "output_type": "stream",
          "name": "stdout",
          "text": [
            "Number of data points in class 1 : 6926 ( 50.555 %)\n",
            "Number of data points in class 2 : 6774 ( 49.445 %)\n",
            "--------------------------------------------------------------------------------\n"
          ]
        },
        {
          "output_type": "display_data",
          "data": {
            "text/plain": [
              "<Figure size 432x288 with 1 Axes>"
            ],
            "image/png": "[encoded data removed]"
          },
          "metadata": {}
        },
        {
          "output_type": "stream",
          "name": "stdout",
          "text": [
            "Number of data points in class 1 : 5541 ( 50.557 %)\n",
            "Number of data points in class 2 : 5419 ( 49.443 %)\n"
          ]
        }
      ]
    },
    {
      "cell_type": "markdown",
      "source": [
        "<h3> Observation \n",
        "\n",
        "*   From these plots we can see that the distribution of yi's or the actual class labels is similar in train, test and cross validation datasets. It is extremely important that the distribution of yi's or the actual class labels should be similar in train, test and cross validation because only then our machine learning model will work well."
      ],
      "metadata": {
        "id": "tWQTAw_obuVJ"
      }
    },
    {
      "cell_type": "markdown",
      "source": [
        "<h2>3.6. Encoding the Categorical Features</h2>"
      ],
      "metadata": {
        "id": "V8lyEaJnek99"
      }
    },
    {
      "cell_type": "markdown",
      "source": [
        "<p> There are three categorical variables in our dataset which are cholestrol, gluc and bp. We will encode these categorical features by performing one hot encoding.<p> "
      ],
      "metadata": {
        "id": "HUo_kF4Qerxb"
      }
    },
    {
      "cell_type": "code",
      "source": [
        "X_train=pd.get_dummies(X_train,columns=['cholesterol','gluc','bp'])\n",
        "X_train.head()"
      ],
      "metadata": {
        "colab": {
          "base_uri": "https://localhost:8080/",
          "height": 206
        },
        "id": "Og4YCNj80yYB",
        "outputId": "5d7f7483-2615-4f52-cae6-16c3e6ed5112"
      },
      "execution_count": null,
      "outputs": [
        {
          "output_type": "execute_result",
          "data": {
            "text/plain": [
              "        age  gender  height  weight  ap_hi  ap_lo  smoke  alco  active   bmi  \\\n",
              "14567  61.0       2     180    87.0    120     80      0     0       0  26.9   \n",
              "63376  46.0       1     158    70.0    140     90      0     0       1  28.0   \n",
              "22443  57.0       1     167    84.0    160    100      0     0       1  30.1   \n",
              "58786  54.0       1     162    67.0    120     80      0     0       1  25.5   \n",
              "64167  57.0       1     168    73.0    110     70      0     0       1  25.9   \n",
              "\n",
              "       cholesterol_1  cholesterol_2  cholesterol_3  gluc_1  gluc_2  gluc_3  \\\n",
              "14567              1              0              0       1       0       0   \n",
              "63376              1              0              0       1       0       0   \n",
              "22443              1              0              0       1       0       0   \n",
              "58786              1              0              0       0       0       1   \n",
              "64167              1              0              0       1       0       0   \n",
              "\n",
              "       bp_0  bp_1  bp_2  \n",
              "14567     0     1     0  \n",
              "63376     0     0     1  \n",
              "22443     0     0     1  \n",
              "58786     0     1     0  \n",
              "64167     1     0     0  "
            ],
            "text/html": [
              "\n",
              "  <div id=\"df-e3b4fe6d-a98a-4146-936b-0bf096d0f542\">\n",
              "    <div class=\"colab-df-container\">\n",
              "      <div>\n",
              "<style scoped>\n",
              "    .dataframe tbody tr th:only-of-type {\n",
              "        vertical-align: middle;\n",
              "    }\n",
              "\n",
              "    .dataframe tbody tr th {\n",
              "        vertical-align: top;\n",
              "    }\n",
              "\n",
              "    .dataframe thead th {\n",
              "        text-align: right;\n",
              "    }\n",
              "</style>\n",
              "<table border=\"1\" class=\"dataframe\">\n",
              "  <thead>\n",
              "    <tr style=\"text-align: right;\">\n",
              "      <th></th>\n",
              "      <th>age</th>\n",
              "      <th>gender</th>\n",
              "      <th>height</th>\n",
              "      <th>weight</th>\n",
              "      <th>ap_hi</th>\n",
              "      <th>ap_lo</th>\n",
              "      <th>smoke</th>\n",
              "      <th>alco</th>\n",
              "      <th>active</th>\n",
              "      <th>bmi</th>\n",
              "      <th>cholesterol_1</th>\n",
              "      <th>cholesterol_2</th>\n",
              "      <th>cholesterol_3</th>\n",
              "      <th>gluc_1</th>\n",
              "      <th>gluc_2</th>\n",
              "      <th>gluc_3</th>\n",
              "      <th>bp_0</th>\n",
              "      <th>bp_1</th>\n",
              "      <th>bp_2</th>\n",
              "    </tr>\n",
              "  </thead>\n",
              "  <tbody>\n",
              "    <tr>\n",
              "      <th>14567</th>\n",
              "      <td>61.0</td>\n",
              "      <td>2</td>\n",
              "      <td>180</td>\n",
              "      <td>87.0</td>\n",
              "      <td>120</td>\n",
              "      <td>80</td>\n",
              "      <td>0</td>\n",
              "      <td>0</td>\n",
              "      <td>0</td>\n",
              "      <td>26.9</td>\n",
              "      <td>1</td>\n",
              "      <td>0</td>\n",
              "      <td>0</td>\n",
              "      <td>1</td>\n",
              "      <td>0</td>\n",
              "      <td>0</td>\n",
              "      <td>0</td>\n",
              "      <td>1</td>\n",
              "      <td>0</td>\n",
              "    </tr>\n",
              "    <tr>\n",
              "      <th>63376</th>\n",
              "      <td>46.0</td>\n",
              "      <td>1</td>\n",
              "      <td>158</td>\n",
              "      <td>70.0</td>\n",
              "      <td>140</td>\n",
              "      <td>90</td>\n",
              "      <td>0</td>\n",
              "      <td>0</td>\n",
              "      <td>1</td>\n",
              "      <td>28.0</td>\n",
              "      <td>1</td>\n",
              "      <td>0</td>\n",
              "      <td>0</td>\n",
              "      <td>1</td>\n",
              "      <td>0</td>\n",
              "      <td>0</td>\n",
              "      <td>0</td>\n",
              "      <td>0</td>\n",
              "      <td>1</td>\n",
              "    </tr>\n",
              "    <tr>\n",
              "      <th>22443</th>\n",
              "      <td>57.0</td>\n",
              "      <td>1</td>\n",
              "      <td>167</td>\n",
              "      <td>84.0</td>\n",
              "      <td>160</td>\n",
              "      <td>100</td>\n",
              "      <td>0</td>\n",
              "      <td>0</td>\n",
              "      <td>1</td>\n",
              "      <td>30.1</td>\n",
              "      <td>1</td>\n",
              "      <td>0</td>\n",
              "      <td>0</td>\n",
              "      <td>1</td>\n",
              "      <td>0</td>\n",
              "      <td>0</td>\n",
              "      <td>0</td>\n",
              "      <td>0</td>\n",
              "      <td>1</td>\n",
              "    </tr>\n",
              "    <tr>\n",
              "      <th>58786</th>\n",
              "      <td>54.0</td>\n",
              "      <td>1</td>\n",
              "      <td>162</td>\n",
              "      <td>67.0</td>\n",
              "      <td>120</td>\n",
              "      <td>80</td>\n",
              "      <td>0</td>\n",
              "      <td>0</td>\n",
              "      <td>1</td>\n",
              "      <td>25.5</td>\n",
              "      <td>1</td>\n",
              "      <td>0</td>\n",
              "      <td>0</td>\n",
              "      <td>0</td>\n",
              "      <td>0</td>\n",
              "      <td>1</td>\n",
              "      <td>0</td>\n",
              "      <td>1</td>\n",
              "      <td>0</td>\n",
              "    </tr>\n",
              "    <tr>\n",
              "      <th>64167</th>\n",
              "      <td>57.0</td>\n",
              "      <td>1</td>\n",
              "      <td>168</td>\n",
              "      <td>73.0</td>\n",
              "      <td>110</td>\n",
              "      <td>70</td>\n",
              "      <td>0</td>\n",
              "      <td>0</td>\n",
              "      <td>1</td>\n",
              "      <td>25.9</td>\n",
              "      <td>1</td>\n",
              "      <td>0</td>\n",
              "      <td>0</td>\n",
              "      <td>1</td>\n",
              "      <td>0</td>\n",
              "      <td>0</td>\n",
              "      <td>1</td>\n",
              "      <td>0</td>\n",
              "      <td>0</td>\n",
              "    </tr>\n",
              "  </tbody>\n",
              "</table>\n",
              "</div>\n",
              "      <button class=\"colab-df-convert\" onclick=\"convertToInteractive('df-e3b4fe6d-a98a-4146-936b-0bf096d0f542')\"\n",
              "              title=\"Convert this dataframe to an interactive table.\"\n",
              "              style=\"display:none;\">\n",
              "        \n",
              "  <svg xmlns=\"http://www.w3.org/2000/svg\" height=\"24px\"viewBox=\"0 0 24 24\"\n",
              "       width=\"24px\">\n",
              "    <path d=\"M0 0h24v24H0V0z\" fill=\"none\"/>\n",
              "    <path d=\"M18.56 5.44l.94 2.06.94-2.06 2.06-.94-2.06-.94-.94-2.06-.94 2.06-2.06.94zm-11 1L8.5 8.5l.94-2.06 2.06-.94-2.06-.94L8.5 2.5l-.94 2.06-2.06.94zm10 10l.94 2.06.94-2.06 2.06-.94-2.06-.94-.94-2.06-.94 2.06-2.06.94z\"/><path d=\"M17.41 7.96l-1.37-1.37c-.4-.4-.92-.59-1.43-.59-.52 0-1.04.2-1.43.59L10.3 9.45l-7.72 7.72c-.78.78-.78 2.05 0 2.83L4 21.41c.39.39.9.59 1.41.59.51 0 1.02-.2 1.41-.59l7.78-7.78 2.81-2.81c.8-.78.8-2.07 0-2.86zM5.41 20L4 18.59l7.72-7.72 1.47 1.35L5.41 20z\"/>\n",
              "  </svg>\n",
              "      </button>\n",
              "      \n",
              "  <style>\n",
              "    .colab-df-container {\n",
              "      display:flex;\n",
              "      flex-wrap:wrap;\n",
              "      gap: 12px;\n",
              "    }\n",
              "\n",
              "    .colab-df-convert {\n",
              "      background-color: #E8F0FE;\n",
              "      border: none;\n",
              "      border-radius: 50%;\n",
              "      cursor: pointer;\n",
              "      display: none;\n",
              "      fill: #1967D2;\n",
              "      height: 32px;\n",
              "      padding: 0 0 0 0;\n",
              "      width: 32px;\n",
              "    }\n",
              "\n",
              "    .colab-df-convert:hover {\n",
              "      background-color: #E2EBFA;\n",
              "      box-shadow: 0px 1px 2px rgba(60, 64, 67, 0.3), 0px 1px 3px 1px rgba(60, 64, 67, 0.15);\n",
              "      fill: #174EA6;\n",
              "    }\n",
              "\n",
              "    [theme=dark] .colab-df-convert {\n",
              "      background-color: #3B4455;\n",
              "      fill: #D2E3FC;\n",
              "    }\n",
              "\n",
              "    [theme=dark] .colab-df-convert:hover {\n",
              "      background-color: #434B5C;\n",
              "      box-shadow: 0px 1px 3px 1px rgba(0, 0, 0, 0.15);\n",
              "      filter: drop-shadow(0px 1px 2px rgba(0, 0, 0, 0.3));\n",
              "      fill: #FFFFFF;\n",
              "    }\n",
              "  </style>\n",
              "\n",
              "      <script>\n",
              "        const buttonEl =\n",
              "          document.querySelector('#df-e3b4fe6d-a98a-4146-936b-0bf096d0f542 button.colab-df-convert');\n",
              "        buttonEl.style.display =\n",
              "          google.colab.kernel.accessAllowed ? 'block' : 'none';\n",
              "\n",
              "        async function convertToInteractive(key) {\n",
              "          const element = document.querySelector('#df-e3b4fe6d-a98a-4146-936b-0bf096d0f542');\n",
              "          const dataTable =\n",
              "            await google.colab.kernel.invokeFunction('convertToInteractive',\n",
              "                                                     [key], {});\n",
              "          if (!dataTable) return;\n",
              "\n",
              "          const docLinkHtml = 'Like what you see? Visit the ' +\n",
              "            '<a target=\"_blank\" href=https://colab.research.google.com/notebooks/data_table.ipynb>data table notebook</a>'\n",
              "            + ' to learn more about interactive tables.';\n",
              "          element.innerHTML = '';\n",
              "          dataTable['output_type'] = 'display_data';\n",
              "          await google.colab.output.renderOutput(dataTable, element);\n",
              "          const docLink = document.createElement('div');\n",
              "          docLink.innerHTML = docLinkHtml;\n",
              "          element.appendChild(docLink);\n",
              "        }\n",
              "      </script>\n",
              "    </div>\n",
              "  </div>\n",
              "  "
            ]
          },
          "metadata": {},
          "execution_count": 44
        }
      ]
    },
    {
      "cell_type": "code",
      "source": [
        "X_test=pd.get_dummies(X_test,columns=['cholesterol','gluc', 'bp'])\n",
        "X_test.head()"
      ],
      "metadata": {
        "colab": {
          "base_uri": "https://localhost:8080/",
          "height": 206
        },
        "id": "jK5P0UqB08Ya",
        "outputId": "f33202c3-fca0-4dc4-dd6e-ec0b5f339625"
      },
      "execution_count": null,
      "outputs": [
        {
          "output_type": "execute_result",
          "data": {
            "text/plain": [
              "        age  gender  height  weight  ap_hi  ap_lo  smoke  alco  active   bmi  \\\n",
              "69932  42.0       2     171    67.0    110     60      0     0       1  22.9   \n",
              "25843  42.0       1     157    68.0     90     60      0     0       0  27.6   \n",
              "54654  58.0       2     168    91.0    150     70      0     0       1  32.2   \n",
              "67627  58.0       2     175    74.0    120     80      0     0       0  24.2   \n",
              "25389  58.0       1     174    70.0    120     70      0     0       0  23.1   \n",
              "\n",
              "       cholesterol_1  cholesterol_2  cholesterol_3  gluc_1  gluc_2  gluc_3  \\\n",
              "69932              1              0              0       1       0       0   \n",
              "25843              0              1              0       1       0       0   \n",
              "54654              1              0              0       1       0       0   \n",
              "67627              1              0              0       1       0       0   \n",
              "25389              1              0              0       1       0       0   \n",
              "\n",
              "       bp_0  bp_1  bp_2  \n",
              "69932     1     0     0  \n",
              "25843     1     0     0  \n",
              "54654     0     0     1  \n",
              "67627     0     1     0  \n",
              "25389     0     1     0  "
            ],
            "text/html": [
              "\n",
              "  <div id=\"df-403d1e4c-cacc-4244-9ba2-83c8b1e6d71d\">\n",
              "    <div class=\"colab-df-container\">\n",
              "      <div>\n",
              "<style scoped>\n",
              "    .dataframe tbody tr th:only-of-type {\n",
              "        vertical-align: middle;\n",
              "    }\n",
              "\n",
              "    .dataframe tbody tr th {\n",
              "        vertical-align: top;\n",
              "    }\n",
              "\n",
              "    .dataframe thead th {\n",
              "        text-align: right;\n",
              "    }\n",
              "</style>\n",
              "<table border=\"1\" class=\"dataframe\">\n",
              "  <thead>\n",
              "    <tr style=\"text-align: right;\">\n",
              "      <th></th>\n",
              "      <th>age</th>\n",
              "      <th>gender</th>\n",
              "      <th>height</th>\n",
              "      <th>weight</th>\n",
              "      <th>ap_hi</th>\n",
              "      <th>ap_lo</th>\n",
              "      <th>smoke</th>\n",
              "      <th>alco</th>\n",
              "      <th>active</th>\n",
              "      <th>bmi</th>\n",
              "      <th>cholesterol_1</th>\n",
              "      <th>cholesterol_2</th>\n",
              "      <th>cholesterol_3</th>\n",
              "      <th>gluc_1</th>\n",
              "      <th>gluc_2</th>\n",
              "      <th>gluc_3</th>\n",
              "      <th>bp_0</th>\n",
              "      <th>bp_1</th>\n",
              "      <th>bp_2</th>\n",
              "    </tr>\n",
              "  </thead>\n",
              "  <tbody>\n",
              "    <tr>\n",
              "      <th>69932</th>\n",
              "      <td>42.0</td>\n",
              "      <td>2</td>\n",
              "      <td>171</td>\n",
              "      <td>67.0</td>\n",
              "      <td>110</td>\n",
              "      <td>60</td>\n",
              "      <td>0</td>\n",
              "      <td>0</td>\n",
              "      <td>1</td>\n",
              "      <td>22.9</td>\n",
              "      <td>1</td>\n",
              "      <td>0</td>\n",
              "      <td>0</td>\n",
              "      <td>1</td>\n",
              "      <td>0</td>\n",
              "      <td>0</td>\n",
              "      <td>1</td>\n",
              "      <td>0</td>\n",
              "      <td>0</td>\n",
              "    </tr>\n",
              "    <tr>\n",
              "      <th>25843</th>\n",
              "      <td>42.0</td>\n",
              "      <td>1</td>\n",
              "      <td>157</td>\n",
              "      <td>68.0</td>\n",
              "      <td>90</td>\n",
              "      <td>60</td>\n",
              "      <td>0</td>\n",
              "      <td>0</td>\n",
              "      <td>0</td>\n",
              "      <td>27.6</td>\n",
              "      <td>0</td>\n",
              "      <td>1</td>\n",
              "      <td>0</td>\n",
              "      <td>1</td>\n",
              "      <td>0</td>\n",
              "      <td>0</td>\n",
              "      <td>1</td>\n",
              "      <td>0</td>\n",
              "      <td>0</td>\n",
              "    </tr>\n",
              "    <tr>\n",
              "      <th>54654</th>\n",
              "      <td>58.0</td>\n",
              "      <td>2</td>\n",
              "      <td>168</td>\n",
              "      <td>91.0</td>\n",
              "      <td>150</td>\n",
              "      <td>70</td>\n",
              "      <td>0</td>\n",
              "      <td>0</td>\n",
              "      <td>1</td>\n",
              "      <td>32.2</td>\n",
              "      <td>1</td>\n",
              "      <td>0</td>\n",
              "      <td>0</td>\n",
              "      <td>1</td>\n",
              "      <td>0</td>\n",
              "      <td>0</td>\n",
              "      <td>0</td>\n",
              "      <td>0</td>\n",
              "      <td>1</td>\n",
              "    </tr>\n",
              "    <tr>\n",
              "      <th>67627</th>\n",
              "      <td>58.0</td>\n",
              "      <td>2</td>\n",
              "      <td>175</td>\n",
              "      <td>74.0</td>\n",
              "      <td>120</td>\n",
              "      <td>80</td>\n",
              "      <td>0</td>\n",
              "      <td>0</td>\n",
              "      <td>0</td>\n",
              "      <td>24.2</td>\n",
              "      <td>1</td>\n",
              "      <td>0</td>\n",
              "      <td>0</td>\n",
              "      <td>1</td>\n",
              "      <td>0</td>\n",
              "      <td>0</td>\n",
              "      <td>0</td>\n",
              "      <td>1</td>\n",
              "      <td>0</td>\n",
              "    </tr>\n",
              "    <tr>\n",
              "      <th>25389</th>\n",
              "      <td>58.0</td>\n",
              "      <td>1</td>\n",
              "      <td>174</td>\n",
              "      <td>70.0</td>\n",
              "      <td>120</td>\n",
              "      <td>70</td>\n",
              "      <td>0</td>\n",
              "      <td>0</td>\n",
              "      <td>0</td>\n",
              "      <td>23.1</td>\n",
              "      <td>1</td>\n",
              "      <td>0</td>\n",
              "      <td>0</td>\n",
              "      <td>1</td>\n",
              "      <td>0</td>\n",
              "      <td>0</td>\n",
              "      <td>0</td>\n",
              "      <td>1</td>\n",
              "      <td>0</td>\n",
              "    </tr>\n",
              "  </tbody>\n",
              "</table>\n",
              "</div>\n",
              "      <button class=\"colab-df-convert\" onclick=\"convertToInteractive('df-403d1e4c-cacc-4244-9ba2-83c8b1e6d71d')\"\n",
              "              title=\"Convert this dataframe to an interactive table.\"\n",
              "              style=\"display:none;\">\n",
              "        \n",
              "  <svg xmlns=\"http://www.w3.org/2000/svg\" height=\"24px\"viewBox=\"0 0 24 24\"\n",
              "       width=\"24px\">\n",
              "    <path d=\"M0 0h24v24H0V0z\" fill=\"none\"/>\n",
              "    <path d=\"M18.56 5.44l.94 2.06.94-2.06 2.06-.94-2.06-.94-.94-2.06-.94 2.06-2.06.94zm-11 1L8.5 8.5l.94-2.06 2.06-.94-2.06-.94L8.5 2.5l-.94 2.06-2.06.94zm10 10l.94 2.06.94-2.06 2.06-.94-2.06-.94-.94-2.06-.94 2.06-2.06.94z\"/><path d=\"M17.41 7.96l-1.37-1.37c-.4-.4-.92-.59-1.43-.59-.52 0-1.04.2-1.43.59L10.3 9.45l-7.72 7.72c-.78.78-.78 2.05 0 2.83L4 21.41c.39.39.9.59 1.41.59.51 0 1.02-.2 1.41-.59l7.78-7.78 2.81-2.81c.8-.78.8-2.07 0-2.86zM5.41 20L4 18.59l7.72-7.72 1.47 1.35L5.41 20z\"/>\n",
              "  </svg>\n",
              "      </button>\n",
              "      \n",
              "  <style>\n",
              "    .colab-df-container {\n",
              "      display:flex;\n",
              "      flex-wrap:wrap;\n",
              "      gap: 12px;\n",
              "    }\n",
              "\n",
              "    .colab-df-convert {\n",
              "      background-color: #E8F0FE;\n",
              "      border: none;\n",
              "      border-radius: 50%;\n",
              "      cursor: pointer;\n",
              "      display: none;\n",
              "      fill: #1967D2;\n",
              "      height: 32px;\n",
              "      padding: 0 0 0 0;\n",
              "      width: 32px;\n",
              "    }\n",
              "\n",
              "    .colab-df-convert:hover {\n",
              "      background-color: #E2EBFA;\n",
              "      box-shadow: 0px 1px 2px rgba(60, 64, 67, 0.3), 0px 1px 3px 1px rgba(60, 64, 67, 0.15);\n",
              "      fill: #174EA6;\n",
              "    }\n",
              "\n",
              "    [theme=dark] .colab-df-convert {\n",
              "      background-color: #3B4455;\n",
              "      fill: #D2E3FC;\n",
              "    }\n",
              "\n",
              "    [theme=dark] .colab-df-convert:hover {\n",
              "      background-color: #434B5C;\n",
              "      box-shadow: 0px 1px 3px 1px rgba(0, 0, 0, 0.15);\n",
              "      filter: drop-shadow(0px 1px 2px rgba(0, 0, 0, 0.3));\n",
              "      fill: #FFFFFF;\n",
              "    }\n",
              "  </style>\n",
              "\n",
              "      <script>\n",
              "        const buttonEl =\n",
              "          document.querySelector('#df-403d1e4c-cacc-4244-9ba2-83c8b1e6d71d button.colab-df-convert');\n",
              "        buttonEl.style.display =\n",
              "          google.colab.kernel.accessAllowed ? 'block' : 'none';\n",
              "\n",
              "        async function convertToInteractive(key) {\n",
              "          const element = document.querySelector('#df-403d1e4c-cacc-4244-9ba2-83c8b1e6d71d');\n",
              "          const dataTable =\n",
              "            await google.colab.kernel.invokeFunction('convertToInteractive',\n",
              "                                                     [key], {});\n",
              "          if (!dataTable) return;\n",
              "\n",
              "          const docLinkHtml = 'Like what you see? Visit the ' +\n",
              "            '<a target=\"_blank\" href=https://colab.research.google.com/notebooks/data_table.ipynb>data table notebook</a>'\n",
              "            + ' to learn more about interactive tables.';\n",
              "          element.innerHTML = '';\n",
              "          dataTable['output_type'] = 'display_data';\n",
              "          await google.colab.output.renderOutput(dataTable, element);\n",
              "          const docLink = document.createElement('div');\n",
              "          docLink.innerHTML = docLinkHtml;\n",
              "          element.appendChild(docLink);\n",
              "        }\n",
              "      </script>\n",
              "    </div>\n",
              "  </div>\n",
              "  "
            ]
          },
          "metadata": {},
          "execution_count": 45
        }
      ]
    },
    {
      "cell_type": "code",
      "source": [
        "X_cv=pd.get_dummies(X_cv,columns=['cholesterol','gluc','bp'])\n",
        "X_cv.head()"
      ],
      "metadata": {
        "colab": {
          "base_uri": "https://localhost:8080/",
          "height": 206
        },
        "id": "n0NZtQYJ1Avj",
        "outputId": "bbba2903-d16b-4f1f-c4fe-6aa3f22a910b"
      },
      "execution_count": null,
      "outputs": [
        {
          "output_type": "execute_result",
          "data": {
            "text/plain": [
              "        age  gender  height  weight  ap_hi  ap_lo  smoke  alco  active   bmi  \\\n",
              "64772  53.0       1     160    70.0    130     90      0     0       0  27.3   \n",
              "9206   44.0       2     172   102.0    130     90      0     0       0  34.5   \n",
              "59566  58.0       1     175    75.0    120     80      0     0       1  24.5   \n",
              "14524  52.0       1     166    80.0    150    100      0     0       1  29.0   \n",
              "60646  58.0       2     174    68.0    180    100      0     0       1  22.5   \n",
              "\n",
              "       cholesterol_1  cholesterol_2  cholesterol_3  gluc_1  gluc_2  gluc_3  \\\n",
              "64772              0              1              0       1       0       0   \n",
              "9206               1              0              0       1       0       0   \n",
              "59566              1              0              0       1       0       0   \n",
              "14524              1              0              0       1       0       0   \n",
              "60646              1              0              0       1       0       0   \n",
              "\n",
              "       bp_0  bp_1  bp_2  \n",
              "64772     0     0     1  \n",
              "9206      0     0     1  \n",
              "59566     0     1     0  \n",
              "14524     0     0     1  \n",
              "60646     0     0     1  "
            ],
            "text/html": [
              "\n",
              "  <div id=\"df-f2ec32d6-16bf-40ab-a89a-9eaf2cb6b328\">\n",
              "    <div class=\"colab-df-container\">\n",
              "      <div>\n",
              "<style scoped>\n",
              "    .dataframe tbody tr th:only-of-type {\n",
              "        vertical-align: middle;\n",
              "    }\n",
              "\n",
              "    .dataframe tbody tr th {\n",
              "        vertical-align: top;\n",
              "    }\n",
              "\n",
              "    .dataframe thead th {\n",
              "        text-align: right;\n",
              "    }\n",
              "</style>\n",
              "<table border=\"1\" class=\"dataframe\">\n",
              "  <thead>\n",
              "    <tr style=\"text-align: right;\">\n",
              "      <th></th>\n",
              "      <th>age</th>\n",
              "      <th>gender</th>\n",
              "      <th>height</th>\n",
              "      <th>weight</th>\n",
              "      <th>ap_hi</th>\n",
              "      <th>ap_lo</th>\n",
              "      <th>smoke</th>\n",
              "      <th>alco</th>\n",
              "      <th>active</th>\n",
              "      <th>bmi</th>\n",
              "      <th>cholesterol_1</th>\n",
              "      <th>cholesterol_2</th>\n",
              "      <th>cholesterol_3</th>\n",
              "      <th>gluc_1</th>\n",
              "      <th>gluc_2</th>\n",
              "      <th>gluc_3</th>\n",
              "      <th>bp_0</th>\n",
              "      <th>bp_1</th>\n",
              "      <th>bp_2</th>\n",
              "    </tr>\n",
              "  </thead>\n",
              "  <tbody>\n",
              "    <tr>\n",
              "      <th>64772</th>\n",
              "      <td>53.0</td>\n",
              "      <td>1</td>\n",
              "      <td>160</td>\n",
              "      <td>70.0</td>\n",
              "      <td>130</td>\n",
              "      <td>90</td>\n",
              "      <td>0</td>\n",
              "      <td>0</td>\n",
              "      <td>0</td>\n",
              "      <td>27.3</td>\n",
              "      <td>0</td>\n",
              "      <td>1</td>\n",
              "      <td>0</td>\n",
              "      <td>1</td>\n",
              "      <td>0</td>\n",
              "      <td>0</td>\n",
              "      <td>0</td>\n",
              "      <td>0</td>\n",
              "      <td>1</td>\n",
              "    </tr>\n",
              "    <tr>\n",
              "      <th>9206</th>\n",
              "      <td>44.0</td>\n",
              "      <td>2</td>\n",
              "      <td>172</td>\n",
              "      <td>102.0</td>\n",
              "      <td>130</td>\n",
              "      <td>90</td>\n",
              "      <td>0</td>\n",
              "      <td>0</td>\n",
              "      <td>0</td>\n",
              "      <td>34.5</td>\n",
              "      <td>1</td>\n",
              "      <td>0</td>\n",
              "      <td>0</td>\n",
              "      <td>1</td>\n",
              "      <td>0</td>\n",
              "      <td>0</td>\n",
              "      <td>0</td>\n",
              "      <td>0</td>\n",
              "      <td>1</td>\n",
              "    </tr>\n",
              "    <tr>\n",
              "      <th>59566</th>\n",
              "      <td>58.0</td>\n",
              "      <td>1</td>\n",
              "      <td>175</td>\n",
              "      <td>75.0</td>\n",
              "      <td>120</td>\n",
              "      <td>80</td>\n",
              "      <td>0</td>\n",
              "      <td>0</td>\n",
              "      <td>1</td>\n",
              "      <td>24.5</td>\n",
              "      <td>1</td>\n",
              "      <td>0</td>\n",
              "      <td>0</td>\n",
              "      <td>1</td>\n",
              "      <td>0</td>\n",
              "      <td>0</td>\n",
              "      <td>0</td>\n",
              "      <td>1</td>\n",
              "      <td>0</td>\n",
              "    </tr>\n",
              "    <tr>\n",
              "      <th>14524</th>\n",
              "      <td>52.0</td>\n",
              "      <td>1</td>\n",
              "      <td>166</td>\n",
              "      <td>80.0</td>\n",
              "      <td>150</td>\n",
              "      <td>100</td>\n",
              "      <td>0</td>\n",
              "      <td>0</td>\n",
              "      <td>1</td>\n",
              "      <td>29.0</td>\n",
              "      <td>1</td>\n",
              "      <td>0</td>\n",
              "      <td>0</td>\n",
              "      <td>1</td>\n",
              "      <td>0</td>\n",
              "      <td>0</td>\n",
              "      <td>0</td>\n",
              "      <td>0</td>\n",
              "      <td>1</td>\n",
              "    </tr>\n",
              "    <tr>\n",
              "      <th>60646</th>\n",
              "      <td>58.0</td>\n",
              "      <td>2</td>\n",
              "      <td>174</td>\n",
              "      <td>68.0</td>\n",
              "      <td>180</td>\n",
              "      <td>100</td>\n",
              "      <td>0</td>\n",
              "      <td>0</td>\n",
              "      <td>1</td>\n",
              "      <td>22.5</td>\n",
              "      <td>1</td>\n",
              "      <td>0</td>\n",
              "      <td>0</td>\n",
              "      <td>1</td>\n",
              "      <td>0</td>\n",
              "      <td>0</td>\n",
              "      <td>0</td>\n",
              "      <td>0</td>\n",
              "      <td>1</td>\n",
              "    </tr>\n",
              "  </tbody>\n",
              "</table>\n",
              "</div>\n",
              "      <button class=\"colab-df-convert\" onclick=\"convertToInteractive('df-f2ec32d6-16bf-40ab-a89a-9eaf2cb6b328')\"\n",
              "              title=\"Convert this dataframe to an interactive table.\"\n",
              "              style=\"display:none;\">\n",
              "        \n",
              "  <svg xmlns=\"http://www.w3.org/2000/svg\" height=\"24px\"viewBox=\"0 0 24 24\"\n",
              "       width=\"24px\">\n",
              "    <path d=\"M0 0h24v24H0V0z\" fill=\"none\"/>\n",
              "    <path d=\"M18.56 5.44l.94 2.06.94-2.06 2.06-.94-2.06-.94-.94-2.06-.94 2.06-2.06.94zm-11 1L8.5 8.5l.94-2.06 2.06-.94-2.06-.94L8.5 2.5l-.94 2.06-2.06.94zm10 10l.94 2.06.94-2.06 2.06-.94-2.06-.94-.94-2.06-.94 2.06-2.06.94z\"/><path d=\"M17.41 7.96l-1.37-1.37c-.4-.4-.92-.59-1.43-.59-.52 0-1.04.2-1.43.59L10.3 9.45l-7.72 7.72c-.78.78-.78 2.05 0 2.83L4 21.41c.39.39.9.59 1.41.59.51 0 1.02-.2 1.41-.59l7.78-7.78 2.81-2.81c.8-.78.8-2.07 0-2.86zM5.41 20L4 18.59l7.72-7.72 1.47 1.35L5.41 20z\"/>\n",
              "  </svg>\n",
              "      </button>\n",
              "      \n",
              "  <style>\n",
              "    .colab-df-container {\n",
              "      display:flex;\n",
              "      flex-wrap:wrap;\n",
              "      gap: 12px;\n",
              "    }\n",
              "\n",
              "    .colab-df-convert {\n",
              "      background-color: #E8F0FE;\n",
              "      border: none;\n",
              "      border-radius: 50%;\n",
              "      cursor: pointer;\n",
              "      display: none;\n",
              "      fill: #1967D2;\n",
              "      height: 32px;\n",
              "      padding: 0 0 0 0;\n",
              "      width: 32px;\n",
              "    }\n",
              "\n",
              "    .colab-df-convert:hover {\n",
              "      background-color: #E2EBFA;\n",
              "      box-shadow: 0px 1px 2px rgba(60, 64, 67, 0.3), 0px 1px 3px 1px rgba(60, 64, 67, 0.15);\n",
              "      fill: #174EA6;\n",
              "    }\n",
              "\n",
              "    [theme=dark] .colab-df-convert {\n",
              "      background-color: #3B4455;\n",
              "      fill: #D2E3FC;\n",
              "    }\n",
              "\n",
              "    [theme=dark] .colab-df-convert:hover {\n",
              "      background-color: #434B5C;\n",
              "      box-shadow: 0px 1px 3px 1px rgba(0, 0, 0, 0.15);\n",
              "      filter: drop-shadow(0px 1px 2px rgba(0, 0, 0, 0.3));\n",
              "      fill: #FFFFFF;\n",
              "    }\n",
              "  </style>\n",
              "\n",
              "      <script>\n",
              "        const buttonEl =\n",
              "          document.querySelector('#df-f2ec32d6-16bf-40ab-a89a-9eaf2cb6b328 button.colab-df-convert');\n",
              "        buttonEl.style.display =\n",
              "          google.colab.kernel.accessAllowed ? 'block' : 'none';\n",
              "\n",
              "        async function convertToInteractive(key) {\n",
              "          const element = document.querySelector('#df-f2ec32d6-16bf-40ab-a89a-9eaf2cb6b328');\n",
              "          const dataTable =\n",
              "            await google.colab.kernel.invokeFunction('convertToInteractive',\n",
              "                                                     [key], {});\n",
              "          if (!dataTable) return;\n",
              "\n",
              "          const docLinkHtml = 'Like what you see? Visit the ' +\n",
              "            '<a target=\"_blank\" href=https://colab.research.google.com/notebooks/data_table.ipynb>data table notebook</a>'\n",
              "            + ' to learn more about interactive tables.';\n",
              "          element.innerHTML = '';\n",
              "          dataTable['output_type'] = 'display_data';\n",
              "          await google.colab.output.renderOutput(dataTable, element);\n",
              "          const docLink = document.createElement('div');\n",
              "          docLink.innerHTML = docLinkHtml;\n",
              "          element.appendChild(docLink);\n",
              "        }\n",
              "      </script>\n",
              "    </div>\n",
              "  </div>\n",
              "  "
            ]
          },
          "metadata": {},
          "execution_count": 46
        }
      ]
    },
    {
      "cell_type": "markdown",
      "source": [
        "<h2>3.7. Normalize the Numerical Features</h2>"
      ],
      "metadata": {
        "id": "EsAM05STPgP4"
      }
    },
    {
      "cell_type": "markdown",
      "source": [
        "<p> The numerical features in our dataset are age, height, weight, ap_hi, ap_lo and bmi. Since the features in our dataset have different scales, we will normalize these features. As a result of normalization, the values of the transformed features will lie in the  range [0,1]. <p>"
      ],
      "metadata": {
        "id": "dsbKJiq1PeVK"
      }
    },
    {
      "cell_type": "code",
      "source": [
        "features_to_be_scaled = ['age','height','weight','ap_hi', 'ap_lo','bmi']\n",
        "\n",
        "scaler=MinMaxScaler()\n",
        "scaler.fit(X_train[features_to_be_scaled])\n",
        "X_train[features_to_be_scaled] = scaler.transform(X_train[features_to_be_scaled])\n",
        "X_test[features_to_be_scaled] = scaler.transform(X_test[features_to_be_scaled])\n",
        "X_cv[features_to_be_scaled] = scaler.transform(X_cv[features_to_be_scaled])"
      ],
      "metadata": {
        "id": "qIcLmAp-I_c1"
      },
      "execution_count": null,
      "outputs": []
    },
    {
      "cell_type": "code",
      "source": [
        "X_train.head()"
      ],
      "metadata": {
        "colab": {
          "base_uri": "https://localhost:8080/",
          "height": 206
        },
        "id": "76FybE_HI_pq",
        "outputId": "4b89ab24-a3e1-449d-f4bc-c04d7c6e191b"
      },
      "execution_count": null,
      "outputs": [
        {
          "output_type": "execute_result",
          "data": {
            "text/plain": [
              "            age  gender    height    weight     ap_hi     ap_lo  smoke  alco  \\\n",
              "14567  0.885714       2  0.857143  0.546763  0.519231  0.714286      0     0   \n",
              "63376  0.457143       1  0.542857  0.424460  0.615385  0.761905      0     0   \n",
              "22443  0.771429       1  0.671429  0.525180  0.711538  0.809524      0     0   \n",
              "58786  0.685714       1  0.600000  0.402878  0.519231  0.714286      0     0   \n",
              "64167  0.771429       1  0.685714  0.446043  0.471154  0.666667      0     0   \n",
              "\n",
              "       active       bmi  cholesterol_1  cholesterol_2  cholesterol_3  gluc_1  \\\n",
              "14567       0  0.455253              1              0              0       1   \n",
              "63376       1  0.476654              1              0              0       1   \n",
              "22443       1  0.517510              1              0              0       1   \n",
              "58786       1  0.428016              1              0              0       0   \n",
              "64167       1  0.435798              1              0              0       1   \n",
              "\n",
              "       gluc_2  gluc_3  bp_0  bp_1  bp_2  \n",
              "14567       0       0     0     1     0  \n",
              "63376       0       0     0     0     1  \n",
              "22443       0       0     0     0     1  \n",
              "58786       0       1     0     1     0  \n",
              "64167       0       0     1     0     0  "
            ],
            "text/html": [
              "\n",
              "  <div id=\"df-d8255001-5612-4bc9-8525-cbbc971e065d\">\n",
              "    <div class=\"colab-df-container\">\n",
              "      <div>\n",
              "<style scoped>\n",
              "    .dataframe tbody tr th:only-of-type {\n",
              "        vertical-align: middle;\n",
              "    }\n",
              "\n",
              "    .dataframe tbody tr th {\n",
              "        vertical-align: top;\n",
              "    }\n",
              "\n",
              "    .dataframe thead th {\n",
              "        text-align: right;\n",
              "    }\n",
              "</style>\n",
              "<table border=\"1\" class=\"dataframe\">\n",
              "  <thead>\n",
              "    <tr style=\"text-align: right;\">\n",
              "      <th></th>\n",
              "      <th>age</th>\n",
              "      <th>gender</th>\n",
              "      <th>height</th>\n",
              "      <th>weight</th>\n",
              "      <th>ap_hi</th>\n",
              "      <th>ap_lo</th>\n",
              "      <th>smoke</th>\n",
              "      <th>alco</th>\n",
              "      <th>active</th>\n",
              "      <th>bmi</th>\n",
              "      <th>cholesterol_1</th>\n",
              "      <th>cholesterol_2</th>\n",
              "      <th>cholesterol_3</th>\n",
              "      <th>gluc_1</th>\n",
              "      <th>gluc_2</th>\n",
              "      <th>gluc_3</th>\n",
              "      <th>bp_0</th>\n",
              "      <th>bp_1</th>\n",
              "      <th>bp_2</th>\n",
              "    </tr>\n",
              "  </thead>\n",
              "  <tbody>\n",
              "    <tr>\n",
              "      <th>14567</th>\n",
              "      <td>0.885714</td>\n",
              "      <td>2</td>\n",
              "      <td>0.857143</td>\n",
              "      <td>0.546763</td>\n",
              "      <td>0.519231</td>\n",
              "      <td>0.714286</td>\n",
              "      <td>0</td>\n",
              "      <td>0</td>\n",
              "      <td>0</td>\n",
              "      <td>0.455253</td>\n",
              "      <td>1</td>\n",
              "      <td>0</td>\n",
              "      <td>0</td>\n",
              "      <td>1</td>\n",
              "      <td>0</td>\n",
              "      <td>0</td>\n",
              "      <td>0</td>\n",
              "      <td>1</td>\n",
              "      <td>0</td>\n",
              "    </tr>\n",
              "    <tr>\n",
              "      <th>63376</th>\n",
              "      <td>0.457143</td>\n",
              "      <td>1</td>\n",
              "      <td>0.542857</td>\n",
              "      <td>0.424460</td>\n",
              "      <td>0.615385</td>\n",
              "      <td>0.761905</td>\n",
              "      <td>0</td>\n",
              "      <td>0</td>\n",
              "      <td>1</td>\n",
              "      <td>0.476654</td>\n",
              "      <td>1</td>\n",
              "      <td>0</td>\n",
              "      <td>0</td>\n",
              "      <td>1</td>\n",
              "      <td>0</td>\n",
              "      <td>0</td>\n",
              "      <td>0</td>\n",
              "      <td>0</td>\n",
              "      <td>1</td>\n",
              "    </tr>\n",
              "    <tr>\n",
              "      <th>22443</th>\n",
              "      <td>0.771429</td>\n",
              "      <td>1</td>\n",
              "      <td>0.671429</td>\n",
              "      <td>0.525180</td>\n",
              "      <td>0.711538</td>\n",
              "      <td>0.809524</td>\n",
              "      <td>0</td>\n",
              "      <td>0</td>\n",
              "      <td>1</td>\n",
              "      <td>0.517510</td>\n",
              "      <td>1</td>\n",
              "      <td>0</td>\n",
              "      <td>0</td>\n",
              "      <td>1</td>\n",
              "      <td>0</td>\n",
              "      <td>0</td>\n",
              "      <td>0</td>\n",
              "      <td>0</td>\n",
              "      <td>1</td>\n",
              "    </tr>\n",
              "    <tr>\n",
              "      <th>58786</th>\n",
              "      <td>0.685714</td>\n",
              "      <td>1</td>\n",
              "      <td>0.600000</td>\n",
              "      <td>0.402878</td>\n",
              "      <td>0.519231</td>\n",
              "      <td>0.714286</td>\n",
              "      <td>0</td>\n",
              "      <td>0</td>\n",
              "      <td>1</td>\n",
              "      <td>0.428016</td>\n",
              "      <td>1</td>\n",
              "      <td>0</td>\n",
              "      <td>0</td>\n",
              "      <td>0</td>\n",
              "      <td>0</td>\n",
              "      <td>1</td>\n",
              "      <td>0</td>\n",
              "      <td>1</td>\n",
              "      <td>0</td>\n",
              "    </tr>\n",
              "    <tr>\n",
              "      <th>64167</th>\n",
              "      <td>0.771429</td>\n",
              "      <td>1</td>\n",
              "      <td>0.685714</td>\n",
              "      <td>0.446043</td>\n",
              "      <td>0.471154</td>\n",
              "      <td>0.666667</td>\n",
              "      <td>0</td>\n",
              "      <td>0</td>\n",
              "      <td>1</td>\n",
              "      <td>0.435798</td>\n",
              "      <td>1</td>\n",
              "      <td>0</td>\n",
              "      <td>0</td>\n",
              "      <td>1</td>\n",
              "      <td>0</td>\n",
              "      <td>0</td>\n",
              "      <td>1</td>\n",
              "      <td>0</td>\n",
              "      <td>0</td>\n",
              "    </tr>\n",
              "  </tbody>\n",
              "</table>\n",
              "</div>\n",
              "      <button class=\"colab-df-convert\" onclick=\"convertToInteractive('df-d8255001-5612-4bc9-8525-cbbc971e065d')\"\n",
              "              title=\"Convert this dataframe to an interactive table.\"\n",
              "              style=\"display:none;\">\n",
              "        \n",
              "  <svg xmlns=\"http://www.w3.org/2000/svg\" height=\"24px\"viewBox=\"0 0 24 24\"\n",
              "       width=\"24px\">\n",
              "    <path d=\"M0 0h24v24H0V0z\" fill=\"none\"/>\n",
              "    <path d=\"M18.56 5.44l.94 2.06.94-2.06 2.06-.94-2.06-.94-.94-2.06-.94 2.06-2.06.94zm-11 1L8.5 8.5l.94-2.06 2.06-.94-2.06-.94L8.5 2.5l-.94 2.06-2.06.94zm10 10l.94 2.06.94-2.06 2.06-.94-2.06-.94-.94-2.06-.94 2.06-2.06.94z\"/><path d=\"M17.41 7.96l-1.37-1.37c-.4-.4-.92-.59-1.43-.59-.52 0-1.04.2-1.43.59L10.3 9.45l-7.72 7.72c-.78.78-.78 2.05 0 2.83L4 21.41c.39.39.9.59 1.41.59.51 0 1.02-.2 1.41-.59l7.78-7.78 2.81-2.81c.8-.78.8-2.07 0-2.86zM5.41 20L4 18.59l7.72-7.72 1.47 1.35L5.41 20z\"/>\n",
              "  </svg>\n",
              "      </button>\n",
              "      \n",
              "  <style>\n",
              "    .colab-df-container {\n",
              "      display:flex;\n",
              "      flex-wrap:wrap;\n",
              "      gap: 12px;\n",
              "    }\n",
              "\n",
              "    .colab-df-convert {\n",
              "      background-color: #E8F0FE;\n",
              "      border: none;\n",
              "      border-radius: 50%;\n",
              "      cursor: pointer;\n",
              "      display: none;\n",
              "      fill: #1967D2;\n",
              "      height: 32px;\n",
              "      padding: 0 0 0 0;\n",
              "      width: 32px;\n",
              "    }\n",
              "\n",
              "    .colab-df-convert:hover {\n",
              "      background-color: #E2EBFA;\n",
              "      box-shadow: 0px 1px 2px rgba(60, 64, 67, 0.3), 0px 1px 3px 1px rgba(60, 64, 67, 0.15);\n",
              "      fill: #174EA6;\n",
              "    }\n",
              "\n",
              "    [theme=dark] .colab-df-convert {\n",
              "      background-color: #3B4455;\n",
              "      fill: #D2E3FC;\n",
              "    }\n",
              "\n",
              "    [theme=dark] .colab-df-convert:hover {\n",
              "      background-color: #434B5C;\n",
              "      box-shadow: 0px 1px 3px 1px rgba(0, 0, 0, 0.15);\n",
              "      filter: drop-shadow(0px 1px 2px rgba(0, 0, 0, 0.3));\n",
              "      fill: #FFFFFF;\n",
              "    }\n",
              "  </style>\n",
              "\n",
              "      <script>\n",
              "        const buttonEl =\n",
              "          document.querySelector('#df-d8255001-5612-4bc9-8525-cbbc971e065d button.colab-df-convert');\n",
              "        buttonEl.style.display =\n",
              "          google.colab.kernel.accessAllowed ? 'block' : 'none';\n",
              "\n",
              "        async function convertToInteractive(key) {\n",
              "          const element = document.querySelector('#df-d8255001-5612-4bc9-8525-cbbc971e065d');\n",
              "          const dataTable =\n",
              "            await google.colab.kernel.invokeFunction('convertToInteractive',\n",
              "                                                     [key], {});\n",
              "          if (!dataTable) return;\n",
              "\n",
              "          const docLinkHtml = 'Like what you see? Visit the ' +\n",
              "            '<a target=\"_blank\" href=https://colab.research.google.com/notebooks/data_table.ipynb>data table notebook</a>'\n",
              "            + ' to learn more about interactive tables.';\n",
              "          element.innerHTML = '';\n",
              "          dataTable['output_type'] = 'display_data';\n",
              "          await google.colab.output.renderOutput(dataTable, element);\n",
              "          const docLink = document.createElement('div');\n",
              "          docLink.innerHTML = docLinkHtml;\n",
              "          element.appendChild(docLink);\n",
              "        }\n",
              "      </script>\n",
              "    </div>\n",
              "  </div>\n",
              "  "
            ]
          },
          "metadata": {},
          "execution_count": 48
        }
      ]
    },
    {
      "cell_type": "code",
      "source": [
        "X_test.head()"
      ],
      "metadata": {
        "colab": {
          "base_uri": "https://localhost:8080/",
          "height": 206
        },
        "id": "j5qBFvWRXpva",
        "outputId": "a6141890-eaa9-4514-a9e3-de96c3f5a865"
      },
      "execution_count": null,
      "outputs": [
        {
          "output_type": "execute_result",
          "data": {
            "text/plain": [
              "            age  gender    height    weight     ap_hi     ap_lo  smoke  alco  \\\n",
              "69932  0.342857       2  0.728571  0.402878  0.471154  0.619048      0     0   \n",
              "25843  0.342857       1  0.528571  0.410072  0.375000  0.619048      0     0   \n",
              "54654  0.800000       2  0.685714  0.575540  0.663462  0.666667      0     0   \n",
              "67627  0.800000       2  0.785714  0.453237  0.519231  0.714286      0     0   \n",
              "25389  0.800000       1  0.771429  0.424460  0.519231  0.666667      0     0   \n",
              "\n",
              "       active       bmi  cholesterol_1  cholesterol_2  cholesterol_3  gluc_1  \\\n",
              "69932       1  0.377432              1              0              0       1   \n",
              "25843       0  0.468872              0              1              0       1   \n",
              "54654       1  0.558366              1              0              0       1   \n",
              "67627       0  0.402724              1              0              0       1   \n",
              "25389       0  0.381323              1              0              0       1   \n",
              "\n",
              "       gluc_2  gluc_3  bp_0  bp_1  bp_2  \n",
              "69932       0       0     1     0     0  \n",
              "25843       0       0     1     0     0  \n",
              "54654       0       0     0     0     1  \n",
              "67627       0       0     0     1     0  \n",
              "25389       0       0     0     1     0  "
            ],
            "text/html": [
              "\n",
              "  <div id=\"df-616bacc9-77c6-44e3-9158-1c1231defdf4\">\n",
              "    <div class=\"colab-df-container\">\n",
              "      <div>\n",
              "<style scoped>\n",
              "    .dataframe tbody tr th:only-of-type {\n",
              "        vertical-align: middle;\n",
              "    }\n",
              "\n",
              "    .dataframe tbody tr th {\n",
              "        vertical-align: top;\n",
              "    }\n",
              "\n",
              "    .dataframe thead th {\n",
              "        text-align: right;\n",
              "    }\n",
              "</style>\n",
              "<table border=\"1\" class=\"dataframe\">\n",
              "  <thead>\n",
              "    <tr style=\"text-align: right;\">\n",
              "      <th></th>\n",
              "      <th>age</th>\n",
              "      <th>gender</th>\n",
              "      <th>height</th>\n",
              "      <th>weight</th>\n",
              "      <th>ap_hi</th>\n",
              "      <th>ap_lo</th>\n",
              "      <th>smoke</th>\n",
              "      <th>alco</th>\n",
              "      <th>active</th>\n",
              "      <th>bmi</th>\n",
              "      <th>cholesterol_1</th>\n",
              "      <th>cholesterol_2</th>\n",
              "      <th>cholesterol_3</th>\n",
              "      <th>gluc_1</th>\n",
              "      <th>gluc_2</th>\n",
              "      <th>gluc_3</th>\n",
              "      <th>bp_0</th>\n",
              "      <th>bp_1</th>\n",
              "      <th>bp_2</th>\n",
              "    </tr>\n",
              "  </thead>\n",
              "  <tbody>\n",
              "    <tr>\n",
              "      <th>69932</th>\n",
              "      <td>0.342857</td>\n",
              "      <td>2</td>\n",
              "      <td>0.728571</td>\n",
              "      <td>0.402878</td>\n",
              "      <td>0.471154</td>\n",
              "      <td>0.619048</td>\n",
              "      <td>0</td>\n",
              "      <td>0</td>\n",
              "      <td>1</td>\n",
              "      <td>0.377432</td>\n",
              "      <td>1</td>\n",
              "      <td>0</td>\n",
              "      <td>0</td>\n",
              "      <td>1</td>\n",
              "      <td>0</td>\n",
              "      <td>0</td>\n",
              "      <td>1</td>\n",
              "      <td>0</td>\n",
              "      <td>0</td>\n",
              "    </tr>\n",
              "    <tr>\n",
              "      <th>25843</th>\n",
              "      <td>0.342857</td>\n",
              "      <td>1</td>\n",
              "      <td>0.528571</td>\n",
              "      <td>0.410072</td>\n",
              "      <td>0.375000</td>\n",
              "      <td>0.619048</td>\n",
              "      <td>0</td>\n",
              "      <td>0</td>\n",
              "      <td>0</td>\n",
              "      <td>0.468872</td>\n",
              "      <td>0</td>\n",
              "      <td>1</td>\n",
              "      <td>0</td>\n",
              "      <td>1</td>\n",
              "      <td>0</td>\n",
              "      <td>0</td>\n",
              "      <td>1</td>\n",
              "      <td>0</td>\n",
              "      <td>0</td>\n",
              "    </tr>\n",
              "    <tr>\n",
              "      <th>54654</th>\n",
              "      <td>0.800000</td>\n",
              "      <td>2</td>\n",
              "      <td>0.685714</td>\n",
              "      <td>0.575540</td>\n",
              "      <td>0.663462</td>\n",
              "      <td>0.666667</td>\n",
              "      <td>0</td>\n",
              "      <td>0</td>\n",
              "      <td>1</td>\n",
              "      <td>0.558366</td>\n",
              "      <td>1</td>\n",
              "      <td>0</td>\n",
              "      <td>0</td>\n",
              "      <td>1</td>\n",
              "      <td>0</td>\n",
              "      <td>0</td>\n",
              "      <td>0</td>\n",
              "      <td>0</td>\n",
              "      <td>1</td>\n",
              "    </tr>\n",
              "    <tr>\n",
              "      <th>67627</th>\n",
              "      <td>0.800000</td>\n",
              "      <td>2</td>\n",
              "      <td>0.785714</td>\n",
              "      <td>0.453237</td>\n",
              "      <td>0.519231</td>\n",
              "      <td>0.714286</td>\n",
              "      <td>0</td>\n",
              "      <td>0</td>\n",
              "      <td>0</td>\n",
              "      <td>0.402724</td>\n",
              "      <td>1</td>\n",
              "      <td>0</td>\n",
              "      <td>0</td>\n",
              "      <td>1</td>\n",
              "      <td>0</td>\n",
              "      <td>0</td>\n",
              "      <td>0</td>\n",
              "      <td>1</td>\n",
              "      <td>0</td>\n",
              "    </tr>\n",
              "    <tr>\n",
              "      <th>25389</th>\n",
              "      <td>0.800000</td>\n",
              "      <td>1</td>\n",
              "      <td>0.771429</td>\n",
              "      <td>0.424460</td>\n",
              "      <td>0.519231</td>\n",
              "      <td>0.666667</td>\n",
              "      <td>0</td>\n",
              "      <td>0</td>\n",
              "      <td>0</td>\n",
              "      <td>0.381323</td>\n",
              "      <td>1</td>\n",
              "      <td>0</td>\n",
              "      <td>0</td>\n",
              "      <td>1</td>\n",
              "      <td>0</td>\n",
              "      <td>0</td>\n",
              "      <td>0</td>\n",
              "      <td>1</td>\n",
              "      <td>0</td>\n",
              "    </tr>\n",
              "  </tbody>\n",
              "</table>\n",
              "</div>\n",
              "      <button class=\"colab-df-convert\" onclick=\"convertToInteractive('df-616bacc9-77c6-44e3-9158-1c1231defdf4')\"\n",
              "              title=\"Convert this dataframe to an interactive table.\"\n",
              "              style=\"display:none;\">\n",
              "        \n",
              "  <svg xmlns=\"http://www.w3.org/2000/svg\" height=\"24px\"viewBox=\"0 0 24 24\"\n",
              "       width=\"24px\">\n",
              "    <path d=\"M0 0h24v24H0V0z\" fill=\"none\"/>\n",
              "    <path d=\"M18.56 5.44l.94 2.06.94-2.06 2.06-.94-2.06-.94-.94-2.06-.94 2.06-2.06.94zm-11 1L8.5 8.5l.94-2.06 2.06-.94-2.06-.94L8.5 2.5l-.94 2.06-2.06.94zm10 10l.94 2.06.94-2.06 2.06-.94-2.06-.94-.94-2.06-.94 2.06-2.06.94z\"/><path d=\"M17.41 7.96l-1.37-1.37c-.4-.4-.92-.59-1.43-.59-.52 0-1.04.2-1.43.59L10.3 9.45l-7.72 7.72c-.78.78-.78 2.05 0 2.83L4 21.41c.39.39.9.59 1.41.59.51 0 1.02-.2 1.41-.59l7.78-7.78 2.81-2.81c.8-.78.8-2.07 0-2.86zM5.41 20L4 18.59l7.72-7.72 1.47 1.35L5.41 20z\"/>\n",
              "  </svg>\n",
              "      </button>\n",
              "      \n",
              "  <style>\n",
              "    .colab-df-container {\n",
              "      display:flex;\n",
              "      flex-wrap:wrap;\n",
              "      gap: 12px;\n",
              "    }\n",
              "\n",
              "    .colab-df-convert {\n",
              "      background-color: #E8F0FE;\n",
              "      border: none;\n",
              "      border-radius: 50%;\n",
              "      cursor: pointer;\n",
              "      display: none;\n",
              "      fill: #1967D2;\n",
              "      height: 32px;\n",
              "      padding: 0 0 0 0;\n",
              "      width: 32px;\n",
              "    }\n",
              "\n",
              "    .colab-df-convert:hover {\n",
              "      background-color: #E2EBFA;\n",
              "      box-shadow: 0px 1px 2px rgba(60, 64, 67, 0.3), 0px 1px 3px 1px rgba(60, 64, 67, 0.15);\n",
              "      fill: #174EA6;\n",
              "    }\n",
              "\n",
              "    [theme=dark] .colab-df-convert {\n",
              "      background-color: #3B4455;\n",
              "      fill: #D2E3FC;\n",
              "    }\n",
              "\n",
              "    [theme=dark] .colab-df-convert:hover {\n",
              "      background-color: #434B5C;\n",
              "      box-shadow: 0px 1px 3px 1px rgba(0, 0, 0, 0.15);\n",
              "      filter: drop-shadow(0px 1px 2px rgba(0, 0, 0, 0.3));\n",
              "      fill: #FFFFFF;\n",
              "    }\n",
              "  </style>\n",
              "\n",
              "      <script>\n",
              "        const buttonEl =\n",
              "          document.querySelector('#df-616bacc9-77c6-44e3-9158-1c1231defdf4 button.colab-df-convert');\n",
              "        buttonEl.style.display =\n",
              "          google.colab.kernel.accessAllowed ? 'block' : 'none';\n",
              "\n",
              "        async function convertToInteractive(key) {\n",
              "          const element = document.querySelector('#df-616bacc9-77c6-44e3-9158-1c1231defdf4');\n",
              "          const dataTable =\n",
              "            await google.colab.kernel.invokeFunction('convertToInteractive',\n",
              "                                                     [key], {});\n",
              "          if (!dataTable) return;\n",
              "\n",
              "          const docLinkHtml = 'Like what you see? Visit the ' +\n",
              "            '<a target=\"_blank\" href=https://colab.research.google.com/notebooks/data_table.ipynb>data table notebook</a>'\n",
              "            + ' to learn more about interactive tables.';\n",
              "          element.innerHTML = '';\n",
              "          dataTable['output_type'] = 'display_data';\n",
              "          await google.colab.output.renderOutput(dataTable, element);\n",
              "          const docLink = document.createElement('div');\n",
              "          docLink.innerHTML = docLinkHtml;\n",
              "          element.appendChild(docLink);\n",
              "        }\n",
              "      </script>\n",
              "    </div>\n",
              "  </div>\n",
              "  "
            ]
          },
          "metadata": {},
          "execution_count": 49
        }
      ]
    },
    {
      "cell_type": "code",
      "source": [
        "X_cv.head()"
      ],
      "metadata": {
        "colab": {
          "base_uri": "https://localhost:8080/",
          "height": 206
        },
        "id": "Vqx7QtZeXp6q",
        "outputId": "bb740c26-cd6b-4691-ae5b-27a363cd04c4"
      },
      "execution_count": null,
      "outputs": [
        {
          "output_type": "execute_result",
          "data": {
            "text/plain": [
              "            age  gender    height    weight     ap_hi     ap_lo  smoke  alco  \\\n",
              "64772  0.657143       1  0.571429  0.424460  0.567308  0.761905      0     0   \n",
              "9206   0.400000       2  0.742857  0.654676  0.567308  0.761905      0     0   \n",
              "59566  0.800000       1  0.785714  0.460432  0.519231  0.714286      0     0   \n",
              "14524  0.628571       1  0.657143  0.496403  0.663462  0.809524      0     0   \n",
              "60646  0.800000       2  0.771429  0.410072  0.807692  0.809524      0     0   \n",
              "\n",
              "       active       bmi  cholesterol_1  cholesterol_2  cholesterol_3  gluc_1  \\\n",
              "64772       0  0.463035              0              1              0       1   \n",
              "9206        0  0.603113              1              0              0       1   \n",
              "59566       1  0.408560              1              0              0       1   \n",
              "14524       1  0.496109              1              0              0       1   \n",
              "60646       1  0.369650              1              0              0       1   \n",
              "\n",
              "       gluc_2  gluc_3  bp_0  bp_1  bp_2  \n",
              "64772       0       0     0     0     1  \n",
              "9206        0       0     0     0     1  \n",
              "59566       0       0     0     1     0  \n",
              "14524       0       0     0     0     1  \n",
              "60646       0       0     0     0     1  "
            ],
            "text/html": [
              "\n",
              "  <div id=\"df-724213ea-cd08-4308-91d8-c1aeba343122\">\n",
              "    <div class=\"colab-df-container\">\n",
              "      <div>\n",
              "<style scoped>\n",
              "    .dataframe tbody tr th:only-of-type {\n",
              "        vertical-align: middle;\n",
              "    }\n",
              "\n",
              "    .dataframe tbody tr th {\n",
              "        vertical-align: top;\n",
              "    }\n",
              "\n",
              "    .dataframe thead th {\n",
              "        text-align: right;\n",
              "    }\n",
              "</style>\n",
              "<table border=\"1\" class=\"dataframe\">\n",
              "  <thead>\n",
              "    <tr style=\"text-align: right;\">\n",
              "      <th></th>\n",
              "      <th>age</th>\n",
              "      <th>gender</th>\n",
              "      <th>height</th>\n",
              "      <th>weight</th>\n",
              "      <th>ap_hi</th>\n",
              "      <th>ap_lo</th>\n",
              "      <th>smoke</th>\n",
              "      <th>alco</th>\n",
              "      <th>active</th>\n",
              "      <th>bmi</th>\n",
              "      <th>cholesterol_1</th>\n",
              "      <th>cholesterol_2</th>\n",
              "      <th>cholesterol_3</th>\n",
              "      <th>gluc_1</th>\n",
              "      <th>gluc_2</th>\n",
              "      <th>gluc_3</th>\n",
              "      <th>bp_0</th>\n",
              "      <th>bp_1</th>\n",
              "      <th>bp_2</th>\n",
              "    </tr>\n",
              "  </thead>\n",
              "  <tbody>\n",
              "    <tr>\n",
              "      <th>64772</th>\n",
              "      <td>0.657143</td>\n",
              "      <td>1</td>\n",
              "      <td>0.571429</td>\n",
              "      <td>0.424460</td>\n",
              "      <td>0.567308</td>\n",
              "      <td>0.761905</td>\n",
              "      <td>0</td>\n",
              "      <td>0</td>\n",
              "      <td>0</td>\n",
              "      <td>0.463035</td>\n",
              "      <td>0</td>\n",
              "      <td>1</td>\n",
              "      <td>0</td>\n",
              "      <td>1</td>\n",
              "      <td>0</td>\n",
              "      <td>0</td>\n",
              "      <td>0</td>\n",
              "      <td>0</td>\n",
              "      <td>1</td>\n",
              "    </tr>\n",
              "    <tr>\n",
              "      <th>9206</th>\n",
              "      <td>0.400000</td>\n",
              "      <td>2</td>\n",
              "      <td>0.742857</td>\n",
              "      <td>0.654676</td>\n",
              "      <td>0.567308</td>\n",
              "      <td>0.761905</td>\n",
              "      <td>0</td>\n",
              "      <td>0</td>\n",
              "      <td>0</td>\n",
              "      <td>0.603113</td>\n",
              "      <td>1</td>\n",
              "      <td>0</td>\n",
              "      <td>0</td>\n",
              "      <td>1</td>\n",
              "      <td>0</td>\n",
              "      <td>0</td>\n",
              "      <td>0</td>\n",
              "      <td>0</td>\n",
              "      <td>1</td>\n",
              "    </tr>\n",
              "    <tr>\n",
              "      <th>59566</th>\n",
              "      <td>0.800000</td>\n",
              "      <td>1</td>\n",
              "      <td>0.785714</td>\n",
              "      <td>0.460432</td>\n",
              "      <td>0.519231</td>\n",
              "      <td>0.714286</td>\n",
              "      <td>0</td>\n",
              "      <td>0</td>\n",
              "      <td>1</td>\n",
              "      <td>0.408560</td>\n",
              "      <td>1</td>\n",
              "      <td>0</td>\n",
              "      <td>0</td>\n",
              "      <td>1</td>\n",
              "      <td>0</td>\n",
              "      <td>0</td>\n",
              "      <td>0</td>\n",
              "      <td>1</td>\n",
              "      <td>0</td>\n",
              "    </tr>\n",
              "    <tr>\n",
              "      <th>14524</th>\n",
              "      <td>0.628571</td>\n",
              "      <td>1</td>\n",
              "      <td>0.657143</td>\n",
              "      <td>0.496403</td>\n",
              "      <td>0.663462</td>\n",
              "      <td>0.809524</td>\n",
              "      <td>0</td>\n",
              "      <td>0</td>\n",
              "      <td>1</td>\n",
              "      <td>0.496109</td>\n",
              "      <td>1</td>\n",
              "      <td>0</td>\n",
              "      <td>0</td>\n",
              "      <td>1</td>\n",
              "      <td>0</td>\n",
              "      <td>0</td>\n",
              "      <td>0</td>\n",
              "      <td>0</td>\n",
              "      <td>1</td>\n",
              "    </tr>\n",
              "    <tr>\n",
              "      <th>60646</th>\n",
              "      <td>0.800000</td>\n",
              "      <td>2</td>\n",
              "      <td>0.771429</td>\n",
              "      <td>0.410072</td>\n",
              "      <td>0.807692</td>\n",
              "      <td>0.809524</td>\n",
              "      <td>0</td>\n",
              "      <td>0</td>\n",
              "      <td>1</td>\n",
              "      <td>0.369650</td>\n",
              "      <td>1</td>\n",
              "      <td>0</td>\n",
              "      <td>0</td>\n",
              "      <td>1</td>\n",
              "      <td>0</td>\n",
              "      <td>0</td>\n",
              "      <td>0</td>\n",
              "      <td>0</td>\n",
              "      <td>1</td>\n",
              "    </tr>\n",
              "  </tbody>\n",
              "</table>\n",
              "</div>\n",
              "      <button class=\"colab-df-convert\" onclick=\"convertToInteractive('df-724213ea-cd08-4308-91d8-c1aeba343122')\"\n",
              "              title=\"Convert this dataframe to an interactive table.\"\n",
              "              style=\"display:none;\">\n",
              "        \n",
              "  <svg xmlns=\"http://www.w3.org/2000/svg\" height=\"24px\"viewBox=\"0 0 24 24\"\n",
              "       width=\"24px\">\n",
              "    <path d=\"M0 0h24v24H0V0z\" fill=\"none\"/>\n",
              "    <path d=\"M18.56 5.44l.94 2.06.94-2.06 2.06-.94-2.06-.94-.94-2.06-.94 2.06-2.06.94zm-11 1L8.5 8.5l.94-2.06 2.06-.94-2.06-.94L8.5 2.5l-.94 2.06-2.06.94zm10 10l.94 2.06.94-2.06 2.06-.94-2.06-.94-.94-2.06-.94 2.06-2.06.94z\"/><path d=\"M17.41 7.96l-1.37-1.37c-.4-.4-.92-.59-1.43-.59-.52 0-1.04.2-1.43.59L10.3 9.45l-7.72 7.72c-.78.78-.78 2.05 0 2.83L4 21.41c.39.39.9.59 1.41.59.51 0 1.02-.2 1.41-.59l7.78-7.78 2.81-2.81c.8-.78.8-2.07 0-2.86zM5.41 20L4 18.59l7.72-7.72 1.47 1.35L5.41 20z\"/>\n",
              "  </svg>\n",
              "      </button>\n",
              "      \n",
              "  <style>\n",
              "    .colab-df-container {\n",
              "      display:flex;\n",
              "      flex-wrap:wrap;\n",
              "      gap: 12px;\n",
              "    }\n",
              "\n",
              "    .colab-df-convert {\n",
              "      background-color: #E8F0FE;\n",
              "      border: none;\n",
              "      border-radius: 50%;\n",
              "      cursor: pointer;\n",
              "      display: none;\n",
              "      fill: #1967D2;\n",
              "      height: 32px;\n",
              "      padding: 0 0 0 0;\n",
              "      width: 32px;\n",
              "    }\n",
              "\n",
              "    .colab-df-convert:hover {\n",
              "      background-color: #E2EBFA;\n",
              "      box-shadow: 0px 1px 2px rgba(60, 64, 67, 0.3), 0px 1px 3px 1px rgba(60, 64, 67, 0.15);\n",
              "      fill: #174EA6;\n",
              "    }\n",
              "\n",
              "    [theme=dark] .colab-df-convert {\n",
              "      background-color: #3B4455;\n",
              "      fill: #D2E3FC;\n",
              "    }\n",
              "\n",
              "    [theme=dark] .colab-df-convert:hover {\n",
              "      background-color: #434B5C;\n",
              "      box-shadow: 0px 1px 3px 1px rgba(0, 0, 0, 0.15);\n",
              "      filter: drop-shadow(0px 1px 2px rgba(0, 0, 0, 0.3));\n",
              "      fill: #FFFFFF;\n",
              "    }\n",
              "  </style>\n",
              "\n",
              "      <script>\n",
              "        const buttonEl =\n",
              "          document.querySelector('#df-724213ea-cd08-4308-91d8-c1aeba343122 button.colab-df-convert');\n",
              "        buttonEl.style.display =\n",
              "          google.colab.kernel.accessAllowed ? 'block' : 'none';\n",
              "\n",
              "        async function convertToInteractive(key) {\n",
              "          const element = document.querySelector('#df-724213ea-cd08-4308-91d8-c1aeba343122');\n",
              "          const dataTable =\n",
              "            await google.colab.kernel.invokeFunction('convertToInteractive',\n",
              "                                                     [key], {});\n",
              "          if (!dataTable) return;\n",
              "\n",
              "          const docLinkHtml = 'Like what you see? Visit the ' +\n",
              "            '<a target=\"_blank\" href=https://colab.research.google.com/notebooks/data_table.ipynb>data table notebook</a>'\n",
              "            + ' to learn more about interactive tables.';\n",
              "          element.innerHTML = '';\n",
              "          dataTable['output_type'] = 'display_data';\n",
              "          await google.colab.output.renderOutput(dataTable, element);\n",
              "          const docLink = document.createElement('div');\n",
              "          docLink.innerHTML = docLinkHtml;\n",
              "          element.appendChild(docLink);\n",
              "        }\n",
              "      </script>\n",
              "    </div>\n",
              "  </div>\n",
              "  "
            ]
          },
          "metadata": {},
          "execution_count": 50
        }
      ]
    },
    {
      "cell_type": "markdown",
      "source": [
        "<p> We will now create a utility function which plots the confusion matrix, precision matrix and recall matrix.<p>"
      ],
      "metadata": {
        "id": "B3VM0jZg4ijD"
      }
    },
    {
      "cell_type": "code",
      "metadata": {
        "id": "5XfUkZYQHgl7"
      },
      "source": [
        "# Reference: https://appliedaicourse.com/\n",
        "\n",
        "def plot_matrix(test_y, predict_y):\n",
        "    C = confusion_matrix(test_y, predict_y)\n",
        "    \n",
        "    A =(((C.T)/(C.sum(axis=1))).T)\n",
        "    \n",
        "    B =(C/C.sum(axis=0))\n",
        "    plt.figure(figsize=(20,4))\n",
        "    \n",
        "    labels = [0,1]\n",
        "    # representing C in heatmap format\n",
        "    cmap=sns.light_palette(\"blue\")\n",
        "    plt.subplot(1, 3, 1)\n",
        "    sns.heatmap(C, annot=True, cmap=cmap, fmt=\".3f\", xticklabels=labels, yticklabels=labels)\n",
        "    plt.xlabel('Predicted Class')\n",
        "    plt.ylabel('Original Class')\n",
        "    plt.title(\"Confusion matrix\")\n",
        "    \n",
        "    plt.subplot(1, 3, 2)\n",
        "    # representing B in heatmap format\n",
        "    sns.heatmap(B, annot=True, cmap=cmap, fmt=\".3f\", xticklabels=labels, yticklabels=labels)\n",
        "    plt.xlabel('Predicted Class')\n",
        "    plt.ylabel('Original Class')\n",
        "    plt.title(\"Precision matrix\")\n",
        "    print(\"Sum of columns in precision matrix\",B.sum(axis=0))\n",
        "    \n",
        "    plt.subplot(1, 3, 3)\n",
        "    # representing B in heatmap format\n",
        "    sns.heatmap(A, annot=True, cmap=cmap, fmt=\".3f\", xticklabels=labels, yticklabels=labels)\n",
        "    plt.xlabel('Predicted Class')\n",
        "    plt.ylabel('Original Class')\n",
        "    plt.title(\"Recall matrix\")\n",
        "    print(\"Sum of columns in recall matrix\",B.sum(axis=0))\n",
        "    \n",
        "    plt.show()"
      ],
      "execution_count": null,
      "outputs": []
    },
    {
      "cell_type": "markdown",
      "metadata": {
        "id": "XXWA-CNqOQys"
      },
      "source": [
        "<h1>4. Machine Learning Models</h1>"
      ]
    },
    {
      "cell_type": "markdown",
      "metadata": {
        "id": "kSO9RztaOQvw"
      },
      "source": [
        "<h2>4.1. Random Model (Baseline)</h2>"
      ]
    },
    {
      "cell_type": "markdown",
      "metadata": {
        "id": "ohMwbJvJ6kyk"
      },
      "source": [
        "<p style=\"font-size:18px;\"> <b>Q1.</b> What is a random model ?</p>\n",
        "<p style=\"font-size:16px;\"><b>Ans.</b> We want our model to give class probabilities as output. If we use a random model, it will randomly generate any value between 0 and 1 as the class probability.</p>\n"
      ]
    },
    {
      "cell_type": "markdown",
      "metadata": {
        "id": "61PTkZUD7d1H"
      },
      "source": [
        "<p style=\"font-size:18px;\"> <b>Q2.</b> Why are we using a random model for prediction ?</p>\n",
        "<p style=\"font-size:16px;\"><b>Ans.</b> One of the performance metrics for this problem is log loss. Computing the log loss of a random classifier will tell us how badly our own machine learning model is performing. The log loss of a random classifier is the maximum log loss or the worst possible log loss. Any sensible machine learning model should have a log loss greater than equal to 0 and less than the log loss of random classifier. So, we are using a random model as a baseline against which we are going to compare our model performance.</p>\n"
      ]
    },
    {
      "cell_type": "markdown",
      "metadata": {
        "id": "d1fI2MbN859F"
      },
      "source": [
        "<p style=\"font-size:18px;\"> <b>Q3.</b> When do we say that our machine learning model is a good model ?</p>\n",
        "<p style=\"font-size:16px;\"><b>Ans.</b> If the log loss of our machine learning model is much less than the log loss of random classifier then we will say that our machine learning model is a good model.</p>\n"
      ]
    },
    {
      "cell_type": "code",
      "metadata": {
        "scrolled": false,
        "id": "yYfgTfvsbK2L",
        "colab": {
          "base_uri": "https://localhost:8080/",
          "height": 364
        },
        "outputId": "f6440fbe-4b6e-4b4f-d665-7ea8f65696a7"
      },
      "source": [
        "# Reference: https://appliedaicourse.com/\n",
        "\n",
        "# we need to generate 2 numbers and the sum of numbers should be 1\n",
        "# one solution is to genarate 2 numbers and divide each of the numbers by their sum\n",
        "# ref: https://stackoverflow.com/a/18662466/4084039\n",
        "\n",
        "cv_data_len = X_cv.shape[0]\n",
        "\n",
        "# We will create an output array which has exactly same size as the CV data\n",
        "cv_predicted_y = np.zeros((cv_data_len,2))\n",
        "for i in range(cv_data_len):\n",
        "    rand_probs = np.random.rand(1,2)\n",
        "    cv_predicted_y[i] = ((rand_probs/sum(sum(rand_probs)))[0])\n",
        "print(\"Log Loss on Cross Validation Data using Random Model\",log_loss(y_cv,cv_predicted_y, eps=1e-15))\n",
        "\n",
        "\n",
        "#we create a output array that has exactly same as the test data\n",
        "test_data_len = X_test.shape[0]\n",
        "\n",
        "test_predicted_y = np.zeros((test_data_len,2))\n",
        "for i in range(test_data_len):\n",
        "    rand_probs = np.random.rand(1,2)\n",
        "    test_predicted_y[i] = ((rand_probs/sum(sum(rand_probs)))[0])\n",
        "print(\"Log loss on Test Data using Random Model\",log_loss(y_test,test_predicted_y, eps=1e-15))\n",
        "\n",
        "predicted_y =np.argmax(test_predicted_y, axis=1)\n",
        "plot_matrix(y_test, predicted_y)"
      ],
      "execution_count": null,
      "outputs": [
        {
          "output_type": "stream",
          "name": "stdout",
          "text": [
            "Log Loss on Cross Validation Data using Random Model 0.8953926113417563\n",
            "Log loss on Test Data using Random Model 0.8799113276783228\n",
            "Sum of columns in precision matrix [1. 1.]\n",
            "Sum of columns in recall matrix [1. 1.]\n"
          ]
        },
        {
          "output_type": "display_data",
          "data": {
            "text/plain": [
              "<Figure size 1440x288 with 6 Axes>"
            ],
            "image/png": "[encoded data removed]"
          },
          "metadata": {}
        }
      ]
    },
    {
      "cell_type": "markdown",
      "source": [
        "<h3> Observations<h3>\n",
        "\n",
        "*   Our random model has a log loss of 0.88 approximately. This is the worst possible log loss which any sensible machine learning model that we train on this dataset can have. Our model will be considered as a sensible model if and only if it's log loss lies in the range [0 , 0.88).\n",
        "\n",
        "*   Since the distribution of actual class label is similar in train data, cross validate data and test data we can see from the confusion matrix that none of the classes dominate. The random model is equally confusing between the two classes.\n",
        "\n",
        "*   The precision of a random model for each class is very low i.e. 0.5 in \n",
        "comparison to the precision of an ideal model which is 1  for each class.\n",
        "\n",
        "*    The recall of a random model for each class is very low i.e. 0.5 in comparison to the recall of an ideal model which is 1  for each class.\n",
        "\n",
        "\n",
        "\n",
        "\n",
        "\n",
        "\n",
        "\n",
        "\n"
      ],
      "metadata": {
        "id": "yNY55v0lAJ9P"
      }
    },
    {
      "cell_type": "markdown",
      "metadata": {
        "id": "1HagTom7IGUs"
      },
      "source": [
        "<h2>4.2. KNN Model</h2>"
      ]
    },
    {
      "cell_type": "markdown",
      "metadata": {
        "id": "KA2TR_A0LP47"
      },
      "source": [
        "<p style=\"font-size:18px;\"> <b>Q1.</b> Why are we using a KNN model ?</p>\n",
        "<p style=\"font-size:16px;\"><b>Ans.</b> The number of features in our dataset are not very large. KNN model tends to work well when the number of features in our dataset are not very large.</p>\n"
      ]
    },
    {
      "cell_type": "markdown",
      "metadata": {
        "id": "rfj7x07zNWc7"
      },
      "source": [
        "<p style=\"font-size:18px;\"> <b>Q2.</b> Why are we using a calibrated classifier ?</p>\n",
        "<p style=\"font-size:16px;\"><b>Ans.</b> The output of the KNN Classifier may not be class probabilities. If we feed the output of the KNN model as input to the calibrated classifier, the output of the calibrated classifier can be interpreted as class probability. It is important to use a calibrated classifier especially when we have log loss as our performance metric because log loss uses probabilities.</p>\n"
      ]
    },
    {
      "cell_type": "markdown",
      "metadata": {
        "id": "Gbk3bmNeReue"
      },
      "source": [
        "<p style=\"font-size:18px;\"> <b>Q2.</b> How will we choose the best value of our hyperparameter k ?</p>\n",
        "<p style=\"font-size:16px;\"><b>Ans.</b> The value of k for which we get the lowest cross validation error will be the best value of k.</p>\n"
      ]
    },
    {
      "cell_type": "code",
      "source": [
        "# Reference: https://appliedaicourse.com/\n",
        "\n",
        "# In this code alpha stands for k which is a hyperparameter in the KNN model.\n",
        "\n",
        "alpha = [x for x in range(5, 15, 2)] \n",
        "\n",
        "cv_log_error_array=[]\n",
        "for i in alpha:\n",
        "    k_cfl=KNeighborsClassifier(n_neighbors=i)\n",
        "    k_cfl.fit(X_train,y_train)\n",
        "    sig_clf = CalibratedClassifierCV(k_cfl, method=\"sigmoid\")\n",
        "    sig_clf.fit(X_train,y_train)\n",
        "    predict_y = sig_clf.predict_proba(X_cv)                   \n",
        "    cv_log_error_array.append(log_loss(y_cv, predict_y, labels=k_cfl.classes_, eps=1e-15))\n",
        "    \n",
        "for i in range(len(cv_log_error_array)):\n",
        "    print ('log_loss for k = ',alpha[i],'is',cv_log_error_array[i])\n",
        "\n",
        "best_alpha = np.argmin(cv_log_error_array)\n",
        "    \n",
        "fig, ax = plt.subplots()\n",
        "ax.plot(alpha, cv_log_error_array,c='g')\n",
        "for i, txt in enumerate(np.round(cv_log_error_array,3)):\n",
        "    ax.annotate((alpha[i],np.round(txt,3)), (alpha[i],cv_log_error_array[i]))\n",
        "plt.grid()\n",
        "plt.title(\"Cross Validation Error for each alpha\")\n",
        "plt.xlabel(\"Alpha i's\")\n",
        "plt.ylabel(\"Error measure\")\n",
        "plt.show()\n",
        "\n",
        "\n",
        "# Retraining the KNN model with the best value of alpha (k)\n",
        "k_cfl=KNeighborsClassifier(n_neighbors=alpha[best_alpha])\n",
        "k_cfl.fit(X_train,y_train)\n",
        "sig_clf = CalibratedClassifierCV(k_cfl, method=\"sigmoid\")\n",
        "sig_clf.fit(X_train, y_train)   \n",
        "\n",
        "\n",
        "# Calculate training error\n",
        "predict_y = sig_clf.predict_proba(X_train)\n",
        "print ('For values of best alpha = ', alpha[best_alpha], \"The train log loss is:\",log_loss(y_train, predict_y))\n",
        "\n",
        "# Calculate cross validation error\n",
        "predict_y = sig_clf.predict_proba(X_cv)\n",
        "print('For values of best alpha = ', alpha[best_alpha], \"The cross validation log loss is:\",log_loss(y_cv, predict_y))\n",
        "\n",
        "# Calculate the test error\n",
        "predict_y = sig_clf.predict_proba(X_test)\n",
        "print('For values of best alpha = ', alpha[best_alpha], \"The test log loss is:\",log_loss(y_test, predict_y))\n",
        "\n",
        "# Calculate the percentage of misclassified points\n",
        "print(\"Number of missclassified point :\", np.count_nonzero((sig_clf.predict(X_test)- y_test))/y_test.shape[0])\n",
        "\n",
        "# Plot the confusion matrix, precision matrix and recall matrix.\n",
        "plot_matrix(y_test, sig_clf.predict(X_test))"
      ],
      "metadata": {
        "colab": {
          "base_uri": "https://localhost:8080/",
          "height": 764
        },
        "id": "19OPjUd4-QkE",
        "outputId": "de5681ba-8fc1-459b-82dd-c559da97d5d6"
      },
      "execution_count": null,
      "outputs": [
        {
          "output_type": "stream",
          "name": "stdout",
          "text": [
            "log_loss for k =  5 is 0.5926688733042005\n",
            "log_loss for k =  7 is 0.5835257558597482\n",
            "log_loss for k =  9 is 0.5784505214731447\n",
            "log_loss for k =  11 is 0.5741141227205713\n",
            "log_loss for k =  13 is 0.5707362266134336\n"
          ]
        },
        {
          "output_type": "display_data",
          "data": {
            "text/plain": [
              "<Figure size 432x288 with 1 Axes>"
            ],
            "image/png": "[encoded data removed]"
          },
          "metadata": {}
        },
        {
          "output_type": "stream",
          "name": "stdout",
          "text": [
            "For values of best alpha =  13 The train log loss is: 0.522506987868308\n",
            "For values of best alpha =  13 The cross validation log loss is: 0.5707362266134336\n",
            "For values of best alpha =  13 The test log loss is: 0.5685733151698885\n",
            "Number of missclassified point : 0.2783941605839416\n",
            "Sum of columns in precision matrix [1. 1.]\n",
            "Sum of columns in recall matrix [1. 1.]\n"
          ]
        },
        {
          "output_type": "display_data",
          "data": {
            "text/plain": [
              "<Figure size 1440x288 with 6 Axes>"
            ],
            "image/png": "[encoded data removed]"
          },
          "metadata": {}
        }
      ]
    },
    {
      "cell_type": "markdown",
      "source": [
        "<h2> Observations</h2>\n",
        "\n",
        "*  Since the cross validation error and the test error of KNN model is much less than that of random model, this means that the KNN model is performing much better than the random model.\n",
        "\n",
        "*   Since the train error and the cross validation error of the KNN model are not very different from each other, this means that the KNN model is not overfitting.\n",
        "\n",
        "*   The precision of KNN model for class 1 is 72.5% and the precision for class 0 is 71.9% .\n",
        "\n",
        "*  The recall of KNN model for class 1 is 70.4% and the recall of KNN model for class 0 is 73.9% .\n",
        "\n",
        "\n",
        "\n",
        "\n",
        "\n"
      ],
      "metadata": {
        "id": "vw0mKxN_gaxe"
      }
    },
    {
      "cell_type": "markdown",
      "metadata": {
        "id": "0ZG7DI_G_sYy"
      },
      "source": [
        "<h2>4.3. Logistic Regression</h2>"
      ]
    },
    {
      "cell_type": "markdown",
      "metadata": {
        "id": "wJNNKXKgM_8G"
      },
      "source": [
        "<p style=\"font-size:18px;\"> <b>Q1.</b> Why are we using a Logistic Regression model ?</p>\n",
        "<p style=\"font-size:16px;\"><b>Ans.</b>  Logistic Regression model tends to work well when the number of features in the dataset are not very large. When the dimensionality of our data is small, we can train the logistic regression model very quickly. </p>\n"
      ]
    },
    {
      "cell_type": "markdown",
      "metadata": {
        "id": "IhkHRB81ND7y"
      },
      "source": [
        "<p style=\"font-size:18px;\"> <b>Q2.</b> Why are we using a calibrated classifier ?</p>\n",
        "<p style=\"font-size:16px;\"><b>Ans.</b> When we have log loss as our performance metric then it is extremely important to train a calibrated classifier on top of our trained base model. The output of a calibrated classifier can be interpreted as class probability.</p>\n"
      ]
    },
    {
      "cell_type": "markdown",
      "metadata": {
        "id": "jyV7G0WvNG5S"
      },
      "source": [
        "<p style=\"font-size:18px;\"> <b>Q2.</b> How will we choose the best value of our hyperparameter C ?</p>\n",
        "<p style=\"font-size:16px;\"><b>Ans.</b> The value of C for which we get the lowest cross validation error will be the best value of C.</p>\n"
      ]
    },
    {
      "cell_type": "code",
      "metadata": {
        "scrolled": false,
        "id": "iETzW7stbK2V",
        "colab": {
          "base_uri": "https://localhost:8080/",
          "height": 799
        },
        "outputId": "79554af0-a81e-43c5-d51e-74578c384847"
      },
      "source": [
        "# Reference: https://appliedaicourse.com/\n",
        "\n",
        "# In this code alpha stands for C which is the hyperparameter in the Logistic Regression model.\n",
        "\n",
        "alpha = [10 ** x for x in range(-3, 4)]\n",
        "\n",
        "cv_log_error_array=[]\n",
        "for i in alpha:\n",
        "    logisticR=LogisticRegression(penalty='l2',C=i,class_weight='balanced',solver='liblinear')\n",
        "    logisticR.fit(X_train,y_train)\n",
        "    sig_clf = CalibratedClassifierCV(logisticR, method=\"sigmoid\")\n",
        "    sig_clf.fit(X_train, y_train)\n",
        "    predict_y = sig_clf.predict_proba(X_cv)\n",
        "    cv_log_error_array.append(log_loss(y_cv, predict_y, labels=logisticR.classes_, eps=1e-15))\n",
        "    \n",
        "for i in range(len(cv_log_error_array)):\n",
        "    print ('log_loss for c = ',alpha[i],'is',cv_log_error_array[i])\n",
        "\n",
        "best_alpha = np.argmin(cv_log_error_array)\n",
        "    \n",
        "fig, ax = plt.subplots()\n",
        "ax.plot(alpha, cv_log_error_array,c='g')\n",
        "for i, txt in enumerate(np.round(cv_log_error_array,3)):\n",
        "    ax.annotate((alpha[i],np.round(txt,3)), (alpha[i],cv_log_error_array[i]))\n",
        "plt.grid()\n",
        "plt.title(\"Cross Validation Error for each alpha\")\n",
        "plt.xlabel(\"Alpha i's\")\n",
        "plt.ylabel(\"Error measure\")\n",
        "plt.show()\n",
        "\n",
        "# Retraining the model on best value of alpha (C)\n",
        "logisticR=LogisticRegression(penalty='l2',C=alpha[best_alpha],class_weight='balanced',solver='liblinear')\n",
        "logisticR.fit(X_train,y_train)\n",
        "sig_clf = CalibratedClassifierCV(logisticR, method=\"sigmoid\")\n",
        "sig_clf.fit(X_train, y_train)\n",
        "pred_y=sig_clf.predict(X_test)\n",
        "\n",
        "# Calculate training error\n",
        "predict_y = sig_clf.predict_proba(X_train)\n",
        "print ('For values of best alpha = ', alpha[best_alpha], 'The train log loss is:',log_loss(y_train, predict_y, labels=logisticR.classes_, eps=1e-15))\n",
        "\n",
        "# Calculate cross validation error\n",
        "predict_y = sig_clf.predict_proba(X_cv)\n",
        "print ('For values of best alpha = ', alpha[best_alpha], 'The cross validation log loss is:',log_loss(y_cv, predict_y, labels=logisticR.classes_, eps=1e-15))\n",
        "predict_y = sig_clf.predict_proba(X_test)\n",
        "\n",
        "# Calculate the test error\n",
        "print ('For values of best alpha = ', alpha[best_alpha], 'The test log loss is:',log_loss(y_test, predict_y, labels=logisticR.classes_, eps=1e-15))\n",
        "\n",
        "# Calculate the percentage of misclassified points\n",
        "print(\"Number of missclassified point :\", np.count_nonzero((sig_clf.predict(X_test)- y_test))/y_test.shape[0])\n",
        "\n",
        "# Plot the confusion matrix, precision matrix and recall matrix.\n",
        "plot_matrix(y_test, sig_clf.predict(X_test))"
      ],
      "execution_count": null,
      "outputs": [
        {
          "output_type": "stream",
          "name": "stdout",
          "text": [
            "log_loss for c =  0.001 is 0.5778183586072976\n",
            "log_loss for c =  0.01 is 0.5704229386603736\n",
            "log_loss for c =  0.1 is 0.5639863067449712\n",
            "log_loss for c =  1 is 0.5605713461418732\n",
            "log_loss for c =  10 is 0.5602278021087085\n",
            "log_loss for c =  100 is 0.5602019494960625\n",
            "log_loss for c =  1000 is 0.5601973854410619\n"
          ]
        },
        {
          "output_type": "display_data",
          "data": {
            "text/plain": [
              "<Figure size 432x288 with 1 Axes>"
            ],
            "image/png": "[encoded data removed]"
          },
          "metadata": {}
        },
        {
          "output_type": "stream",
          "name": "stdout",
          "text": [
            "For values of best alpha =  1000 The train log loss is: 0.5561569388184688\n",
            "For values of best alpha =  1000 The cross validation log loss is: 0.5601973854410619\n",
            "For values of best alpha =  1000 The test log loss is: 0.5561659742675735\n",
            "Number of missclassified point : 0.27226277372262775\n",
            "Sum of columns in precision matrix [1. 1.]\n",
            "Sum of columns in recall matrix [1. 1.]\n"
          ]
        },
        {
          "output_type": "display_data",
          "data": {
            "text/plain": [
              "<Figure size 1440x288 with 6 Axes>"
            ],
            "image/png": "[encoded data removed]"
          },
          "metadata": {}
        }
      ]
    },
    {
      "cell_type": "markdown",
      "source": [
        "<h2> Observations</h2>\n",
        "\n",
        "*  Since the cross validation error and the test error of Logistic Regression  model is much less than that of random model, this means that the Logistic Regression model is performing much better than the random model.\n",
        "\n",
        "*   Since the train error and the test error of the Logistic Regression model are not very different from each other, this means that the Logistic Regression model is not overfitting.\n",
        "\n",
        "*   The precision of Logistic Regression model for class 1 is 75.3% and the precision for class 0 is 70.8% .\n",
        "\n",
        "*  The recall of Logistic Regression model for class 1 is 66.9% and the recall of Logistic Regression model for class 0 is 78.6% . \n",
        "\n",
        "\n",
        "\n",
        "\n",
        "\n",
        "\n",
        "\n",
        "\n",
        "\n"
      ],
      "metadata": {
        "id": "2U6Zcvj6E-p_"
      }
    },
    {
      "cell_type": "markdown",
      "source": [
        "<h3>4.3.1. Feature importance from Logistic Regression Model</h3>"
      ],
      "metadata": {
        "id": "gMKGaS-PXa3X"
      }
    },
    {
      "cell_type": "markdown",
      "source": [
        "<p style=\"font-size:18px;\"> <b>Q1.</b> How do we get feature importance from Logistic Regression model ?</p>\n",
        "<p style=\"font-size:16px;\"><b>Ans.</b> If the weight in the weight vector corresponding to a particular feature is largely negative or largely positive then it means that the feature is an important feature. </p>\n"
      ],
      "metadata": {
        "id": "E9WHzXYKmeWt"
      }
    },
    {
      "cell_type": "code",
      "source": [
        "# Reference: https://stackoverflow.com/questions/54832246/how-to-get-the-feature-weight-if-we-use-calibrated-cv-for-linear-kernal-on-sgd-c\n",
        "\n",
        "most_imp_features=logisticR.coef_\n",
        "print(most_imp_features)"
      ],
      "metadata": {
        "id": "ZMzrXpp_XtoG",
        "colab": {
          "base_uri": "https://localhost:8080/"
        },
        "outputId": "7817bbdb-9e6f-4c2d-9f07-2b88304b8b1c"
      },
      "execution_count": null,
      "outputs": [
        {
          "output_type": "stream",
          "name": "stdout",
          "text": [
            "[[ 1.74738091e+00  5.57296247e-03 -1.03028424e-01  1.27323646e+00\n",
            "   7.70048953e+00  2.02929809e+00 -2.11218393e-01 -2.20944320e-01\n",
            "  -2.45618471e-01  1.88514083e-01 -1.65161548e+00 -1.26909195e+00\n",
            "  -5.87059494e-01 -1.06770681e+00 -1.03973791e+00 -1.40032220e+00\n",
            "  -1.38554192e+00 -1.40391580e+00 -7.18309207e-01]]\n"
          ]
        }
      ]
    },
    {
      "cell_type": "markdown",
      "metadata": {
        "id": "k-CImz--K8q0"
      },
      "source": [
        "<h2>4.4. Random Forest Classifier</h2>"
      ]
    },
    {
      "cell_type": "markdown",
      "metadata": {
        "id": "yxkj6y5SQXIc"
      },
      "source": [
        "<p style=\"font-size:18px;\"> <b>Q1.</b> Why are we using a Random Forest Classifier ?</p>\n",
        "<p style=\"font-size:16px;\"><b>Ans.</b> Random Forests tends to work very well when the number of features in the dataset are not very large. They work well when we have those categorical variables which do not take up a lot of categories.</p>\n"
      ]
    },
    {
      "cell_type": "markdown",
      "metadata": {
        "id": "ouc8jjiRQhla"
      },
      "source": [
        "<p style=\"font-size:18px;\"> <b>Q2.</b> Why are we using a calibrated classifier ?</p>\n",
        "<p style=\"font-size:16px;\"><b>Ans.</b> When we have log loss as our performance metric then it is extremely important to train a calibrated classifier on top of our trained base model.The output of a calibrated classifier can be interpreted as class probability.</p>\n"
      ]
    },
    {
      "cell_type": "markdown",
      "metadata": {
        "id": "VuVANMH7QsqJ"
      },
      "source": [
        "<p style=\"font-size:18px;\"> <b>Q2.</b> How will we choose the best value of our hyperparameter n_estimators ?</p>\n",
        "<p style=\"font-size:16px;\"><b>Ans.</b> The value of n_estimators for which we get the lowest cross validation error will be the best value of n_estimators.</p>\n"
      ]
    },
    {
      "cell_type": "code",
      "metadata": {
        "scrolled": false,
        "id": "xuZmPOKLbK2d",
        "colab": {
          "base_uri": "https://localhost:8080/",
          "height": 799
        },
        "outputId": "a59b7ddb-3c61-473f-f78c-f3c7109baca1"
      },
      "source": [
        "# Reference: https://appliedaicourse.com/\n",
        "\n",
        "# In this code alpha stands for n_estimators which is the hyperparameter in the Random Forest model.\n",
        "\n",
        "alpha=[10,50,100,500,1000,2000,3000]\n",
        "cv_log_error_array=[]\n",
        "train_log_error_array=[]\n",
        "\n",
        "for i in alpha:\n",
        "    r_cfl=RandomForestClassifier(n_estimators=i,random_state=42,n_jobs=-1)\n",
        "    r_cfl.fit(X_train,y_train)\n",
        "    sig_clf = CalibratedClassifierCV(r_cfl, method=\"sigmoid\")\n",
        "    sig_clf.fit(X_train, y_train)\n",
        "    predict_y = sig_clf.predict_proba(X_cv)\n",
        "    cv_log_error_array.append(log_loss(y_cv, predict_y, labels=r_cfl.classes_, eps=1e-15))\n",
        "\n",
        "for i in range(len(cv_log_error_array)):\n",
        "    print ('log_loss for c = ',alpha[i],'is',cv_log_error_array[i])\n",
        "\n",
        "\n",
        "best_alpha = np.argmin(cv_log_error_array)\n",
        "\n",
        "fig, ax = plt.subplots()\n",
        "ax.plot(alpha, cv_log_error_array,c='g')\n",
        "for i, txt in enumerate(np.round(cv_log_error_array,3)):\n",
        "    ax.annotate((alpha[i],np.round(txt,3)), (alpha[i],cv_log_error_array[i]))\n",
        "plt.grid()\n",
        "plt.title(\"Cross Validation Error for each alpha\")\n",
        "plt.xlabel(\"Alpha i's\")\n",
        "plt.ylabel(\"Error measure\")\n",
        "plt.show()\n",
        "\n",
        "# Retraining the model on best value of alpha (n_estimators)\n",
        "r_cfl=RandomForestClassifier(n_estimators=alpha[best_alpha],random_state=42,n_jobs=-1)\n",
        "r_cfl.fit(X_train,y_train)\n",
        "sig_clf = CalibratedClassifierCV(r_cfl, method=\"sigmoid\")\n",
        "sig_clf.fit(X_train, y_train)\n",
        "\n",
        "# Calculate training error\n",
        "predict_y = sig_clf.predict_proba(X_train)\n",
        "print('For values of best alpha = ', alpha[best_alpha], \"The train log loss is:\",log_loss(y_train, predict_y))\n",
        "\n",
        "# Calculate cross validation error\n",
        "predict_y = sig_clf.predict_proba(X_cv)\n",
        "print('For values of best alpha = ', alpha[best_alpha], \"The cross validation log loss is:\",log_loss(y_cv, predict_y))\n",
        "\n",
        "# Calculate test error\n",
        "predict_y = sig_clf.predict_proba(X_test)\n",
        "print('For values of best alpha = ', alpha[best_alpha], \"The test log loss is:\",log_loss(y_test, predict_y))\n",
        "\n",
        "# Calculate the percentage of misclassified points\n",
        "print(\"Number of missclassified point :\", np.count_nonzero((sig_clf.predict(X_test)- y_test))/y_test.shape[0])\n",
        "\n",
        "# Plot the confusion matrix, precision matrix and recall matrix.\n",
        "plot_matrix(y_test, sig_clf.predict(X_test))"
      ],
      "execution_count": null,
      "outputs": [
        {
          "output_type": "stream",
          "name": "stdout",
          "text": [
            "log_loss for c =  10 is 0.5820930371376373\n",
            "log_loss for c =  50 is 0.575811329254393\n",
            "log_loss for c =  100 is 0.5749613487937564\n",
            "log_loss for c =  500 is 0.5741579857988397\n",
            "log_loss for c =  1000 is 0.5740273870558072\n",
            "log_loss for c =  2000 is 0.5738744271232451\n",
            "log_loss for c =  3000 is 0.5738970962915321\n"
          ]
        },
        {
          "output_type": "display_data",
          "data": {
            "text/plain": [
              "<Figure size 432x288 with 1 Axes>"
            ],
            "image/png": "[encoded data removed]"
          },
          "metadata": {}
        },
        {
          "output_type": "stream",
          "name": "stdout",
          "text": [
            "For values of best alpha =  2000 The train log loss is: 0.30895429003262226\n",
            "For values of best alpha =  2000 The cross validation log loss is: 0.5738744271232451\n",
            "For values of best alpha =  2000 The test log loss is: 0.5720059255150151\n",
            "Number of missclassified point : 0.2865693430656934\n",
            "Sum of columns in precision matrix [1. 1.]\n",
            "Sum of columns in recall matrix [1. 1.]\n"
          ]
        },
        {
          "output_type": "display_data",
          "data": {
            "text/plain": [
              "<Figure size 1440x288 with 6 Axes>"
            ],
            "image/png": "[encoded data removed]"
          },
          "metadata": {}
        }
      ]
    },
    {
      "cell_type": "markdown",
      "source": [
        "<h2> Observations</h2>\n",
        "\n",
        "*  Since the cross validation error and the test error of Random Forest Classifier  is much less than that of Random model, this means that the Random Forest Classifier is performing much better than the random model.\n",
        "\n",
        "*   Since the train error and the test error of the Random Forest Classifier are different from each other, this means that the Random Forest Classifier  is slightly overfitting. But that is not a problem because overall Random Forests reduce variance.\n",
        "\n",
        "*   The precision of Random Forest Classifier for class 1 is 71.8% and the precision for class 0 is 71.0% .\n",
        "\n",
        "*  The recall of Random Forest Classifier for class 1 is 69.3% and the recall of Random Forest Classifier for class 0 is 73.3% . \n",
        "\n",
        "\n",
        "\n",
        "\n",
        "\n",
        "\n",
        "\n",
        "\n",
        "\n"
      ],
      "metadata": {
        "id": "GzSqy_kkbnHD"
      }
    },
    {
      "cell_type": "markdown",
      "source": [
        "<h3>4.4.1. Feature importance from Random Forest Model</h3>"
      ],
      "metadata": {
        "id": "T05zQfApYZ3q"
      }
    },
    {
      "cell_type": "markdown",
      "source": [
        "<p>We can obtain the feature importance from the Random Forest Model very easily.<p>"
      ],
      "metadata": {
        "id": "2LM9xeRHUT5F"
      }
    },
    {
      "cell_type": "code",
      "source": [
        "# Reference: https://appliedaicourse.com/\n",
        "\n",
        "features = X_train.columns\n",
        "importances = r_cfl.feature_importances_\n",
        "indices = (np.argsort(importances))[-25:]\n",
        "plt.figure(figsize=(10,12))\n",
        "plt.title('Feature Importances')\n",
        "plt.barh(range(len(indices)), importances[indices], color='r', align='center')\n",
        "plt.yticks(range(len(indices)), [features[i] for i in indices])\n",
        "plt.xlabel('Relative Importance')\n",
        "plt.show()"
      ],
      "metadata": {
        "id": "ALVsYjWGY8kT",
        "colab": {
          "base_uri": "https://localhost:8080/",
          "height": 730
        },
        "outputId": "8cb16ff6-af77-4340-bc0c-f90a1677fc6a"
      },
      "execution_count": null,
      "outputs": [
        {
          "output_type": "display_data",
          "data": {
            "text/plain": [
              "<Figure size 720x864 with 1 Axes>"
            ],
            "image/png": "[encoded data removed]"
          },
          "metadata": {}
        }
      ]
    },
    {
      "cell_type": "markdown",
      "source": [
        "<h2> Observations on Feature Importance</h2>\n",
        "\n",
        "<p> According to Random Forest model, bmi is the most important feature in predicting whether a patient has heart disease or not followed age, weight and height."
      ],
      "metadata": {
        "id": "decyBunjmyQc"
      }
    },
    {
      "cell_type": "markdown",
      "metadata": {
        "id": "h9PboPsfcmg-"
      },
      "source": [
        "<h2>4.5. XGboost Classifier</h2>"
      ]
    },
    {
      "cell_type": "markdown",
      "metadata": {
        "id": "aQxQl-mFde4e"
      },
      "source": [
        "<p style=\"font-size:18px;\"> <b>Q1.</b> Why are we using a XGBoost Classifier ?</p>\n",
        "<p style=\"font-size:16px;\"><b>Ans.</b> XGboost Classifier tends to work very well when the number of observations in the training data are large and when the number of features in the dataset are less than the number of observations in the training data It performs very well when our dataset contains both categorical and numerical features.</p>\n",
        "\n",
        "\n"
      ]
    },
    {
      "cell_type": "markdown",
      "metadata": {
        "id": "Lp7I139xdwyc"
      },
      "source": [
        "<p style=\"font-size:18px;\"> <b>Q2.</b> Why are we using a calibrated classifier ?</p>\n",
        "<p style=\"font-size:16px;\"><b>Ans.</b> When we have log loss as our performance metric then it is extremely important to train a calibrated classifier on top of our trained base model.The output of a calibrated classifier can be interpreted as class probability.</p>\n"
      ]
    },
    {
      "cell_type": "markdown",
      "metadata": {
        "id": "Xc3o_LMPd1JG"
      },
      "source": [
        "<p style=\"font-size:18px;\"> <b>Q2.</b> How will we choose the best value of our hyperparameter n_estimators ?</p>\n",
        "<p style=\"font-size:16px;\"><b>Ans.</b> The value of n_estimators for which we get the lowest cross validation error will be the best value of n_estimators.</p>\n"
      ]
    },
    {
      "cell_type": "code",
      "metadata": {
        "scrolled": false,
        "id": "rWufRH6jbK2h",
        "colab": {
          "base_uri": "https://localhost:8080/",
          "height": 781
        },
        "outputId": "6d116eab-5ecb-4ec8-fbd3-c093dbb3b1ce"
      },
      "source": [
        "# Reference: https://appliedaicourse.com/\n",
        "\n",
        "# In this code alpha stands for n_estimators which is the hyperparameter in XGBoost model.\n",
        "\n",
        "alpha=[10,50,100,500,1000,2000]\n",
        "cv_log_error_array=[]\n",
        "for i in alpha:\n",
        "    x_cfl=XGBClassifier(n_estimators=i,nthread=-1,tree_method=\"gpu_hist\")\n",
        "    x_cfl.fit(X_train,y_train)\n",
        "    sig_clf = CalibratedClassifierCV(x_cfl, method=\"sigmoid\")\n",
        "    sig_clf.fit(X_train, y_train)\n",
        "    predict_y = sig_clf.predict_proba(X_cv)\n",
        "    cv_log_error_array.append(log_loss(y_cv, predict_y, labels=x_cfl.classes_, eps=1e-15))\n",
        "\n",
        "for i in range(len(cv_log_error_array)):\n",
        "    print ('log_loss for c = ',alpha[i],'is',cv_log_error_array[i])\n",
        "\n",
        "\n",
        "best_alpha = np.argmin(cv_log_error_array)\n",
        "\n",
        "fig, ax = plt.subplots()\n",
        "ax.plot(alpha, cv_log_error_array,c='g')\n",
        "for i, txt in enumerate(np.round(cv_log_error_array,3)):\n",
        "    ax.annotate((alpha[i],np.round(txt,3)), (alpha[i],cv_log_error_array[i]))\n",
        "plt.grid()\n",
        "plt.title(\"Cross Validation Error for each alpha\")\n",
        "plt.xlabel(\"Alpha i's\")\n",
        "plt.ylabel(\"Error measure\")\n",
        "plt.show()\n",
        "\n",
        "# Retraining the model on best value of alpha (n_estimators)\n",
        "x_cfl=XGBClassifier(n_estimators=alpha[best_alpha],nthread=-1)\n",
        "x_cfl.fit(X_train,y_train)\n",
        "sig_clf = CalibratedClassifierCV(x_cfl, method=\"sigmoid\")\n",
        "sig_clf.fit(X_train, y_train)\n",
        "\n",
        "# Calculate training error\n",
        "predict_y = sig_clf.predict_proba(X_train)\n",
        "print ('For values of best alpha = ', alpha[best_alpha], \"The train log loss is:\",log_loss(y_train, predict_y))\n",
        "\n",
        "# Calculate cross validation error\n",
        "predict_y = sig_clf.predict_proba(X_cv)\n",
        "print('For values of best alpha = ', alpha[best_alpha], \"The cross validation log loss is:\",log_loss(y_cv, predict_y))\n",
        "\n",
        "# Calculate the test error\n",
        "predict_y = sig_clf.predict_proba(X_test)\n",
        "print('For values of best alpha = ', alpha[best_alpha], \"The test log loss is:\",log_loss(y_test, predict_y))\n",
        "\n",
        "# Calculate the percentage of misclassified points\n",
        "print(\"Number of missclassified point :\", np.count_nonzero((sig_clf.predict(X_test)- y_test))/y_test.shape[0])\n",
        "\n",
        "# Plot the confusion matrix, precision matrix and recall matrix.\n",
        "plot_matrix(y_test, sig_clf.predict(X_test))"
      ],
      "execution_count": null,
      "outputs": [
        {
          "output_type": "stream",
          "name": "stdout",
          "text": [
            "log_loss for c =  10 is 0.5537263146161117\n",
            "log_loss for c =  50 is 0.5481743648868398\n",
            "log_loss for c =  100 is 0.547573624289587\n",
            "log_loss for c =  500 is 0.5485446918024542\n",
            "log_loss for c =  1000 is 0.550042512356982\n",
            "log_loss for c =  2000 is 0.551974548660246\n"
          ]
        },
        {
          "output_type": "display_data",
          "data": {
            "text/plain": [
              "<Figure size 432x288 with 1 Axes>"
            ],
            "image/png": "[encoded data removed]"
          },
          "metadata": {}
        },
        {
          "output_type": "stream",
          "name": "stdout",
          "text": [
            "For values of best alpha =  100 The train log loss is: 0.5364310179058611\n",
            "For values of best alpha =  100 The cross validation log loss is: 0.5475172190877672\n",
            "For values of best alpha =  100 The test log loss is: 0.5421740027558314\n",
            "Number of missclassified point : 0.2678832116788321\n",
            "Sum of columns in precision matrix [1. 1.]\n",
            "Sum of columns in recall matrix [1. 1.]\n"
          ]
        },
        {
          "output_type": "display_data",
          "data": {
            "text/plain": [
              "<Figure size 1440x288 with 6 Axes>"
            ],
            "image/png": "[encoded data removed]"
          },
          "metadata": {}
        }
      ]
    },
    {
      "cell_type": "markdown",
      "source": [
        "<h2> Observations<h2>\n",
        "\n",
        "*   Since the cross validation error and the test error of XGBoost model is much less than that of the random model, this means that the XGBoost model is performing much better than the random model.\n",
        "*   Since the train error and the test error of the XGBoost model are not very different from each other, this means that the XGBoost model is not overfitting.\n",
        "*   The precision of XGBoost model for class 1 is 74.8% and the precision for class 0 is 71.9%.\n",
        "*  The recall of XGBoost model for class 1 is 69.1% and the recall of XGBoost model for class 0 is 77.3% . \n",
        "\n",
        "\n",
        "\n",
        "\n",
        "\n",
        "\n",
        "\n",
        "\n",
        "\n",
        "\n",
        "\n",
        "\n"
      ],
      "metadata": {
        "id": "zWED963wd4yW"
      }
    },
    {
      "cell_type": "markdown",
      "source": [
        "<h3>4.5.1. Hyperparamter tuning of xgboost using random search</h3>\n",
        "\n",
        "\n"
      ],
      "metadata": {
        "id": "D664SC0-W3j5"
      }
    },
    {
      "cell_type": "code",
      "source": [
        "# Reference: https://appliedaicourse.com/\n",
        "\n",
        "params={\n",
        "    'learning_rate':[0.01,0.03,0.05,0.1,0.15,0.2],\n",
        "     'n_estimators':[100,200,500,1000,2000],\n",
        "     'max_depth':[3,5,10],\n",
        "    'colsample_bytree':[0.1,0.3,0.5,1],\n",
        "    'subsample':[0.1,0.3,0.5,1]\n",
        "}\n",
        "\n",
        "clf = XGBClassifier(tree_method=\"gpu_hist\")\n",
        "RSxgb_clf = RandomizedSearchCV(clf, params, verbose=10,n_jobs=-1)\n",
        "RSxgb_clf.fit(X_train, y_train)\n"
      ],
      "metadata": {
        "id": "3TSB1z1rWlI8",
        "colab": {
          "base_uri": "https://localhost:8080/"
        },
        "outputId": "a5ad1e6e-a836-4b7c-a0b9-528a232e6a26"
      },
      "execution_count": null,
      "outputs": [
        {
          "output_type": "stream",
          "name": "stdout",
          "text": [
            "Fitting 5 folds for each of 10 candidates, totalling 50 fits\n"
          ]
        },
        {
          "output_type": "stream",
          "name": "stderr",
          "text": [
            "[Parallel(n_jobs=-1)]: Using backend LokyBackend with 12 concurrent workers.\n",
            "[Parallel(n_jobs=-1)]: Done   1 tasks      | elapsed:   43.0s\n",
            "[Parallel(n_jobs=-1)]: Done   8 tasks      | elapsed:  1.1min\n",
            "[Parallel(n_jobs=-1)]: Done  17 tasks      | elapsed:  2.1min\n",
            "[Parallel(n_jobs=-1)]: Done  26 tasks      | elapsed:  3.2min\n",
            "[Parallel(n_jobs=-1)]: Done  33 out of  50 | elapsed:  4.2min remaining:  2.1min\n",
            "[Parallel(n_jobs=-1)]: Done  39 out of  50 | elapsed:  5.3min remaining:  1.5min\n",
            "[Parallel(n_jobs=-1)]: Done  45 out of  50 | elapsed: 11.6min remaining:  1.3min\n",
            "[Parallel(n_jobs=-1)]: Done  50 out of  50 | elapsed: 14.7min finished\n"
          ]
        },
        {
          "output_type": "execute_result",
          "data": {
            "text/plain": [
              "RandomizedSearchCV(estimator=XGBClassifier(tree_method='gpu_hist'), n_jobs=-1,\n",
              "                   param_distributions={'colsample_bytree': [0.1, 0.3, 0.5, 1],\n",
              "                                        'learning_rate': [0.01, 0.03, 0.05, 0.1,\n",
              "                                                          0.15, 0.2],\n",
              "                                        'max_depth': [3, 5, 10],\n",
              "                                        'n_estimators': [100, 200, 500, 1000,\n",
              "                                                         2000],\n",
              "                                        'subsample': [0.1, 0.3, 0.5, 1]},\n",
              "                   verbose=10)"
            ]
          },
          "metadata": {},
          "execution_count": 61
        }
      ]
    },
    {
      "cell_type": "code",
      "source": [
        "RSxgb_clf.best_params_"
      ],
      "metadata": {
        "id": "x58fSIXvWn7q",
        "colab": {
          "base_uri": "https://localhost:8080/"
        },
        "outputId": "02e4572e-d312-4f8c-e117-778475b5d297"
      },
      "execution_count": null,
      "outputs": [
        {
          "output_type": "execute_result",
          "data": {
            "text/plain": [
              "{'subsample': 1,\n",
              " 'n_estimators': 200,\n",
              " 'max_depth': 3,\n",
              " 'learning_rate': 0.15,\n",
              " 'colsample_bytree': 1}"
            ]
          },
          "metadata": {},
          "execution_count": 62
        }
      ]
    },
    {
      "cell_type": "code",
      "source": [
        "best_model_xgb = XGBClassifier(subsample=1,n_estimators=200,max_depth=3,learning_rate=0.15,colsample_bytree=1,tree_method=\"gpu_hist\")\n",
        "best_model_xgb.fit(X_train, y_train)\n",
        "\n",
        "sig_clf = CalibratedClassifierCV(best_model_xgb, method=\"sigmoid\")\n",
        "sig_clf.fit(X_train, y_train)\n",
        "\n",
        "# Calculate the training error\n",
        "predict_y = sig_clf.predict_proba(X_train)\n",
        "print ('train loss',log_loss(y_train, predict_y))\n",
        "\n",
        "# Calculate the cross validation error\n",
        "predict_y = sig_clf.predict_proba(X_cv)\n",
        "print ('cv loss',log_loss(y_cv, predict_y))\n",
        "\n",
        "# Calculate the test error\n",
        "predict_y = sig_clf.predict_proba(X_test)\n",
        "print ('test loss',log_loss(y_test, predict_y))\n"
      ],
      "metadata": {
        "id": "ebSvYFToWqf4",
        "colab": {
          "base_uri": "https://localhost:8080/"
        },
        "outputId": "9ca8101b-0562-4d28-c3ce-27e6d7486e4d"
      },
      "execution_count": null,
      "outputs": [
        {
          "output_type": "stream",
          "name": "stdout",
          "text": [
            "train loss 0.5298095294373889\n",
            "cv loss 0.5477452497999381\n",
            "test loss 0.5420111571571475\n"
          ]
        }
      ]
    },
    {
      "cell_type": "markdown",
      "source": [
        "<h3>4.5.2. Feature Importance from XGBoost Model</h3>"
      ],
      "metadata": {
        "id": "NLcKXaPVZt6Y"
      }
    },
    {
      "cell_type": "markdown",
      "source": [
        "<p> We can obtain the feature importance from the XGBoost Model very easily.<p>"
      ],
      "metadata": {
        "id": "qhd2eDNSVK3z"
      }
    },
    {
      "cell_type": "code",
      "source": [
        "# Reference: https://appliedaicourse.com/\n",
        "features = X_train.columns\n",
        "importances = x_cfl.feature_importances_\n",
        "indices = (np.argsort(importances))[-25:]\n",
        "plt.figure(figsize=(10,12))\n",
        "plt.title('Feature Importances')\n",
        "plt.barh(range(len(indices)), importances[indices], color='r', align='center')\n",
        "plt.yticks(range(len(indices)), [features[i] for i in indices])\n",
        "plt.xlabel('Relative Importance')\n",
        "plt.show()"
      ],
      "metadata": {
        "id": "rpcLYUAiaP9i",
        "colab": {
          "base_uri": "https://localhost:8080/",
          "height": 730
        },
        "outputId": "4523ad8c-55a9-4153-9f58-363be3b78582"
      },
      "execution_count": null,
      "outputs": [
        {
          "output_type": "display_data",
          "data": {
            "text/plain": [
              "<Figure size 720x864 with 1 Axes>"
            ],
            "image/png": "[encoded data removed]"
          },
          "metadata": {}
        }
      ]
    },
    {
      "cell_type": "markdown",
      "source": [
        "<h2> Observations on Feature Importance<h2>\n",
        "<p> Systolic blood pressure is the most important feature in predicting whether a patient has heart disease or not followed by cholesterol and age."
      ],
      "metadata": {
        "id": "ZtwifMY1nQOk"
      }
    },
    {
      "cell_type": "markdown",
      "metadata": {
        "id": "CCC9JTa5kaKJ"
      },
      "source": [
        "<h2>4.6. Comparison of Models </h2>"
      ]
    },
    {
      "cell_type": "code",
      "source": [
        "from prettytable import PrettyTable\n",
        "\n",
        "table = PrettyTable()\n",
        "table.field_names = ['Model','Train Error','CV Error','Test Error','Percentage of Misclassified Points']\n",
        "table.add_row(['KNN','0.523','0.571','0.568','27.84%'])\n",
        "table.add_row(['Logistic Regression','0.556','0.560','0.556','27.23%'])\n",
        "table.add_row(['Random Forest Classifier','0.309','0.574','0.572','28.66%'])\n",
        "table.add_row(['XGBoost','0.536','0.548','0.542','26.79%'])\n",
        "\n",
        "print(table)"
      ],
      "metadata": {
        "id": "Y4MpXwVokjIf",
        "colab": {
          "base_uri": "https://localhost:8080/"
        },
        "outputId": "66ec8abb-6ee5-4316-8f09-62b4f16bf2e3"
      },
      "execution_count": null,
      "outputs": [
        {
          "output_type": "stream",
          "name": "stdout",
          "text": [
            "+--------------------------+-------------+----------+------------+------------------------------------+\n",
            "|          Model           | Train Error | CV Error | Test Error | Percentage of Misclassified Points |\n",
            "+--------------------------+-------------+----------+------------+------------------------------------+\n",
            "|           KNN            |    0.523    |  0.571   |   0.568    |               27.84%               |\n",
            "|   Logistic Regression    |    0.556    |  0.560   |   0.556    |               27.23%               |\n",
            "| Random Forest Classifier |    0.309    |  0.574   |   0.572    |               28.66%               |\n",
            "|         XGBoost          |    0.536    |  0.548   |   0.542    |               26.79%               |\n",
            "+--------------------------+-------------+----------+------------+------------------------------------+\n"
          ]
        }
      ]
    },
    {
      "cell_type": "markdown",
      "source": [
        " <h1> 5. Conclusions</h1>\n",
        "\n",
        " <p> From the table above we conclude that XGBoost is the best model for predicting whether a patient has heart disease or not. It has the lowest value of test error or test log loss. It has the lowest percentage of misclassified points.\n",
        "\n",
        "\n"
      ],
      "metadata": {
        "id": "1WvKM9aXlykZ"
      }
    },
    {
      "cell_type": "markdown",
      "source": [
        " <h1> 6. References </h1>"
      ],
      "metadata": {
        "id": "h_Kl_BRq7TO6"
      }
    },
    {
      "cell_type": "markdown",
      "source": [
        " https://www.cdc.gov/heartdisease/facts.htm#:~:text=Heart%20disease%20is%20the%20leading,1%20in%20every%204%20deaths.\n",
        "\n",
        "https://www.cdc.gov/chronicdisease/resources/publications/factsheets/heart-disease-stroke.htm<p>\n",
        "\n",
        "https://appliedaicourse.com/\n"
      ],
      "metadata": {
        "id": "w8UCPGYDawHy"
      }
    }
  ]
}